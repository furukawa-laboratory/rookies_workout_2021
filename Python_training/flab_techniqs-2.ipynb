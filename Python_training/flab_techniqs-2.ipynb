{
  "nbformat": 4,
  "nbformat_minor": 0,
  "metadata": {
    "colab": {
      "name": "flab_techniqs.ipynb",
      "provenance": [],
      "collapsed_sections": []
    },
    "kernelspec": {
      "name": "python3",
      "display_name": "Python 3"
    },
    "language_info": {
      "name": "python"
    }
  },
  "cells": [
    {
      "cell_type": "code",
      "metadata": {
        "id": "lCMu0QMuE0jm"
      },
      "source": [
        "# numpyをimportします． as npで短縮してnpという名前で使うのが一般的です．\n",
        "import numpy as np"
      ],
      "execution_count": 1,
      "outputs": []
    },
    {
      "cell_type": "code",
      "metadata": {
        "colab": {
          "base_uri": "https://localhost:8080/"
        },
        "id": "YL3JgMojFI5P",
        "outputId": "d051485a-771b-4f74-9170-2ffa30a1100f"
      },
      "source": [
        "# 5次元の単位行列を作ります．\n",
        "A = np.eye(5)\n",
        "\n",
        "# 中身を確認します．\n",
        "print(A)\n",
        "# 配列のサイズを確認します． (5, 5)は 5x５の行列になっているという意味です． \n",
        "# また， jupyterではセルの最後の行はprint()と括らなくても出力されます．\n",
        "A.shape"
      ],
      "execution_count": 3,
      "outputs": [
        {
          "output_type": "stream",
          "text": [
            "[[1. 0. 0. 0. 0.]\n",
            " [0. 1. 0. 0. 0.]\n",
            " [0. 0. 1. 0. 0.]\n",
            " [0. 0. 0. 1. 0.]\n",
            " [0. 0. 0. 0. 1.]]\n"
          ],
          "name": "stdout"
        },
        {
          "output_type": "execute_result",
          "data": {
            "text/plain": [
              "(5, 5)"
            ]
          },
          "metadata": {
            "tags": []
          },
          "execution_count": 3
        }
      ]
    },
    {
      "cell_type": "code",
      "metadata": {
        "colab": {
          "base_uri": "https://localhost:8080/"
        },
        "id": "H7uAps5-FNRQ",
        "outputId": "0c528a16-088d-4c69-b836-fa9fb8bb19db"
      },
      "source": [
        "#Matplotib\n",
        "import matplotlib.pyplot as plt\n",
        "N = 10 #データ数\n",
        "D = 2 #次元数\n",
        "\n",
        "#２次元データをN個作ります\n",
        "X = np.arange(N*D).reshape(N,D)\n",
        "print(X,X.shape)"
      ],
      "execution_count": 4,
      "outputs": [
        {
          "output_type": "stream",
          "text": [
            "[[ 0  1]\n",
            " [ 2  3]\n",
            " [ 4  5]\n",
            " [ 6  7]\n",
            " [ 8  9]\n",
            " [10 11]\n",
            " [12 13]\n",
            " [14 15]\n",
            " [16 17]\n",
            " [18 19]] (10, 2)\n"
          ],
          "name": "stdout"
        }
      ]
    },
    {
      "cell_type": "code",
      "metadata": {
        "colab": {
          "base_uri": "https://localhost:8080/",
          "height": 282
        },
        "id": "ejBP7cCWHIm_",
        "outputId": "41398afc-1174-4f6b-fd9b-caff0540c7e9"
      },
      "source": [
        "# 散布図(scatter)で描画します． \n",
        "## 第一引数にはx座標の値のベクトル．第二引数にはy座標の値のベクトルをいれます．\n",
        "plt.scatter(X[:,0], X[:,1], marker='x')\n",
        "[plt.text(X[n,0], X[n,1], \"(\"+str(X[n,0])+\",\"+str(X[n,1])+\")\") for n in range(N)]\n",
        "print(\"\")"
      ],
      "execution_count": 5,
      "outputs": [
        {
          "output_type": "stream",
          "text": [
            "\n"
          ],
          "name": "stdout"
        },
        {
          "output_type": "display_data",
          "data": {
            "image/png": "[encoded data removed]",
            "text/plain": [
              "<Figure size 432x288 with 1 Axes>"
            ]
          },
          "metadata": {
            "tags": [],
            "needs_background": "light"
          }
        }
      ]
    },
    {
      "cell_type": "code",
      "metadata": {
        "id": "wHSK6RxPKjDL"
      },
      "source": [
        "import jax,jaxlib"
      ],
      "execution_count": 6,
      "outputs": []
    },
    {
      "cell_type": "code",
      "metadata": {
        "id": "q5J_u_O-KxVT"
      },
      "source": [
        "import jax,jaxlib"
      ],
      "execution_count": 7,
      "outputs": []
    },
    {
      "cell_type": "code",
      "metadata": {
        "colab": {
          "base_uri": "https://localhost:8080/"
        },
        "id": "QLTo52nxLZTZ",
        "outputId": "afa98413-72df-4be0-920f-e015568569a5"
      },
      "source": [
        "#Reshape\n",
        "# xxx, yyy を適当な整数に変えて実行してください．\n",
        "#N, D = xxx, yyy\n",
        "N, D = 8, 2\n",
        "\n",
        "# NxD次元ベクトルを作ります．\n",
        "X = np.arange(N*D)\n",
        "print(\"Xのshapeは\", X.shape,\"すなわち\", N*D,\"次元ベクトル（\",N*D,\"個要素がある）ということです．\")\n",
        "print(X)\n",
        "X_m = X.reshape(N,D)\n",
        "print(\"\\n\")\n",
        "print(\"これに対しN, D =\",N,\",\",D,\"として X.reshape(N,D)とすると\", X_m.shape,\"の行列になります．\")"
      ],
      "execution_count": 8,
      "outputs": [
        {
          "output_type": "stream",
          "text": [
            "Xのshapeは (16,) すなわち 16 次元ベクトル（ 16 個要素がある）ということです．\n",
            "[ 0  1  2  3  4  5  6  7  8  9 10 11 12 13 14 15]\n",
            "\n",
            "\n",
            "これに対しN, D = 8 , 2 として X.reshape(N,D)とすると (8, 2) の行列になります．\n"
          ],
          "name": "stdout"
        }
      ]
    },
    {
      "cell_type": "code",
      "metadata": {
        "colab": {
          "base_uri": "https://localhost:8080/"
        },
        "id": "M4u4imYQLl3c",
        "outputId": "dac6bb97-6017-4136-fc6d-f372dbbb3be1"
      },
      "source": [
        "print(\"また，逆にベクトルに戻すには以下のようにします．\")\n",
        "\n",
        "print('X.reshape(-1)', X.reshape(-1))"
      ],
      "execution_count": null,
      "outputs": [
        {
          "output_type": "stream",
          "text": [
            "また，逆にベクトルに戻すには以下のようにします．\n",
            "X.reshape(-1) [ 0  1  2  3  4  5  6  7  8  9 10 11 12 13 14 15]\n"
          ],
          "name": "stdout"
        }
      ]
    },
    {
      "cell_type": "code",
      "metadata": {
        "colab": {
          "base_uri": "https://localhost:8080/"
        },
        "id": "LULxPt7DLpiw",
        "outputId": "776b6a00-39c4-4e88-e6b4-cf58f4d475fb"
      },
      "source": [
        "#Broadcast\n",
        "I = 3\n",
        "J = 4\n",
        "A = np.arange(I)[:, None] + 1\n",
        "print(\"Aのshapeは\",A.shape,\" で，A自体は\",'\\n',A, \"\\n\")\n",
        "B = np.arange(I*J).reshape(I,J)\n",
        "print(\"Bのshapeは\",B.shape,\" で，B自体は\",'\\n', B, \"\\n\")\n",
        "\n",
        "print(\"この行列A,Bに対して B-A という演算をすると\",\"\\n\", B - A,\"となります．\")\n",
        "\n",
        "# B - A"
      ],
      "execution_count": null,
      "outputs": [
        {
          "output_type": "stream",
          "text": [
            "Aのshapeは (3, 1)  で，A自体は \n",
            " [[1]\n",
            " [2]\n",
            " [3]] \n",
            "\n",
            "Bのshapeは (3, 4)  で，B自体は \n",
            " [[ 0  1  2  3]\n",
            " [ 4  5  6  7]\n",
            " [ 8  9 10 11]] \n",
            "\n",
            "この行列A,Bに対して B-A という演算をすると \n",
            " [[-1  0  1  2]\n",
            " [ 2  3  4  5]\n",
            " [ 5  6  7  8]] となります．\n"
          ],
          "name": "stdout"
        }
      ]
    },
    {
      "cell_type": "code",
      "metadata": {
        "colab": {
          "base_uri": "https://localhost:8080/"
        },
        "id": "S92xByvML_ZS",
        "outputId": "2c2c5d44-8c5f-4b79-be0d-57548af4fad6"
      },
      "source": [
        "print(\"具体的には，以下のような演算をします．\")\n",
        "A_hat = np.tile(A, J)\n",
        "print(\"A_hat:\",\"\\n\",A_hat)\n",
        "print(\"B - A_hat:\", \"\\n\", B - A_hat,\"\\n\", \"先ほどのB-Aの演算と一致します．\")"
      ],
      "execution_count": null,
      "outputs": [
        {
          "output_type": "stream",
          "text": [
            "具体的には，以下のような演算をします．\n",
            "A_hat: \n",
            " [[1 1 1 1]\n",
            " [2 2 2 2]\n",
            " [3 3 3 3]]\n",
            "B - A_hat: \n",
            " [[-1  0  1  2]\n",
            " [ 2  3  4  5]\n",
            " [ 5  6  7  8]] \n",
            " 先ほどのB-Aの演算と一致します．\n"
          ],
          "name": "stdout"
        }
      ]
    },
    {
      "cell_type": "code",
      "metadata": {
        "colab": {
          "base_uri": "https://localhost:8080/"
        },
        "id": "XO_RF7sbMv17",
        "outputId": "29328b4b-4dec-4c24-f18f-e7a7fd9762db"
      },
      "source": [
        "C = np.arange(J)[None, :]\n",
        "print(C)\n",
        "B * C"
      ],
      "execution_count": null,
      "outputs": [
        {
          "output_type": "stream",
          "text": [
            "[[0 1 2 3]]\n"
          ],
          "name": "stdout"
        },
        {
          "output_type": "execute_result",
          "data": {
            "text/plain": [
              "array([[ 0,  1,  4,  9],\n",
              "       [ 0,  5, 12, 21],\n",
              "       [ 0,  9, 20, 33]])"
            ]
          },
          "metadata": {
            "tags": []
          },
          "execution_count": 14
        }
      ]
    },
    {
      "cell_type": "code",
      "metadata": {
        "colab": {
          "base_uri": "https://localhost:8080/"
        },
        "id": "nDFNaR9cO3fv",
        "outputId": "cb86b316-bdaf-4222-d701-c42d5a2b6e3c"
      },
      "source": [
        "K = 2\n",
        "D = np.arange(I*J*K).reshape(I,J,K)\n",
        "E1 = np.arange(I*J).reshape(I,J,1)\n",
        "E2 = np.arange(I*K).reshape(I,1,K)\n",
        "print(D-E1,\"\\n\",D-E2)"
      ],
      "execution_count": null,
      "outputs": [
        {
          "output_type": "stream",
          "text": [
            "[[[ 0  1]\n",
            "  [ 1  2]\n",
            "  [ 2  3]\n",
            "  [ 3  4]]\n",
            "\n",
            " [[ 4  5]\n",
            "  [ 5  6]\n",
            "  [ 6  7]\n",
            "  [ 7  8]]\n",
            "\n",
            " [[ 8  9]\n",
            "  [ 9 10]\n",
            "  [10 11]\n",
            "  [11 12]]] \n",
            " [[[ 0  0]\n",
            "  [ 2  2]\n",
            "  [ 4  4]\n",
            "  [ 6  6]]\n",
            "\n",
            " [[ 6  6]\n",
            "  [ 8  8]\n",
            "  [10 10]\n",
            "  [12 12]]\n",
            "\n",
            " [[12 12]\n",
            "  [14 14]\n",
            "  [16 16]\n",
            "  [18 18]]]\n"
          ],
          "name": "stdout"
        }
      ]
    },
    {
      "cell_type": "code",
      "metadata": {
        "colab": {
          "base_uri": "https://localhost:8080/",
          "height": 282
        },
        "id": "U_OiBJFYRlxg",
        "outputId": "7b3c239d-787d-49f4-9452-0f6db4025051"
      },
      "source": [
        "#Meshgrid\n",
        "K = 11\n",
        "A = np.linspace(-1,1,K)\n",
        "B = np.linspace(-2,2,K)\n",
        "plt.plot([A[-1], A[0]], [0,0], color='black', alpha=0.4)\n",
        "plt.plot([0,0],[B[-1], B[0]], color='black', alpha=0.4)\n",
        "plt.scatter(A,np.zeros(A.shape), color='orange', marker='x')\n",
        "plt.scatter(np.zeros(B.shape),B, color='g', marker='x')"
      ],
      "execution_count": null,
      "outputs": [
        {
          "output_type": "execute_result",
          "data": {
            "text/plain": [
              "<matplotlib.collections.PathCollection at 0x7f31880b7990>"
            ]
          },
          "metadata": {
            "tags": []
          },
          "execution_count": 16
        },
        {
          "output_type": "display_data",
          "data": {
            "image/png": "[encoded data removed]",
            "text/plain": [
              "<Figure size 432x288 with 1 Axes>"
            ]
          },
          "metadata": {
            "tags": [],
            "needs_background": "light"
          }
        }
      ]
    },
    {
      "cell_type": "code",
      "metadata": {
        "colab": {
          "base_uri": "https://localhost:8080/",
          "height": 282
        },
        "id": "g_LBtoJeRtfN",
        "outputId": "b2bc6b42-9311-487c-92b8-1ee8b350f80c"
      },
      "source": [
        "plt.scatter(A,np.zeros(A.shape), color='orange', marker='x')\n",
        "plt.scatter(np.zeros(B.shape),B, color='g', marker='x')\n",
        "[plt.plot(np.tile(A[i],K), B, color='orange') for i in range(K)]\n",
        "[plt.plot(A, np.tile(B[i], K),  color='g') for i in range(K)]\n",
        "print(\"この緑線とオレンジ線の交点の座標を求めます．\")"
      ],
      "execution_count": null,
      "outputs": [
        {
          "output_type": "stream",
          "text": [
            "この緑線とオレンジ線の交点の座標を求めます．\n"
          ],
          "name": "stdout"
        },
        {
          "output_type": "display_data",
          "data": {
            "image/png": "[encoded data removed]",
            "text/plain": [
              "<Figure size 432x288 with 1 Axes>"
            ]
          },
          "metadata": {
            "tags": [],
            "needs_background": "light"
          }
        }
      ]
    },
    {
      "cell_type": "code",
      "metadata": {
        "colab": {
          "base_uri": "https://localhost:8080/"
        },
        "id": "FoxG_nrvR51u",
        "outputId": "55407e01-2c4e-43ad-f4dd-c8f15508d472"
      },
      "source": [
        "XX, YY = np.meshgrid(A,B)\n",
        "\n",
        "print(\"二つのベクトルを入力すると二つの行列が返ってきます．\")\n",
        "print(\"XXのshapeは\", XX.shape, 'YYのshapeは', YY.shape, \"となります．\")\n",
        "print(\"XX\")\n",
        "print(XX)\n",
        "print(\"YY\")\n",
        "print(YY)"
      ],
      "execution_count": null,
      "outputs": [
        {
          "output_type": "stream",
          "text": [
            "二つのベクトルを入力すると二つの行列が返ってきます．\n",
            "XXのshapeは (11, 11) YYのshapeは (11, 11) となります．\n",
            "XX\n",
            "[[-1.  -0.8 -0.6 -0.4 -0.2  0.   0.2  0.4  0.6  0.8  1. ]\n",
            " [-1.  -0.8 -0.6 -0.4 -0.2  0.   0.2  0.4  0.6  0.8  1. ]\n",
            " [-1.  -0.8 -0.6 -0.4 -0.2  0.   0.2  0.4  0.6  0.8  1. ]\n",
            " [-1.  -0.8 -0.6 -0.4 -0.2  0.   0.2  0.4  0.6  0.8  1. ]\n",
            " [-1.  -0.8 -0.6 -0.4 -0.2  0.   0.2  0.4  0.6  0.8  1. ]\n",
            " [-1.  -0.8 -0.6 -0.4 -0.2  0.   0.2  0.4  0.6  0.8  1. ]\n",
            " [-1.  -0.8 -0.6 -0.4 -0.2  0.   0.2  0.4  0.6  0.8  1. ]\n",
            " [-1.  -0.8 -0.6 -0.4 -0.2  0.   0.2  0.4  0.6  0.8  1. ]\n",
            " [-1.  -0.8 -0.6 -0.4 -0.2  0.   0.2  0.4  0.6  0.8  1. ]\n",
            " [-1.  -0.8 -0.6 -0.4 -0.2  0.   0.2  0.4  0.6  0.8  1. ]\n",
            " [-1.  -0.8 -0.6 -0.4 -0.2  0.   0.2  0.4  0.6  0.8  1. ]]\n",
            "YY\n",
            "[[-2.  -2.  -2.  -2.  -2.  -2.  -2.  -2.  -2.  -2.  -2. ]\n",
            " [-1.6 -1.6 -1.6 -1.6 -1.6 -1.6 -1.6 -1.6 -1.6 -1.6 -1.6]\n",
            " [-1.2 -1.2 -1.2 -1.2 -1.2 -1.2 -1.2 -1.2 -1.2 -1.2 -1.2]\n",
            " [-0.8 -0.8 -0.8 -0.8 -0.8 -0.8 -0.8 -0.8 -0.8 -0.8 -0.8]\n",
            " [-0.4 -0.4 -0.4 -0.4 -0.4 -0.4 -0.4 -0.4 -0.4 -0.4 -0.4]\n",
            " [ 0.   0.   0.   0.   0.   0.   0.   0.   0.   0.   0. ]\n",
            " [ 0.4  0.4  0.4  0.4  0.4  0.4  0.4  0.4  0.4  0.4  0.4]\n",
            " [ 0.8  0.8  0.8  0.8  0.8  0.8  0.8  0.8  0.8  0.8  0.8]\n",
            " [ 1.2  1.2  1.2  1.2  1.2  1.2  1.2  1.2  1.2  1.2  1.2]\n",
            " [ 1.6  1.6  1.6  1.6  1.6  1.6  1.6  1.6  1.6  1.6  1.6]\n",
            " [ 2.   2.   2.   2.   2.   2.   2.   2.   2.   2.   2. ]]\n"
          ],
          "name": "stdout"
        }
      ]
    },
    {
      "cell_type": "code",
      "metadata": {
        "colab": {
          "base_uri": "https://localhost:8080/"
        },
        "id": "Ut1hpXZ8TSHI",
        "outputId": "50a7bbbf-097e-4996-c789-86dc5373850a"
      },
      "source": [
        "xx = XX.reshape(-1)\n",
        "yy = YY.reshape(-1)\n",
        "M = np.concatenate([xx[:,None], yy[:,None]], axis=1)\n",
        "M.shape"
      ],
      "execution_count": null,
      "outputs": [
        {
          "output_type": "execute_result",
          "data": {
            "text/plain": [
              "(121, 2)"
            ]
          },
          "metadata": {
            "tags": []
          },
          "execution_count": 19
        }
      ]
    },
    {
      "cell_type": "code",
      "metadata": {
        "colab": {
          "base_uri": "https://localhost:8080/",
          "height": 282
        },
        "id": "29oH7aaxTVUv",
        "outputId": "8d38d6d1-2bf4-4c5b-fb7d-fee933eb97eb"
      },
      "source": [
        "plt.scatter(A,np.zeros(A.shape), color='orange', marker='x')\n",
        "plt.scatter(np.zeros(B.shape),B, color='g', marker='x')\n",
        "plt.scatter(M[:, 0], M[:, 1], alpha=0.4, marker='D')"
      ],
      "execution_count": null,
      "outputs": [
        {
          "output_type": "execute_result",
          "data": {
            "text/plain": [
              "<matplotlib.collections.PathCollection at 0x7f3187f78790>"
            ]
          },
          "metadata": {
            "tags": []
          },
          "execution_count": 20
        },
        {
          "output_type": "display_data",
          "data": {
            "image/png": "[encoded data removed]",
            "text/plain": [
              "<Figure size 432x288 with 1 Axes>"
            ]
          },
          "metadata": {
            "tags": [],
            "needs_background": "light"
          }
        }
      ]
    },
    {
      "cell_type": "code",
      "metadata": {
        "colab": {
          "base_uri": "https://localhost:8080/",
          "height": 282
        },
        "id": "LtHEa2QLTZnm",
        "outputId": "e8728791-59e9-4d80-ff94-8e45b692dee5"
      },
      "source": [
        "#Argmin, Argmax\n",
        "plt.scatter(M[:, 0], M[:, 1], alpha=0.4, marker='D')\n",
        "[plt.text(M[n, 0], M[n, 1], str(n)) for n in range(K*K)]\n",
        "print(\"\")"
      ],
      "execution_count": null,
      "outputs": [
        {
          "output_type": "stream",
          "text": [
            "\n"
          ],
          "name": "stdout"
        },
        {
          "output_type": "display_data",
          "data": {
            "image/png": "[encoded data removed]",
            "text/plain": [
              "<Figure size 432x288 with 1 Axes>"
            ]
          },
          "metadata": {
            "tags": [],
            "needs_background": "light"
          }
        }
      ]
    },
    {
      "cell_type": "code",
      "metadata": {
        "colab": {
          "base_uri": "https://localhost:8080/",
          "height": 282
        },
        "id": "D_i8AKvtTw5r",
        "outputId": "c34fdb45-dc23-4e24-8d2f-85ee46848f71"
      },
      "source": [
        "np.random.seed(6)\n",
        "x = np.random.rand(2).reshape(1,2)\n",
        "\n",
        "plt.scatter(M[:, 0], M[:, 1], alpha=0.4, marker='D')\n",
        "plt.scatter(x[:, 0], x[:, 1], s=80, color='g', marker='x', label='$\\mathbf{x}_n$', linewidths=4)\n",
        "plt.legend()\n",
        "# plt.text(X[:, 0]+0.05, X[:, 1], \"$\\mathbf{x}^*$\", color='g', size=25)"
      ],
      "execution_count": null,
      "outputs": [
        {
          "output_type": "execute_result",
          "data": {
            "text/plain": [
              "<matplotlib.legend.Legend at 0x7f3187d92850>"
            ]
          },
          "metadata": {
            "tags": []
          },
          "execution_count": 22
        },
        {
          "output_type": "display_data",
          "data": {
            "image/png": "[encoded data removed]",
            "text/plain": [
              "<Figure size 432x288 with 1 Axes>"
            ]
          },
          "metadata": {
            "tags": [],
            "needs_background": "light"
          }
        }
      ]
    },
    {
      "cell_type": "code",
      "metadata": {
        "colab": {
          "base_uri": "https://localhost:8080/"
        },
        "id": "dFBHkcf5ULcG",
        "outputId": "dcc18546-6edd-4ae6-d774-70f5eba3e793"
      },
      "source": [
        "print(x.shape, M.shape)\n",
        "Dist = np.sum((x[:, None, :] - M[None, :, :])**2, axis=2)\n",
        "print(Dist.shape)\n",
        "\n",
        "k_star = np.argmin(Dist)\n",
        "\n",
        "k_star"
      ],
      "execution_count": null,
      "outputs": [
        {
          "output_type": "stream",
          "text": [
            "(1, 2) (121, 2)\n",
            "(1, 121)\n"
          ],
          "name": "stdout"
        },
        {
          "output_type": "execute_result",
          "data": {
            "text/plain": [
              "75"
            ]
          },
          "metadata": {
            "tags": []
          },
          "execution_count": 23
        }
      ]
    },
    {
      "cell_type": "code",
      "metadata": {
        "colab": {
          "base_uri": "https://localhost:8080/",
          "height": 282
        },
        "id": "MmWTxpJ5UX6X",
        "outputId": "4d669759-c5a9-46d0-fadc-bc9f9d459fc0"
      },
      "source": [
        "plt.scatter(M[:, 0], M[:, 1], alpha=0.4, marker='D', s=10)\n",
        "\n",
        "z_n = M[k_star] \n",
        "plt.text(z_n[0], z_n[1], str(k_star), fontsize=13) \n",
        "# plt.text(M[k_star, 0], M[k_star, 1], str(k_star), fontsize=13) \n",
        "\n",
        "plt.scatter(z_n[0], z_n[1],  marker='D', s=40, color='g')\n",
        "plt.scatter(x[:, 0], x[:, 1], s=40, color='g', marker='x', label='$\\mathbf{x}_n$', linewidths=2)\n",
        "print(\"\")"
      ],
      "execution_count": null,
      "outputs": [
        {
          "output_type": "stream",
          "text": [
            "\n"
          ],
          "name": "stdout"
        },
        {
          "output_type": "display_data",
          "data": {
            "image/png": "[encoded data removed]",
            "text/plain": [
              "<Figure size 432x288 with 1 Axes>"
            ]
          },
          "metadata": {
            "tags": [],
            "needs_background": "light"
          }
        }
      ]
    },
    {
      "cell_type": "code",
      "metadata": {
        "colab": {
          "base_uri": "https://localhost:8080/",
          "height": 265
        },
        "id": "xj9jwTJkUcjL",
        "outputId": "f75064f0-1cba-4337-8ff4-0d9e33bf244c"
      },
      "source": [
        "N = 9\n",
        "X = np.random.rand(N*2).reshape(N,2)\n",
        "cmap = plt.get_cmap(\"tab10\") \n",
        "\n",
        "plt.scatter(M[:, 0], M[:, 1], alpha=0.4, marker='D', s=10)\n",
        "for n in range(N):\n",
        "    plt.scatter(X[n, 0], X[n, 1], color=cmap(n), s=50, marker='x', linewidths=2)"
      ],
      "execution_count": null,
      "outputs": [
        {
          "output_type": "display_data",
          "data": {
            "image/png": "[encoded data removed]",
            "text/plain": [
              "<Figure size 432x288 with 1 Axes>"
            ]
          },
          "metadata": {
            "tags": [],
            "needs_background": "light"
          }
        }
      ]
    },
    {
      "cell_type": "code",
      "metadata": {
        "colab": {
          "base_uri": "https://localhost:8080/"
        },
        "id": "Sm82yaWaUoJk",
        "outputId": "fae08f26-d3bb-41f8-c1cb-c56a6b7f8d2b"
      },
      "source": [
        "print(X.shape, M.shape)\n",
        "Dist = np.sum((X[:, None, :] - M[None, :, :])**2, axis=2)\n",
        "print(Dist.shape)\n",
        "\n",
        "K_star = np.argmin(Dist, axis=1)\n",
        "\n",
        "K_star"
      ],
      "execution_count": null,
      "outputs": [
        {
          "output_type": "stream",
          "text": [
            "(9, 2) (121, 2)\n",
            "(9, 121)\n"
          ],
          "name": "stdout"
        },
        {
          "output_type": "execute_result",
          "data": {
            "text/plain": [
              "array([64, 72, 74, 84, 84, 74, 85, 75, 86])"
            ]
          },
          "metadata": {
            "tags": []
          },
          "execution_count": 26
        }
      ]
    },
    {
      "cell_type": "code",
      "metadata": {
        "colab": {
          "base_uri": "https://localhost:8080/",
          "height": 265
        },
        "id": "Qbd10Y3zUri3",
        "outputId": "71c49564-d390-47c3-e3e3-f6ea99d6ba10"
      },
      "source": [
        "plt.scatter(M[:, 0], M[:, 1], alpha=0.4, marker='D', s=10)\n",
        "for n in range(N):\n",
        "    plt.scatter(X[n, 0], X[n, 1], color=cmap(n), s=50, marker='x', linewidths=2)\n",
        "    \n",
        "    z_n = M[K_star[n]]\n",
        "    \n",
        "    plt.scatter(z_n[0], z_n[1], marker='D', s=40, color=cmap(n))\n",
        "#     plt.scatter(M[K_star[n], 0], M[K_star[n], 1], marker='D', s=40, color=cmap(n))"
      ],
      "execution_count": null,
      "outputs": [
        {
          "output_type": "display_data",
          "data": {
            "image/png": "[encoded data removed]",
            "text/plain": [
              "<Figure size 432x288 with 1 Axes>"
            ]
          },
          "metadata": {
            "tags": [],
            "needs_background": "light"
          }
        }
      ]
    },
    {
      "cell_type": "code",
      "metadata": {
        "colab": {
          "base_uri": "https://localhost:8080/"
        },
        "id": "0dy192YUUyrw",
        "outputId": "cfd01d8d-ebad-4603-9c5d-240ec65f8a40"
      },
      "source": [
        "#Fancy index\n",
        "Z = M[K_star]\n",
        "Z, Z.shape, M[0:14,:], M.shape, K_star, len(K_star)"
      ],
      "execution_count": null,
      "outputs": [
        {
          "output_type": "execute_result",
          "data": {
            "text/plain": [
              "(array([[0.8, 0. ],\n",
              "        [0.2, 0.4],\n",
              "        [0.6, 0.4],\n",
              "        [0.4, 0.8],\n",
              "        [0.4, 0.8],\n",
              "        [0.6, 0.4],\n",
              "        [0.6, 0.8],\n",
              "        [0.8, 0.4],\n",
              "        [0.8, 0.8]]), (9, 2), array([[-1. , -2. ],\n",
              "        [-0.8, -2. ],\n",
              "        [-0.6, -2. ],\n",
              "        [-0.4, -2. ],\n",
              "        [-0.2, -2. ],\n",
              "        [ 0. , -2. ],\n",
              "        [ 0.2, -2. ],\n",
              "        [ 0.4, -2. ],\n",
              "        [ 0.6, -2. ],\n",
              "        [ 0.8, -2. ],\n",
              "        [ 1. , -2. ],\n",
              "        [-1. , -1.6],\n",
              "        [-0.8, -1.6],\n",
              "        [-0.6, -1.6]]), (121,\n",
              "  2), array([64, 72, 74, 84, 84, 74, 85, 75, 86]), 9)"
            ]
          },
          "metadata": {
            "tags": []
          },
          "execution_count": 28
        }
      ]
    },
    {
      "cell_type": "code",
      "metadata": {
        "id": "8ToNzYGeVNpM",
        "colab": {
          "base_uri": "https://localhost:8080/"
        },
        "outputId": "c570e000-8636-4b4d-f60e-bdb85b63bbf0"
      },
      "source": [
        "#演習問題0 Reshape\n",
        "N, D = 7,5\n",
        "X = np.arange(N*D)\n",
        "print(\"Xのshapeは\",X.shape,\"すなわち\",N*D,\"次元ベクトル(\",N*D,\")個要素がある\")\n",
        "print(X)\n",
        "X_m=X.reshape(N,D)\n",
        "print(\"\\n\")\n",
        "print(\"これに対しN, D =\",N,\",\",D,\"として X.reshape(N,D)とすると\", X_m.shape,\"の行列になります．\")\n",
        "print('X.reshape\\n',X.reshape(7,5),)\n"
      ],
      "execution_count": 16,
      "outputs": [
        {
          "output_type": "stream",
          "text": [
            "Xのshapeは (35,) すなわち 35 次元ベクトル( 35 )個要素がある\n",
            "[ 0  1  2  3  4  5  6  7  8  9 10 11 12 13 14 15 16 17 18 19 20 21 22 23\n",
            " 24 25 26 27 28 29 30 31 32 33 34]\n",
            "\n",
            "\n",
            "これに対しN, D = 7 , 5 として X.reshape(N,D)とすると (7, 5) の行列になります．\n",
            "X.reshape\n",
            " [[ 0  1  2  3  4]\n",
            " [ 5  6  7  8  9]\n",
            " [10 11 12 13 14]\n",
            " [15 16 17 18 19]\n",
            " [20 21 22 23 24]\n",
            " [25 26 27 28 29]\n",
            " [30 31 32 33 34]]\n"
          ],
          "name": "stdout"
        }
      ]
    },
    {
      "cell_type": "code",
      "metadata": {
        "colab": {
          "base_uri": "https://localhost:8080/"
        },
        "id": "UmMM_30gDykS",
        "outputId": "9f85bd6c-03de-48de-edc6-d2ff4dc83f62"
      },
      "source": [
        "print(\"また，逆にベクトルに戻すには以下のようにします．\")\n",
        "\n",
        "print('X.reshape(-1)', X.reshape(-1))"
      ],
      "execution_count": 12,
      "outputs": [
        {
          "output_type": "stream",
          "text": [
            "また，逆にベクトルに戻すには以下のようにします．\n",
            "X.reshape(-1) [ 0  1  2  3  4  5  6  7  8  9 10 11 12 13 14 15 16 17 18 19 20 21 22 23\n",
            " 24 25 26 27 28 29 30 31 32 33 34]\n"
          ],
          "name": "stdout"
        }
      ]
    },
    {
      "cell_type": "code",
      "metadata": {
        "colab": {
          "base_uri": "https://localhost:8080/"
        },
        "id": "9-0DryyvsqZA",
        "outputId": "e677d726-a20e-469c-bc8d-7f830e3fc912"
      },
      "source": [
        "#演習1-a Broadcast 列方向のコピーではなく，行方向のコピーが行われるBroadcastの計算を実装せよ（任意の四則演算）．\n",
        "I = 3\n",
        "J = 4\n",
        "A = np.arange(I)[:, None] + 1\n",
        "print(\"Aのshapeは\",A.shape,\" で，A自体は\",'\\n',A, \"\\n\")\n",
        "B = np.arange(I*J).reshape(I,J)\n",
        "print(\"Bのshapeは\",B.shape,\" で，B自体は\",'\\n', B, \"\\n\")\n",
        "\n",
        "print(\"この行列A,Bに対して B-A という演算をすると\",\"\\n\", B - A,\"となります．\")\n",
        "\n",
        "# B - A\n"
      ],
      "execution_count": 19,
      "outputs": [
        {
          "output_type": "stream",
          "text": [
            "Aのshapeは (3, 1)  で，A自体は \n",
            " [[1]\n",
            " [2]\n",
            " [3]] \n",
            "\n",
            "Bのshapeは (3, 4)  で，B自体は \n",
            " [[ 0  1  2  3]\n",
            " [ 4  5  6  7]\n",
            " [ 8  9 10 11]] \n",
            "\n",
            "この行列A,Bに対して B-A という演算をすると \n",
            " [[-1  0  1  2]\n",
            " [ 2  3  4  5]\n",
            " [ 5  6  7  8]] となります．\n"
          ],
          "name": "stdout"
        }
      ]
    },
    {
      "cell_type": "code",
      "metadata": {
        "colab": {
          "base_uri": "https://localhost:8080/"
        },
        "id": "BbSJixAVvMym",
        "outputId": "22d073f4-7f89-4175-9e1a-bb7d6beae914"
      },
      "source": [
        "C = np.arange(J)[None,:]\n",
        "print(\"C:\",\"\\n\",C)\n",
        "C_hat=np.tile(C, I)\n",
        "print(\"C_hat:\",\"\\n\",C_hat)\n",
        "C_hat.shape\n",
        "C_hat_r = C_hat.reshape(-1,J)\n",
        "print(\"C_hat.reshape(-1)\\n\", C_hat_r)\n",
        "print(\"B=\\n\",B)\n",
        "print(\"B * C_hat_r=\\n\",B * C_hat_r)\n",
        "B*C"
      ],
      "execution_count": 70,
      "outputs": [
        {
          "output_type": "stream",
          "text": [
            "C: \n",
            " [[0 1 2 3]]\n",
            "C_hat: \n",
            " [[0 1 2 3 0 1 2 3 0 1 2 3]]\n",
            "C_hat.reshape(-1)\n",
            " [[0 1 2 3]\n",
            " [0 1 2 3]\n",
            " [0 1 2 3]]\n",
            "B=\n",
            " [[ 0  1  2  3]\n",
            " [ 4  5  6  7]\n",
            " [ 8  9 10 11]]\n",
            "B * C_hat_r=\n",
            " [[ 0  1  4  9]\n",
            " [ 0  5 12 21]\n",
            " [ 0  9 20 33]]\n"
          ],
          "name": "stdout"
        },
        {
          "output_type": "execute_result",
          "data": {
            "text/plain": [
              "array([[ 0,  1,  4,  9],\n",
              "       [ 0,  5, 12, 21],\n",
              "       [ 0,  9, 20, 33]])"
            ]
          },
          "metadata": {
            "tags": []
          },
          "execution_count": 70
        }
      ]
    },
    {
      "cell_type": "code",
      "metadata": {
        "colab": {
          "base_uri": "https://localhost:8080/"
        },
        "id": "4tD7KR1Hz4Px",
        "outputId": "796e19f9-7925-4e87-abe8-abfa38fab7b0"
      },
      "source": [
        "#演習1-b 先ほどは行列（shapeが(I, J)のような変数）に対しての演算であった．3階のテンソルの変数（shapeが （I,J,K））に対して，任意のBroadcastの計算を実装せよ．\n",
        "K = 2\n",
        "D = np.arange(I*J*K).reshape(I,J,K)\n",
        "print(\"D=\\n\",D)\n",
        "E1 = np.arange(I*J).reshape(I,J,1)\n",
        "print(\"E1=\\n\",E1)\n",
        "E2 = np.arange(I*K).reshape(I,1,K)\n",
        "print(\"E2=\\n\",E2)\n",
        "print(\"D+E1=\\n\",D+E1,\"\\n\\nD-E2=\\n\",D-E2)"
      ],
      "execution_count": 71,
      "outputs": [
        {
          "output_type": "stream",
          "text": [
            "D=\n",
            " [[[ 0  1]\n",
            "  [ 2  3]\n",
            "  [ 4  5]\n",
            "  [ 6  7]]\n",
            "\n",
            " [[ 8  9]\n",
            "  [10 11]\n",
            "  [12 13]\n",
            "  [14 15]]\n",
            "\n",
            " [[16 17]\n",
            "  [18 19]\n",
            "  [20 21]\n",
            "  [22 23]]]\n",
            "E1=\n",
            " [[[ 0]\n",
            "  [ 1]\n",
            "  [ 2]\n",
            "  [ 3]]\n",
            "\n",
            " [[ 4]\n",
            "  [ 5]\n",
            "  [ 6]\n",
            "  [ 7]]\n",
            "\n",
            " [[ 8]\n",
            "  [ 9]\n",
            "  [10]\n",
            "  [11]]]\n",
            "E2=\n",
            " [[[0 1]]\n",
            "\n",
            " [[2 3]]\n",
            "\n",
            " [[4 5]]]\n",
            "D+E1=\n",
            " [[[ 0  1]\n",
            "  [ 3  4]\n",
            "  [ 6  7]\n",
            "  [ 9 10]]\n",
            "\n",
            " [[12 13]\n",
            "  [15 16]\n",
            "  [18 19]\n",
            "  [21 22]]\n",
            "\n",
            " [[24 25]\n",
            "  [27 28]\n",
            "  [30 31]\n",
            "  [33 34]]] \n",
            "\n",
            "D-E2=\n",
            " [[[ 0  0]\n",
            "  [ 2  2]\n",
            "  [ 4  4]\n",
            "  [ 6  6]]\n",
            "\n",
            " [[ 6  6]\n",
            "  [ 8  8]\n",
            "  [10 10]\n",
            "  [12 12]]\n",
            "\n",
            " [[12 12]\n",
            "  [14 14]\n",
            "  [16 16]\n",
            "  [18 18]]]\n"
          ],
          "name": "stdout"
        }
      ]
    },
    {
      "cell_type": "code",
      "metadata": {
        "colab": {
          "base_uri": "https://localhost:8080/",
          "height": 282
        },
        "id": "Ler1psoy3-6o",
        "outputId": "dc703304-2d1b-4e2e-8be6-4c6ba07a7f1f"
      },
      "source": [
        "#演習2 Meshgridの操作を任意のベクトルの格子点で実践せよ\n",
        "K = 15\n",
        "A = np.linspace(-3,3,K)\n",
        "B = np.linspace(-1,1,K)\n",
        "plt.plot([A[-1], A[0]], [0,0], color='black', alpha=0.4)\n",
        "plt.plot([0,0],[B[-1], B[0]], color='black', alpha=0.4)\n",
        "plt.scatter(A,np.zeros(A.shape), color='orange', marker='x')\n",
        "plt.scatter(np.zeros(B.shape),B, color='g', marker='x')\n",
        "\n",
        "plt.scatter(A,np.zeros(A.shape), color='orange', marker='x')\n",
        "plt.scatter(np.zeros(B.shape),B, color='g', marker='x')\n",
        "[plt.plot(np.tile(A[i],K), B, color='orange') for i in range(K)]\n",
        "[plt.plot(A, np.tile(B[i], K),  color='g') for i in range(K)]\n",
        "print(\"この緑線とオレンジ線の交点の座標を求めます．\")"
      ],
      "execution_count": 87,
      "outputs": [
        {
          "output_type": "stream",
          "text": [
            "この緑線とオレンジ線の交点の座標を求めます．\n"
          ],
          "name": "stdout"
        },
        {
          "output_type": "display_data",
          "data": {
            "image/png": "[encoded data removed]",
            "text/plain": [
              "<Figure size 432x288 with 1 Axes>"
            ]
          },
          "metadata": {
            "tags": [],
            "needs_background": "light"
          }
        }
      ]
    },
    {
      "cell_type": "code",
      "metadata": {
        "colab": {
          "base_uri": "https://localhost:8080/"
        },
        "id": "vMzFpd94txjg",
        "outputId": "fe91342c-53f9-45b7-fb8f-35ffc997481b"
      },
      "source": [
        "XX, YY = np.meshgrid(A,B)\n",
        "\n",
        "print(\"二つのベクトルを入力すると二つの行列が返ってきます．\")\n",
        "print(\"XXのshapeは\", XX.shape, 'YYのshapeは', YY.shape, \"となります．\")\n",
        "print(\"XX\")\n",
        "print(XX)\n",
        "print(\"YY\")\n",
        "print(YY)"
      ],
      "execution_count": 88,
      "outputs": [
        {
          "output_type": "stream",
          "text": [
            "二つのベクトルを入力すると二つの行列が返ってきます．\n",
            "XXのshapeは (15, 15) YYのshapeは (15, 15) となります．\n",
            "XX\n",
            "[[-3.         -2.57142857 -2.14285714 -1.71428571 -1.28571429 -0.85714286\n",
            "  -0.42857143  0.          0.42857143  0.85714286  1.28571429  1.71428571\n",
            "   2.14285714  2.57142857  3.        ]\n",
            " [-3.         -2.57142857 -2.14285714 -1.71428571 -1.28571429 -0.85714286\n",
            "  -0.42857143  0.          0.42857143  0.85714286  1.28571429  1.71428571\n",
            "   2.14285714  2.57142857  3.        ]\n",
            " [-3.         -2.57142857 -2.14285714 -1.71428571 -1.28571429 -0.85714286\n",
            "  -0.42857143  0.          0.42857143  0.85714286  1.28571429  1.71428571\n",
            "   2.14285714  2.57142857  3.        ]\n",
            " [-3.         -2.57142857 -2.14285714 -1.71428571 -1.28571429 -0.85714286\n",
            "  -0.42857143  0.          0.42857143  0.85714286  1.28571429  1.71428571\n",
            "   2.14285714  2.57142857  3.        ]\n",
            " [-3.         -2.57142857 -2.14285714 -1.71428571 -1.28571429 -0.85714286\n",
            "  -0.42857143  0.          0.42857143  0.85714286  1.28571429  1.71428571\n",
            "   2.14285714  2.57142857  3.        ]\n",
            " [-3.         -2.57142857 -2.14285714 -1.71428571 -1.28571429 -0.85714286\n",
            "  -0.42857143  0.          0.42857143  0.85714286  1.28571429  1.71428571\n",
            "   2.14285714  2.57142857  3.        ]\n",
            " [-3.         -2.57142857 -2.14285714 -1.71428571 -1.28571429 -0.85714286\n",
            "  -0.42857143  0.          0.42857143  0.85714286  1.28571429  1.71428571\n",
            "   2.14285714  2.57142857  3.        ]\n",
            " [-3.         -2.57142857 -2.14285714 -1.71428571 -1.28571429 -0.85714286\n",
            "  -0.42857143  0.          0.42857143  0.85714286  1.28571429  1.71428571\n",
            "   2.14285714  2.57142857  3.        ]\n",
            " [-3.         -2.57142857 -2.14285714 -1.71428571 -1.28571429 -0.85714286\n",
            "  -0.42857143  0.          0.42857143  0.85714286  1.28571429  1.71428571\n",
            "   2.14285714  2.57142857  3.        ]\n",
            " [-3.         -2.57142857 -2.14285714 -1.71428571 -1.28571429 -0.85714286\n",
            "  -0.42857143  0.          0.42857143  0.85714286  1.28571429  1.71428571\n",
            "   2.14285714  2.57142857  3.        ]\n",
            " [-3.         -2.57142857 -2.14285714 -1.71428571 -1.28571429 -0.85714286\n",
            "  -0.42857143  0.          0.42857143  0.85714286  1.28571429  1.71428571\n",
            "   2.14285714  2.57142857  3.        ]\n",
            " [-3.         -2.57142857 -2.14285714 -1.71428571 -1.28571429 -0.85714286\n",
            "  -0.42857143  0.          0.42857143  0.85714286  1.28571429  1.71428571\n",
            "   2.14285714  2.57142857  3.        ]\n",
            " [-3.         -2.57142857 -2.14285714 -1.71428571 -1.28571429 -0.85714286\n",
            "  -0.42857143  0.          0.42857143  0.85714286  1.28571429  1.71428571\n",
            "   2.14285714  2.57142857  3.        ]\n",
            " [-3.         -2.57142857 -2.14285714 -1.71428571 -1.28571429 -0.85714286\n",
            "  -0.42857143  0.          0.42857143  0.85714286  1.28571429  1.71428571\n",
            "   2.14285714  2.57142857  3.        ]\n",
            " [-3.         -2.57142857 -2.14285714 -1.71428571 -1.28571429 -0.85714286\n",
            "  -0.42857143  0.          0.42857143  0.85714286  1.28571429  1.71428571\n",
            "   2.14285714  2.57142857  3.        ]]\n",
            "YY\n",
            "[[-1.         -1.         -1.         -1.         -1.         -1.\n",
            "  -1.         -1.         -1.         -1.         -1.         -1.\n",
            "  -1.         -1.         -1.        ]\n",
            " [-0.85714286 -0.85714286 -0.85714286 -0.85714286 -0.85714286 -0.85714286\n",
            "  -0.85714286 -0.85714286 -0.85714286 -0.85714286 -0.85714286 -0.85714286\n",
            "  -0.85714286 -0.85714286 -0.85714286]\n",
            " [-0.71428571 -0.71428571 -0.71428571 -0.71428571 -0.71428571 -0.71428571\n",
            "  -0.71428571 -0.71428571 -0.71428571 -0.71428571 -0.71428571 -0.71428571\n",
            "  -0.71428571 -0.71428571 -0.71428571]\n",
            " [-0.57142857 -0.57142857 -0.57142857 -0.57142857 -0.57142857 -0.57142857\n",
            "  -0.57142857 -0.57142857 -0.57142857 -0.57142857 -0.57142857 -0.57142857\n",
            "  -0.57142857 -0.57142857 -0.57142857]\n",
            " [-0.42857143 -0.42857143 -0.42857143 -0.42857143 -0.42857143 -0.42857143\n",
            "  -0.42857143 -0.42857143 -0.42857143 -0.42857143 -0.42857143 -0.42857143\n",
            "  -0.42857143 -0.42857143 -0.42857143]\n",
            " [-0.28571429 -0.28571429 -0.28571429 -0.28571429 -0.28571429 -0.28571429\n",
            "  -0.28571429 -0.28571429 -0.28571429 -0.28571429 -0.28571429 -0.28571429\n",
            "  -0.28571429 -0.28571429 -0.28571429]\n",
            " [-0.14285714 -0.14285714 -0.14285714 -0.14285714 -0.14285714 -0.14285714\n",
            "  -0.14285714 -0.14285714 -0.14285714 -0.14285714 -0.14285714 -0.14285714\n",
            "  -0.14285714 -0.14285714 -0.14285714]\n",
            " [ 0.          0.          0.          0.          0.          0.\n",
            "   0.          0.          0.          0.          0.          0.\n",
            "   0.          0.          0.        ]\n",
            " [ 0.14285714  0.14285714  0.14285714  0.14285714  0.14285714  0.14285714\n",
            "   0.14285714  0.14285714  0.14285714  0.14285714  0.14285714  0.14285714\n",
            "   0.14285714  0.14285714  0.14285714]\n",
            " [ 0.28571429  0.28571429  0.28571429  0.28571429  0.28571429  0.28571429\n",
            "   0.28571429  0.28571429  0.28571429  0.28571429  0.28571429  0.28571429\n",
            "   0.28571429  0.28571429  0.28571429]\n",
            " [ 0.42857143  0.42857143  0.42857143  0.42857143  0.42857143  0.42857143\n",
            "   0.42857143  0.42857143  0.42857143  0.42857143  0.42857143  0.42857143\n",
            "   0.42857143  0.42857143  0.42857143]\n",
            " [ 0.57142857  0.57142857  0.57142857  0.57142857  0.57142857  0.57142857\n",
            "   0.57142857  0.57142857  0.57142857  0.57142857  0.57142857  0.57142857\n",
            "   0.57142857  0.57142857  0.57142857]\n",
            " [ 0.71428571  0.71428571  0.71428571  0.71428571  0.71428571  0.71428571\n",
            "   0.71428571  0.71428571  0.71428571  0.71428571  0.71428571  0.71428571\n",
            "   0.71428571  0.71428571  0.71428571]\n",
            " [ 0.85714286  0.85714286  0.85714286  0.85714286  0.85714286  0.85714286\n",
            "   0.85714286  0.85714286  0.85714286  0.85714286  0.85714286  0.85714286\n",
            "   0.85714286  0.85714286  0.85714286]\n",
            " [ 1.          1.          1.          1.          1.          1.\n",
            "   1.          1.          1.          1.          1.          1.\n",
            "   1.          1.          1.        ]]\n"
          ],
          "name": "stdout"
        }
      ]
    },
    {
      "cell_type": "code",
      "metadata": {
        "colab": {
          "base_uri": "https://localhost:8080/"
        },
        "id": "lekGQt5j5qQT",
        "outputId": "ae204886-6df1-4229-f6d2-a6aa647eae23"
      },
      "source": [
        "xx = XX.reshape(-1)\n",
        "yy = YY.reshape(-1)\n",
        "M = np.concatenate([xx[:,None], yy[:,None]], axis=1)\n",
        "M.shape"
      ],
      "execution_count": 89,
      "outputs": [
        {
          "output_type": "execute_result",
          "data": {
            "text/plain": [
              "(225, 2)"
            ]
          },
          "metadata": {
            "tags": []
          },
          "execution_count": 89
        }
      ]
    },
    {
      "cell_type": "code",
      "metadata": {
        "colab": {
          "base_uri": "https://localhost:8080/",
          "height": 282
        },
        "id": "hMlkQE8E5t45",
        "outputId": "ebc6f1a2-5b51-4bbf-d2db-829f3e0a201e"
      },
      "source": [
        "plt.scatter(A,np.zeros(A.shape), color='orange', marker='x')\n",
        "plt.scatter(np.zeros(B.shape),B, color='g', marker='x')\n",
        "plt.scatter(M[:, 0], M[:, 1], alpha=0.4, marker='D')"
      ],
      "execution_count": 90,
      "outputs": [
        {
          "output_type": "execute_result",
          "data": {
            "text/plain": [
              "<matplotlib.collections.PathCollection at 0x7f9a74029d90>"
            ]
          },
          "metadata": {
            "tags": []
          },
          "execution_count": 90
        },
        {
          "output_type": "display_data",
          "data": {
            "image/png": "[encoded data removed]",
            "text/plain": [
              "<Figure size 432x288 with 1 Axes>"
            ]
          },
          "metadata": {
            "tags": [],
            "needs_background": "light"
          }
        }
      ]
    },
    {
      "cell_type": "code",
      "metadata": {
        "id": "J5-9HJ-Z50OW"
      },
      "source": [
        ""
      ],
      "execution_count": null,
      "outputs": []
    }
  ]
}