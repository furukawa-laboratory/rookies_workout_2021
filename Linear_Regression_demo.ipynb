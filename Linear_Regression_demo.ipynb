{
 "cells": [
  {
   "cell_type": "markdown",
   "metadata": {},
   "source": [
    "## 使うライブラリをインポートして，乱数のseedを固定"
   ]
  },
  {
   "cell_type": "code",
   "execution_count": 1,
   "metadata": {
    "scrolled": true
   },
   "outputs": [],
   "source": [
    "%matplotlib inline\n",
    "\n",
    "import numpy as np\n",
    "import matplotlib.pyplot as plt\n",
    "\n",
    "\n",
    "seed  = 11\n",
    "np.random.seed(seed)"
   ]
  },
  {
   "cell_type": "markdown",
   "metadata": {},
   "source": [
    "### まず，フィッティングしたいデータセット$\\boldsymbol{D}$を生成"
   ]
  },
  {
   "cell_type": "code",
   "execution_count": 2,
   "metadata": {},
   "outputs": [
    {
     "data": {
      "image/png": "[encoded data removed]",
      "text/plain": [
       "<Figure size 432x288 with 1 Axes>"
      ]
     },
     "metadata": {
      "needs_background": "light"
     },
     "output_type": "display_data"
    }
   ],
   "source": [
    "N = 300\n",
    "x1 =  20 * (np.random.rand(N)) - 10\n",
    "x2 =  x1 + np.random.normal(x1, 1.9, N) + 5\n",
    "#x2 = x1\n",
    "\n",
    "# 2次元 * N個の観測データ\n",
    "D = np.squeeze(np.dstack([x1,x2]))\n",
    "\n",
    "plt.scatter(x1,x2)\n",
    "plt.gca().set_aspect('equal')\n",
    "plt.show()"
   ]
  },
  {
   "cell_type": "markdown",
   "metadata": {},
   "source": [
    "## モデルのパラメータ$\\boldsymbol{a}$を推定する準備（変数をおく）"
   ]
  },
  {
   "cell_type": "code",
   "execution_count": 3,
   "metadata": {},
   "outputs": [
    {
     "name": "stdout",
     "output_type": "stream",
     "text": [
      "(300, 1)\n",
      "[[ -9.46817749]\n",
      " [-14.07153961]\n",
      " [  3.8946604 ]\n",
      " [ 13.05451198]\n",
      " [  1.45431755]\n",
      " [  7.16328675]\n",
      " [-11.42600253]\n",
      " [  3.00786155]\n",
      " [ 22.30250055]\n",
      " [ 18.32475268]\n",
      " [ 13.67462237]\n",
      " [ -7.73379524]\n",
      " [ 22.06043062]\n",
      " [ 21.68000974]\n",
      " [ -5.02046427]\n",
      " [  9.4567649 ]\n",
      " [-14.5363493 ]\n",
      " [-10.25373674]\n",
      " [ -0.39583822]\n",
      " [ -8.85640357]\n",
      " [ 16.58617755]\n",
      " [ 19.95080072]\n",
      " [  0.99511725]\n",
      " [ -1.39935823]\n",
      " [-12.03211003]\n",
      " [-14.59466825]\n",
      " [ 15.64014028]\n",
      " [  9.84927573]\n",
      " [-14.55425699]\n",
      " [  3.23224653]\n",
      " [  0.21433828]\n",
      " [ 15.7367568 ]\n",
      " [ 14.19190475]\n",
      " [  7.58718769]\n",
      " [  6.53598007]\n",
      " [ 24.36952725]\n",
      " [ 24.28522499]\n",
      " [ -0.44603694]\n",
      " [ -4.60248088]\n",
      " [ 16.9176015 ]\n",
      " [-12.35976391]\n",
      " [  3.1216911 ]\n",
      " [-12.52337209]\n",
      " [  0.86728517]\n",
      " [-13.92129753]\n",
      " [ -2.003592  ]\n",
      " [ 16.92876525]\n",
      " [ 19.8304294 ]\n",
      " [ 11.6746728 ]\n",
      " [ 10.50310536]\n",
      " [  7.44584771]\n",
      " [ -2.37046101]\n",
      " [ -8.00101103]\n",
      " [  2.55820172]\n",
      " [ 14.84272607]\n",
      " [-12.96724352]\n",
      " [-17.01995092]\n",
      " [ 17.46924664]\n",
      " [ -4.72082451]\n",
      " [ 13.47082198]\n",
      " [ 15.47814699]\n",
      " [ 24.56241302]\n",
      " [  0.59912084]\n",
      " [ -1.24281708]\n",
      " [ 16.81937899]\n",
      " [ 12.067332  ]\n",
      " [  9.67043852]\n",
      " [ 15.53033328]\n",
      " [  8.50385457]\n",
      " [ 23.61637956]\n",
      " [ -2.23685083]\n",
      " [ 17.56300849]\n",
      " [ 25.8223541 ]\n",
      " [ -5.20208662]\n",
      " [  9.69818038]\n",
      " [ -2.27540581]\n",
      " [  4.51837367]\n",
      " [-11.69949274]\n",
      " [-12.45828352]\n",
      " [ 15.97656105]\n",
      " [  4.5566589 ]\n",
      " [  9.34607616]\n",
      " [  9.83268348]\n",
      " [ -0.50512017]\n",
      " [ -1.91966592]\n",
      " [ -9.17013173]\n",
      " [ 14.83178762]\n",
      " [ 21.42454094]\n",
      " [ 14.04902229]\n",
      " [ 22.47427984]\n",
      " [ 10.27953861]\n",
      " [ 15.9857583 ]\n",
      " [ -9.5598026 ]\n",
      " [ 16.84464461]\n",
      " [ -4.1636162 ]\n",
      " [  3.35827781]\n",
      " [  0.76954804]\n",
      " [  4.62699705]\n",
      " [  9.69093662]\n",
      " [  8.48830673]\n",
      " [ -2.62577521]\n",
      " [ -8.88104859]\n",
      " [ 20.99525026]\n",
      " [ -2.81401412]\n",
      " [  4.98657333]\n",
      " [-10.73803424]\n",
      " [ -5.15228999]\n",
      " [-12.48656744]\n",
      " [  1.37451985]\n",
      " [ 10.73891003]\n",
      " [ 23.07371563]\n",
      " [ 11.15018058]\n",
      " [ -2.2993081 ]\n",
      " [ 12.84033832]\n",
      " [  7.27892767]\n",
      " [ 21.99020683]\n",
      " [  6.03489099]\n",
      " [ 21.46811433]\n",
      " [  1.61442952]\n",
      " [ -3.99891982]\n",
      " [  3.92282318]\n",
      " [ 21.276785  ]\n",
      " [ 16.46889985]\n",
      " [  2.16844359]\n",
      " [  0.27857131]\n",
      " [ 11.96533642]\n",
      " [  3.55239893]\n",
      " [  8.40851893]\n",
      " [ 27.12867019]\n",
      " [ 20.91849594]\n",
      " [ 18.96402537]\n",
      " [ -8.96318783]\n",
      " [  9.60093018]\n",
      " [  1.60634199]\n",
      " [ 19.87010283]\n",
      " [ -5.07009101]\n",
      " [ 21.7125449 ]\n",
      " [ -8.5306075 ]\n",
      " [  3.92376671]\n",
      " [ 22.64840584]\n",
      " [  8.14285487]\n",
      " [ 20.59495418]\n",
      " [  9.44874342]\n",
      " [ -5.33160218]\n",
      " [ 12.73507287]\n",
      " [  7.0246616 ]\n",
      " [  5.05652255]\n",
      " [ -8.41297351]\n",
      " [ -6.69747994]\n",
      " [ 21.68092448]\n",
      " [ 24.21538929]\n",
      " [ 24.54521856]\n",
      " [  1.46652872]\n",
      " [-12.03593856]\n",
      " [  7.21843101]\n",
      " [ 13.23089251]\n",
      " [ 11.48172347]\n",
      " [-14.87080891]\n",
      " [ -4.44120689]\n",
      " [ 13.34817577]\n",
      " [-11.75370619]\n",
      " [ 17.87216546]\n",
      " [ 23.03966103]\n",
      " [ -6.82369575]\n",
      " [-10.73266647]\n",
      " [ 23.77148694]\n",
      " [ 15.25102153]\n",
      " [ -0.2324443 ]\n",
      " [  4.02173472]\n",
      " [ 15.0455829 ]\n",
      " [  1.82135005]\n",
      " [-13.33211383]\n",
      " [  9.598563  ]\n",
      " [ -5.21265085]\n",
      " [ 10.18025352]\n",
      " [ 24.06683487]\n",
      " [ -0.9730276 ]\n",
      " [ -4.3045285 ]\n",
      " [-10.46734804]\n",
      " [ 19.52654959]\n",
      " [-15.47279714]\n",
      " [ 21.21648442]\n",
      " [ 11.08802625]\n",
      " [ 19.7323815 ]\n",
      " [ 13.6251934 ]\n",
      " [-11.26941939]\n",
      " [ -9.37706416]\n",
      " [ 22.31931302]\n",
      " [ -2.37745909]\n",
      " [ 16.0074997 ]\n",
      " [ -5.46765787]\n",
      " [ -6.50751088]\n",
      " [  9.29534443]\n",
      " [ -4.58952082]\n",
      " [ 14.55395581]\n",
      " [ 18.28957011]\n",
      " [ -0.72617514]\n",
      " [ -0.98661913]\n",
      " [-11.40414233]\n",
      " [  1.14498022]\n",
      " [-12.39956452]\n",
      " [  8.41507038]\n",
      " [ 12.62244049]\n",
      " [  9.66694119]\n",
      " [  8.21199332]\n",
      " [  9.68514974]\n",
      " [ 16.90174362]\n",
      " [  7.67168549]\n",
      " [ 22.56684238]\n",
      " [ -0.97581344]\n",
      " [ -7.40841461]\n",
      " [ -9.28681506]\n",
      " [ 16.09435413]\n",
      " [ -8.7463564 ]\n",
      " [ 16.50378234]\n",
      " [ 22.10298154]\n",
      " [  4.16734665]\n",
      " [-10.88346493]\n",
      " [  8.82410262]\n",
      " [  4.77952398]\n",
      " [ 21.19564715]\n",
      " [ -5.82893907]\n",
      " [ -4.94604063]\n",
      " [  4.8572829 ]\n",
      " [  4.28501898]\n",
      " [-10.02149885]\n",
      " [ -1.3204253 ]\n",
      " [ 14.82952622]\n",
      " [  4.30482924]\n",
      " [-13.32139438]\n",
      " [ -0.96138428]\n",
      " [  1.52330627]\n",
      " [  2.96147795]\n",
      " [-15.28930605]\n",
      " [ -2.34849595]\n",
      " [ 21.89489588]\n",
      " [ 19.9976501 ]\n",
      " [ 24.22694851]\n",
      " [ 15.77916266]\n",
      " [  4.49064943]\n",
      " [ 22.06215431]\n",
      " [ -3.79754397]\n",
      " [  9.61586495]\n",
      " [  8.903245  ]\n",
      " [  4.88114475]\n",
      " [ -4.21521983]\n",
      " [ -1.83199124]\n",
      " [ 11.56963107]\n",
      " [ -2.3951617 ]\n",
      " [ -3.2827156 ]\n",
      " [ -1.10840995]\n",
      " [ -2.6434527 ]\n",
      " [ 20.42153133]\n",
      " [  5.90965784]\n",
      " [-12.24445946]\n",
      " [ 12.25965385]\n",
      " [  4.98130598]\n",
      " [ 18.18334336]\n",
      " [  4.28699506]\n",
      " [ -0.37662948]\n",
      " [ 14.71965427]\n",
      " [ -8.01456398]\n",
      " [ -3.56249781]\n",
      " [  4.12745547]\n",
      " [ 16.52891033]\n",
      " [ -9.12586791]\n",
      " [ -5.88005346]\n",
      " [  8.09177555]\n",
      " [ 12.68828495]\n",
      " [ -8.91669116]\n",
      " [ 14.72897144]\n",
      " [  5.16601461]\n",
      " [  4.70556796]\n",
      " [ -0.64643496]\n",
      " [ -1.27656795]\n",
      " [ 20.02915707]\n",
      " [ 25.54017497]\n",
      " [ -7.06959036]\n",
      " [ -3.83714341]\n",
      " [  7.90910144]\n",
      " [ 14.82123485]\n",
      " [ 19.23433613]\n",
      " [ -1.58065069]\n",
      " [ -7.68642529]\n",
      " [-12.5832559 ]\n",
      " [ -0.10608468]\n",
      " [  7.7689067 ]\n",
      " [ 18.85520889]\n",
      " [-14.87463603]\n",
      " [-13.51122424]\n",
      " [ 10.4318964 ]\n",
      " [ 14.51642911]\n",
      " [-11.80530089]\n",
      " [ -9.28384682]\n",
      " [-10.16314372]\n",
      " [ 11.37419824]\n",
      " [  0.71562473]\n",
      " [ -5.58122096]\n",
      " [ 14.79687852]\n",
      " [-10.19682855]]\n"
     ]
    }
   ],
   "source": [
    "# x(shape: (2, N), (1,x_i)を並べた行列)\n",
    "ones = np.ones(N)\n",
    "X = np.squeeze(np.dstack([ones, x1]))\n",
    "\n",
    "\n",
    "# y（shape: (N,1)）\n",
    "y = x2[:,np.newaxis]\n",
    "print(y.shape)\n",
    "print(y)\n"
   ]
  },
  {
   "cell_type": "markdown",
   "metadata": {},
   "source": [
    "## モデルのパラメータ$\\boldsymbol{a}$を推定する"
   ]
  },
  {
   "cell_type": "code",
   "execution_count": 4,
   "metadata": {
    "scrolled": true
   },
   "outputs": [
    {
     "name": "stdout",
     "output_type": "stream",
     "text": [
      "(2, 1)\n",
      "[[4.94777244]\n",
      " [1.98168286]]\n"
     ]
    }
   ],
   "source": [
    "# @は内積の演算子， np.linalg.invは逆行列を計算してくれるライブラリ\n",
    "a = (np.linalg.inv(X.T @ X) @ X.T) @ y\n",
    "print(a.shape)\n",
    "print(a)"
   ]
  },
  {
   "cell_type": "markdown",
   "metadata": {},
   "source": [
    "## 推定したモデル$\\hat{y}$を描画する"
   ]
  },
  {
   "cell_type": "code",
   "execution_count": 5,
   "metadata": {
    "scrolled": true
   },
   "outputs": [
    {
     "name": "stdout",
     "output_type": "stream",
     "text": [
      "(1000, 2)\n",
      "[[  1.         -10.        ]\n",
      " [  1.          -9.97997998]\n",
      " [  1.          -9.95995996]\n",
      " ...\n",
      " [  1.           9.95995996]\n",
      " [  1.           9.97997998]\n",
      " [  1.          10.        ]]\n",
      "(1000, 1)\n"
     ]
    }
   ],
   "source": [
    "# (1, x_i)が縦に並ぶ行列Xnewをつくる\n",
    "Nnew = 1000\n",
    "x= np.linspace(start = -10, stop = 10, num = Nnew)\n",
    "ones = np.ones(Nnew)\n",
    "Xnew = np.squeeze(np.dstack([ones,x]))\n",
    "print(Xnew.shape)\n",
    "print(Xnew)\n",
    "\n",
    "Yhat = Xnew @ a\n",
    "print(Yhat.shape)"
   ]
  },
  {
   "cell_type": "markdown",
   "metadata": {},
   "source": [
    "## 観測データの分布上に学習したモデルをプロットする"
   ]
  },
  {
   "cell_type": "code",
   "execution_count": 9,
   "metadata": {
    "scrolled": true
   },
   "outputs": [
    {
     "data": {
      "image/png": "[encoded data removed]",
      "text/plain": [
       "<Figure size 432x288 with 1 Axes>"
      ]
     },
     "metadata": {
      "needs_background": "light"
     },
     "output_type": "display_data"
    }
   ],
   "source": [
    "plt.scatter(x1,x2)\n",
    "plt.plot(x,Yhat, linewidth=3,color='orange')\n",
    "plt.gca().set_aspect('equal')\n",
    "plt.show()"
   ]
  },
  {
   "cell_type": "code",
   "execution_count": null,
   "metadata": {},
   "outputs": [],
   "source": []
  },
  {
   "cell_type": "code",
   "execution_count": null,
   "metadata": {},
   "outputs": [],
   "source": []
  },
  {
   "cell_type": "code",
   "execution_count": null,
   "metadata": {},
   "outputs": [],
   "source": []
  }
 ],
 "metadata": {
  "kernelspec": {
   "display_name": "Python 3",
   "language": "python",
   "name": "python3"
  },
  "language_info": {
   "codemirror_mode": {
    "name": "ipython",
    "version": 3
   },
   "file_extension": ".py",
   "mimetype": "text/x-python",
   "name": "python",
   "nbconvert_exporter": "python",
   "pygments_lexer": "ipython3",
   "version": "3.8.5"
  }
 },
 "nbformat": 4,
 "nbformat_minor": 5
}
