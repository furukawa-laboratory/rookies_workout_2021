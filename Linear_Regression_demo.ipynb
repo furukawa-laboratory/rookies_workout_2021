{
 "cells": [
  {
   "cell_type": "markdown",
   "metadata": {},
   "source": [
    "## 使うライブラリをインポートして，乱数のseedを固定"
   ]
  },
  {
   "cell_type": "code",
   "execution_count": 1,
   "metadata": {
    "scrolled": true
   },
   "outputs": [],
   "source": [
    "%matplotlib inline\n",
    "\n",
    "import numpy as np\n",
    "import matplotlib.pyplot as plt\n",
    "\n",
    "\n",
    "seed  = 11\n",
    "np.random.seed(seed)"
   ]
  },
  {
   "cell_type": "markdown",
   "metadata": {},
   "source": [
    "### フィッティングしたいデータセット$\\boldsymbol{D}$を生成\n",
    "$$\\boldsymbol{D} = \\{ (x_1^{(1)},x_2^{(1)}),(x_1^{(2)},x_2^{(2)}), \\cdots , (x_1^{(N)}, x_2^{(N)})\\}$$"
   ]
  },
  {
   "cell_type": "code",
   "execution_count": 2,
   "metadata": {},
   "outputs": [
    {
     "data": {
      "image/png": "[encoded data removed]",
      "text/plain": [
       "<Figure size 432x288 with 1 Axes>"
      ]
     },
     "metadata": {
      "needs_background": "light"
     },
     "output_type": "display_data"
    }
   ],
   "source": [
    "N = 30\n",
    "x =  20 * (np.random.rand(N)) - 10\n",
    "## y = a_1 * x + a_0 + gaussian noize\n",
    "#x2 =  0.5 * x + 5 + np.random.normal(x， 10, N)\n",
    "y = np.sin(x) + x + np.random.normal(x, 15, N)\n",
    "\n",
    "# 2次元 * N個の観測データ\n",
    "D = np.squeeze(np.dstack([x,y]))\n",
    "\n",
    "plt.scatter(x,y)\n",
    "plt.gca().set_aspect('equal')\n",
    "plt.show()"
   ]
  },
  {
   "cell_type": "markdown",
   "metadata": {},
   "source": [
    "## モデルのパラメータ$\\boldsymbol{a}$を推定する準備（変数をおく）\n",
    "$$ \\boldsymbol{X} = \\begin{pmatrix}\n",
    "    (1, \\boldsymbol{x_1}^T)\\\\\n",
    "    (1, \\boldsymbol{x_2}^T)\\\\\n",
    "    \\vdots \\\\\n",
    "    (1, \\boldsymbol{x_N}^T)\n",
    "    \\end{pmatrix}\n",
    "$$\n",
    "$$\\boldsymbol{y} = \\begin{pmatrix}\n",
    "    y_1\\\\\n",
    "    y_2\\\\\n",
    "    \\vdots \\\\\n",
    "    y_N\n",
    "    \\end{pmatrix}\n",
    "$$"
   ]
  },
  {
   "cell_type": "code",
   "execution_count": 3,
   "metadata": {},
   "outputs": [
    {
     "name": "stdout",
     "output_type": "stream",
     "text": [
      "(30,)\n"
     ]
    }
   ],
   "source": [
    "# x(shape: (2, N), (1,x_i)を並べた行列)\n",
    "ones = np.ones(N)\n",
    "X = np.squeeze(np.dstack([ones, x]))\n",
    "\n",
    "# y（shape: (N,1)）になるようにshapeを整える）\n",
    "y_reshaped = y[:,np.newaxis]\n",
    "print(y.shape)"
   ]
  },
  {
   "cell_type": "markdown",
   "metadata": {},
   "source": [
    "## モデルのパラメータ$\\boldsymbol{a}$を推定する\n",
    "$$\\boldsymbol{a}\n",
    "= \\begin{pmatrix}a0\\\\a1\\end{pmatrix}\n",
    "= (\\boldsymbol{X}^T\\boldsymbol{X})^{-1}\\boldsymbol{X}^T\\boldsymbol{y}$$"
   ]
  },
  {
   "cell_type": "code",
   "execution_count": 4,
   "metadata": {
    "scrolled": true
   },
   "outputs": [
    {
     "name": "stdout",
     "output_type": "stream",
     "text": [
      "(2, 1)\n",
      "[[-0.89567987]\n",
      " [ 1.72713229]]\n"
     ]
    }
   ],
   "source": [
    "# @は内積の演算子， np.linalg.invは逆行列を計算してくれるライブラリ\n",
    "a = (np.linalg.inv(X.T @ X) @ X.T) @ y_reshaped\n",
    "print(a.shape)\n",
    "print(a)"
   ]
  },
  {
   "cell_type": "markdown",
   "metadata": {},
   "source": [
    "## 推定したモデル$\\hat{y}$を描画する"
   ]
  },
  {
   "cell_type": "code",
   "execution_count": 5,
   "metadata": {
    "scrolled": true
   },
   "outputs": [
    {
     "name": "stdout",
     "output_type": "stream",
     "text": [
      "(1000, 2)\n",
      "(1000, 1)\n"
     ]
    }
   ],
   "source": [
    "# (1, x_i)が縦に並ぶ行列Xnewをつくる\n",
    "Nnew = 1000\n",
    "x_new= np.linspace(start = -10, stop = 10, num = Nnew)\n",
    "ones = np.ones(Nnew)\n",
    "Xnew = np.squeeze(np.dstack([ones,x_new]))\n",
    "print(Xnew.shape)\n",
    "\n",
    "Yhat = Xnew @ a\n",
    "print(Yhat.shape)"
   ]
  },
  {
   "cell_type": "markdown",
   "metadata": {},
   "source": [
    "## 観測データの分布上に学習したモデルをプロットする"
   ]
  },
  {
   "cell_type": "code",
   "execution_count": 6,
   "metadata": {
    "scrolled": false
   },
   "outputs": [
    {
     "data": {
      "image/png": "[encoded data removed]",
      "text/plain": [
       "<Figure size 432x288 with 1 Axes>"
      ]
     },
     "metadata": {
      "needs_background": "light"
     },
     "output_type": "display_data"
    }
   ],
   "source": [
    "plt.scatter(x,y)\n",
    "plt.plot(x_new,Yhat, linewidth=3,color='orange')\n",
    "plt.gca().set_aspect('equal')\n",
    "plt.show()"
   ]
  }
 ],
 "metadata": {
  "kernelspec": {
   "display_name": "Python 3",
   "language": "python",
   "name": "python3"
  },
  "language_info": {
   "codemirror_mode": {
    "name": "ipython",
    "version": 3
   },
   "file_extension": ".py",
   "mimetype": "text/x-python",
   "name": "python",
   "nbconvert_exporter": "python",
   "pygments_lexer": "ipython3",
   "version": "3.8.5"
  }
 },
 "nbformat": 4,
 "nbformat_minor": 5
}
