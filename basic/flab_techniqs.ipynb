{
 "cells": [
  {
   "cell_type": "markdown",
   "id": "69abaf03",
   "metadata": {
    "tags": []
   },
   "source": [
    "# 基盤技術開発テクニック練習ノートブック\n",
    "## 2021年度ver\n",
    "### 著者\n",
    "広渡朱莉, 田中大揮，廣田憲幹，中島成太郎，宮崎一希\n",
    "\n",
    "## このノートブックについて\n",
    "数式の実装には多くのやり方があります．例えば，行列演算の実装方法は大きく分けて二通りあります．ひとつはfor文によって要素ずつ計算する方法，もうひとつは行列計算ライブラリによって計算する方法です．\n",
    "\n",
    "\n",
    "このノートブックでは古川研究室でよく使われる行列演算のテクニックをできるだけ網羅してまとめました．また，これらのテクニックを実際に使ってみながら体系的に理解・学習できるようになることを目標に作りました．"
   ]
  },
  {
   "cell_type": "markdown",
   "id": "9bb4e099",
   "metadata": {},
   "source": [
    "修正事項\n",
    "- argminの説明が演繹的\n",
    "- jax, einsumの実装がまだ"
   ]
  },
  {
   "cell_type": "markdown",
   "id": "f8e8bd59",
   "metadata": {},
   "source": [
    "## 事前知識\n",
    "このノートブックでも必要最低限の操作は抑えますが，事前知識として以下の本を読むことを推奨します．\n",
    "\n",
    "[Dropboxにpdf](https://www.dropbox.com/s/7r6cbcux1br1jhb/%E3%82%BC%E3%83%AD%E3%81%8B%E3%82%89%E4%BD%9C%E3%82%8BPython%E6%A9%9F%E6%A2%B0%E5%AD%A6%E7%BF%92%E3%83%97%E3%83%AD%E3%82%B0%E3%83%A9%E3%83%9F%E3%83%B3%E3%82%B0%E5%85%A5%E9%96%80_pass.pdf?dl=0)があるので手元におくのを推奨します．\n",
    "\n",
    "- 「ゼロからつくるPython機械学習プログラミング入門」\n",
    "  - chapter2：Python入門\n",
    "  - chapter3：数学のおさらい\n"
   ]
  },
  {
   "cell_type": "markdown",
   "id": "de1283b8",
   "metadata": {},
   "source": [
    "## 準備\n",
    "### [Numpy](https://numpy.org/doc/stable/user/index.html)\n",
    "\n",
    "NumpyはPythonで科学的な計算を行うための基本的なパッケージです．行列計算は機械学習に限らず数値計算の基本であり，Numpyは高速に行列計算を行うことができます．"
   ]
  },
  {
   "cell_type": "code",
   "execution_count": null,
   "id": "4e1f646a",
   "metadata": {},
   "outputs": [],
   "source": [
    "# numpyをimportします． as npで短縮してnpという名前で使うのが一般的です．\n",
    "import numpy as np"
   ]
  },
  {
   "cell_type": "code",
   "execution_count": null,
   "id": "4f3a7487",
   "metadata": {},
   "outputs": [],
   "source": [
    "# 5次元の単位行列を作ります．\n",
    "A = np.eye(5)\n",
    "\n",
    "# 中身を確認します．\n",
    "print(A)\n",
    "# 配列のサイズを確認します． (5, 5)は 5x５の行列になっているという意味です． \n",
    "# また， jupyterではセルの最後の行はprint()と括らなくても出力されます．\n",
    "A.shape"
   ]
  },
  {
   "cell_type": "markdown",
   "id": "86a34bb6",
   "metadata": {},
   "source": [
    "### [Matplotlib](https://)\n",
    "MatplotlibはPythonの描画パッケージです（描画の実装で悩むのはアルゴリズムの実装と理解にはあまり関係ないので，困ったら知ってる人に質問することをおすすめします）．"
   ]
  },
  {
   "cell_type": "code",
   "execution_count": null,
   "id": "a2fc01b9",
   "metadata": {},
   "outputs": [],
   "source": [
    "import matplotlib.pyplot as plt\n",
    "\n",
    "N = 10 # データ数\n",
    "D = 2 # 次元数\n",
    "\n",
    "# 二次元データをN個つくります．\n",
    "X = np.arange(N*D).reshape(N,D)\n",
    "print(X, X.shape)"
   ]
  },
  {
   "cell_type": "code",
   "execution_count": null,
   "id": "2693eada",
   "metadata": {},
   "outputs": [],
   "source": [
    "# 散布図(scatter)で描画します． \n",
    "## 第一引数にはx座標の値のベクトル．第二引数にはy座標の値のベクトルをいれます．\n",
    "plt.scatter(X[:,0], X[:,1], marker='x')\n",
    "[plt.text(X[n,0], X[n,1], \"(\"+str(X[n,0])+\",\"+str(X[n,1])+\")\") for n in range(N)]\n",
    "print(\"\")"
   ]
  },
  {
   "cell_type": "markdown",
   "id": "8b34da9b",
   "metadata": {},
   "source": [
    "### 自動微分ライブラリ群\n",
    "今は迷走期で，FILab内でもこれ使えばいいよ！って言い切れるのはないイメージ．ただ，どれも自動微分としてはちゃんと動くのでどれ使ってもいい．\n",
    "\n",
    "#### [Pytorch](https://pytorch.org/get-started/locally/)\n",
    "FILabで自動微分ライブラリとして最初に使われ出した．現ラボメンの半分はこれを使ってるイメージ\n",
    "\n",
    "特徴:\n",
    "- MITがメインで開発（はず）\n",
    "- Pytorchの変数からNumpy変数への変換が他言語と比べて面倒．(torch変数.detach().numpy())．また，変換しないと描画ライブラリで使えない（はず）\n",
    "- Academicな世界ではよく使われているライブラリらしい\n",
    "  - GPytorchとか（GPy + torch)の混合ライブラリだったりする\n",
    "- Sparse行列演算処理が実装済み（ビッグデータに適用可能）\n",
    "- 自動微分のやり方が下の二つとちと違う\n",
    "\n",
    "#### [Tensorflow](https://www.tensorflow.org/install?hl=ja)\n",
    "Sparse行列xNumpyへの親和性を考えて宮崎はこれを使い出した．ラボ内標準はこっちでいい気がしている（宮崎）\n",
    "\n",
    "特徴:\n",
    "- Googleがメインで開発（はず）\n",
    "- Numpyとの相性Not bad\n",
    "- ビジネスの現場でよく使われているライブラリらしい\n",
    "  - Tensorflow liteとかある \n",
    "- [公式ドキュメント豊富](https://www.tensorflow.org/overview?hl=ja)\n",
    "- tensorflow2と1でコードが全然違うらしい\n",
    "- kerasっていうライブラリと一緒になったからなんかネストが一個深い\n",
    "- Sparse行列演算処理が実装済み（ビッグデータに適用可能）\n",
    "\n",
    "#### [Jax](https://github.com/google/jax#installation)\n",
    "速度・軽さが素晴らしいイメージ．　GPUへの適用も簡単にできる（ライブラリ側が勝手に判断してくれるからコード側で書かなくていい）\n",
    "\n",
    "\n",
    "特徴:\n",
    "- Googleがメインで開発（はず）．Tensorflowの自動微分の機能とGPUを使う機能だけを取り出してライブラリ化しているみたい．（DLを使わないならぴったり）\n",
    "- Numpyとの相性Good\n",
    "- 上の二つのライブラリと比較して新しいライブラリとなっているため，ネットの情報は少なめ\n",
    "- Windowsには標準対応してないらしい（できる方法は上がっているらしい）\n",
    "- Sparse行列演算処理が未実装（Issueには上がっていて実装されているらしいからもう少しなはず）"
   ]
  },
  {
   "cell_type": "code",
   "execution_count": null,
   "id": "37308ec8-8931-4dd1-b399-4705d6be5b60",
   "metadata": {},
   "outputs": [],
   "source": []
  },
  {
   "cell_type": "code",
   "execution_count": 1,
   "id": "547b3d29",
   "metadata": {},
   "outputs": [
    {
     "ename": "ModuleNotFoundError",
     "evalue": "No module named 'torch'",
     "output_type": "error",
     "traceback": [
      "\u001b[0;31m---------------------------------------------------------------------------\u001b[0m",
      "\u001b[0;31mModuleNotFoundError\u001b[0m                       Traceback (most recent call last)",
      "\u001b[0;32m<ipython-input-1-83df765104eb>\u001b[0m in \u001b[0;36m<module>\u001b[0;34m\u001b[0m\n\u001b[0;32m----> 1\u001b[0;31m \u001b[0;32mimport\u001b[0m \u001b[0mtorch\u001b[0m\u001b[0;34m\u001b[0m\u001b[0;34m\u001b[0m\u001b[0m\n\u001b[0m\u001b[1;32m      2\u001b[0m \u001b[0;32mimport\u001b[0m \u001b[0mtensorflow\u001b[0m \u001b[0;32mas\u001b[0m \u001b[0mtf\u001b[0m\u001b[0;34m\u001b[0m\u001b[0;34m\u001b[0m\u001b[0m\n\u001b[1;32m      3\u001b[0m \u001b[0;32mimport\u001b[0m \u001b[0mjax\u001b[0m\u001b[0;34m,\u001b[0m\u001b[0mjaxlib\u001b[0m\u001b[0;34m\u001b[0m\u001b[0;34m\u001b[0m\u001b[0m\n",
      "\u001b[0;31mModuleNotFoundError\u001b[0m: No module named 'torch'"
     ]
    }
   ],
   "source": [
    "import torch\n",
    "import tensorflow as tf\n",
    "import jax,jaxlib"
   ]
  },
  {
   "cell_type": "markdown",
   "id": "0139bec8",
   "metadata": {},
   "source": [
    "### Scipy\n",
    "一般的な機械学習のライブラリです．"
   ]
  },
  {
   "cell_type": "code",
   "execution_count": null,
   "id": "204caff0",
   "metadata": {},
   "outputs": [],
   "source": [
    "import scipy"
   ]
  },
  {
   "cell_type": "markdown",
   "id": "9ef634e3",
   "metadata": {},
   "source": [
    "## 目次\n",
    "0. リシェイプ（reshape)\n",
    "1. ブロードキャスト（Broadcast）\n",
    "2. メッシュグリッド（Meshgrid)\n",
    "3. アーグミン（Argmin)\n",
    "4. ファンシィインデックス（Fancy index)\n",
    "5. アインサム（Einsum)"
   ]
  },
  {
   "cell_type": "markdown",
   "id": "3f1da565",
   "metadata": {},
   "source": [
    "### 0. Reshape\n",
    "さっきでてきた\n",
    "> X = np.arange(N*D).reshape(N,D)\n",
    "\n",
    "これです．\n",
    "\n",
    "[reshape](https://numpy.org/doc/stable/reference/generated/numpy.reshape.html)はデータの形（サイズ）を変更するときに使います．"
   ]
  },
  {
   "cell_type": "code",
   "execution_count": null,
   "id": "ebea32fd",
   "metadata": {},
   "outputs": [],
   "source": [
    "# xxx, yyy を適当な整数に変えて実行してください．\n",
    "#N, D = xxx, yyy\n",
    "N, D = 8, 2\n",
    "\n",
    "# NxD次元ベクトルを作ります．\n",
    "X = np.arange(N*D)\n",
    "print(\"Xのshapeは\", X.shape,\"すなわち\", N*D,\"次元ベクトル（\",N*D,\"個要素がある）ということです．\")\n",
    "print(X)\n",
    "X_m = X.reshape(N,D)\n",
    "print(\"\\n\")\n",
    "print(\"これに対しN, D =\",N,\",\",D,\"として X.reshape(N,D)とすると\", X_m.shape,\"の行列になります．\")"
   ]
  },
  {
   "cell_type": "code",
   "execution_count": null,
   "id": "63bc07bc",
   "metadata": {},
   "outputs": [],
   "source": [
    "print(\"また，逆にベクトルに戻すには以下のようにします．\")\n",
    "\n",
    "print('X.reshape(-1)', X.reshape(-1))"
   ]
  },
  {
   "cell_type": "markdown",
   "id": "501432d8",
   "metadata": {},
   "source": [
    "#### 演習問題0\n",
    "以上の操作を任意の行列で実践せよ．"
   ]
  },
  {
   "cell_type": "code",
   "execution_count": null,
   "id": "f34bcfaf",
   "metadata": {},
   "outputs": [],
   "source": []
  },
  {
   "cell_type": "markdown",
   "id": "b7efc6de",
   "metadata": {},
   "source": [
    "### 1. Broadcast\n",
    "詳しい定義は[上島さんの解説記事](https://www.kamishima.net/mlmpyja/nbayes2/broadcasting.html).\n",
    "使い方やイメージが欲しいなら[ここ](https://deepage.net/features/numpy-broadcasting.html)."
   ]
  },
  {
   "cell_type": "code",
   "execution_count": null,
   "id": "b6378efb",
   "metadata": {},
   "outputs": [],
   "source": [
    "I = 3\n",
    "J = 4\n",
    "A = np.arange(I)[:, None] + 1\n",
    "print(\"Aのshapeは\",A.shape,\" で，A自体は\",'\\n',A, \"\\n\")\n",
    "B = np.arange(I*J).reshape(I,J)\n",
    "print(\"Bのshapeは\",B.shape,\" で，B自体は\",'\\n', B, \"\\n\")\n",
    "\n",
    "print(\"この行列A,Bに対して B-A という演算をすると\",\"\\n\", B - A,\"となります．\")\n",
    "\n",
    "# B - A"
   ]
  },
  {
   "cell_type": "markdown",
   "id": "cb3c084b",
   "metadata": {},
   "source": [
    "行列演算はシェイプが違う行列同士の演算は定義されていません（というかできません）が，Broadcastをサポートしているライブラリでは，ある条件を満たした場合に特殊な演算が行えます（行われてしまいます）．\n",
    "\n",
    "今回のケース:\n",
    "A行列（shape:(3,1)）とB行列（shape:(3,4)）はshapeが違うので演算できません． \n",
    "Broadcastでは，A行列(3,1)を列方向にコピーしてA_hat(3,4)の行列を作ることで，B - A_hatの演算を行います．"
   ]
  },
  {
   "cell_type": "code",
   "execution_count": null,
   "id": "427a052a",
   "metadata": {},
   "outputs": [],
   "source": [
    "print(\"具体的には，以下のような演算をします．\")\n",
    "A_hat = np.tile(A, J)\n",
    "print(\"A_hat:\",\"\\n\",A_hat)\n",
    "print(\"B - A_hat:\", \"\\n\", B - A_hat,\"\\n\", \"先ほどのB-Aの演算と一致します．\")"
   ]
  },
  {
   "cell_type": "markdown",
   "id": "29197cf8",
   "metadata": {},
   "source": [
    "#### 演習問題1-a \n",
    "列方向のコピーではなく，行方向のコピーが行われるBroadcastの計算を実装せよ（任意の四則演算）．"
   ]
  },
  {
   "cell_type": "code",
   "execution_count": null,
   "id": "90feca5d",
   "metadata": {},
   "outputs": [],
   "source": [
    "C = np.arange(J)[None, :]\n",
    "B * C"
   ]
  },
  {
   "cell_type": "markdown",
   "id": "1c0490e3",
   "metadata": {},
   "source": [
    "#### 演習問題1-b \n",
    "先ほどは行列（shapeが(I, J)のような変数）に対しての演算であった．3階のテンソルの変数（shapeが （I,J,K））に対して，任意のBroadcastの計算を実装せよ．"
   ]
  },
  {
   "cell_type": "code",
   "execution_count": null,
   "id": "c6fc1f2a",
   "metadata": {},
   "outputs": [],
   "source": [
    "K = 2\n",
    "D = np.arange(I*J*K).reshape(I,J,K)\n",
    "E1 = np.arange(I*J).reshape(I,J,1)\n",
    "E2 = np.arange(I*K).reshape(I,1,K)\n",
    "print(D-E1,\"\\n\",D-E2)"
   ]
  },
  {
   "cell_type": "markdown",
   "id": "02b7a654",
   "metadata": {},
   "source": [
    "### 2. Meshgrid\n",
    "\n",
    "[Meshgrid](https://numpy.org/doc/stable/reference/generated/numpy.meshgrid.html)は，座標ベクトルを入力すると座標行列を返してくれる関数です．\n",
    "\n",
    "以下のような軸をx,y軸を想定して，そこにそれぞれ等間隔に点が打たれているとします．"
   ]
  },
  {
   "cell_type": "code",
   "execution_count": null,
   "id": "ebf553ed",
   "metadata": {},
   "outputs": [],
   "source": [
    "K = 11\n",
    "A = np.linspace(-1,1,K)\n",
    "B = np.linspace(-2,2,K)\n",
    "plt.plot([A[-1], A[0]], [0,0], color='black', alpha=0.4)\n",
    "plt.plot([0,0],[B[-1], B[0]], color='black', alpha=0.4)\n",
    "plt.scatter(A,np.zeros(A.shape), color='orange', marker='x')\n",
    "plt.scatter(np.zeros(B.shape),B, color='g', marker='x')"
   ]
  },
  {
   "cell_type": "markdown",
   "id": "9ba2a9b0",
   "metadata": {},
   "source": [
    "この点からそれぞれ垂直線をひくと，以下の図のようなグリッドを描くことができます．\n",
    "\n",
    "meshgrid関数は以下の図のような格子点（交わっているところ）の座標を取得したいときに使われる関数です．"
   ]
  },
  {
   "cell_type": "code",
   "execution_count": null,
   "id": "4481a1a6",
   "metadata": {},
   "outputs": [],
   "source": [
    "plt.scatter(A,np.zeros(A.shape), color='orange', marker='x')\n",
    "plt.scatter(np.zeros(B.shape),B, color='g', marker='x')\n",
    "[plt.plot(np.tile(A[i],K), B, color='orange') for i in range(K)]\n",
    "[plt.plot(A, np.tile(B[i], K),  color='g') for i in range(K)]\n",
    "print(\"この緑線とオレンジ線の交点の座標を求めます．\")"
   ]
  },
  {
   "cell_type": "code",
   "execution_count": null,
   "id": "611475a5",
   "metadata": {},
   "outputs": [],
   "source": [
    "\n",
    "XX, YY = np.meshgrid(A,B)\n",
    "\n",
    "print(\"二つのベクトルを入力すると二つの行列が返ってきます．\")\n",
    "print(\"XXのshapeは\", XX.shape, 'YYのshapeは', YY.shape, \"となります．\")\n",
    "print(\"XX\")\n",
    "print(XX)\n",
    "print(\"YY\")\n",
    "print(YY)"
   ]
  },
  {
   "cell_type": "markdown",
   "id": "9ed8d1d1",
   "metadata": {},
   "source": [
    "$XX_{ij}$にはx=i,y=-jの交点のx座標が，$YY_{ij}$にはx=i,y=-jの交点のy座標が格納されています．\n",
    "言い換えると， x=i, y=-jの交点の座標は$( XX_{ij}, YY_{ij} )$ です．\n",
    "\n",
    "meshgridを使うと，交点の座標の数値は得られました．ここからは，二つの行列を使いやすい形に整形します．\n",
    "ここでいう使いやすい形とは，いわゆるデータ行列のような形（shapeが(交点の数，次元数)）の二次元配列です．つまり，\n",
    "\n",
    "$M = \\\\\n",
    "[(XX_{11}, YY_{11}),\\\\(XX_{12}, YY_{12}), \\\\(XX_{13}, YY_{13}), \\\\ \\cdots, \\\\(XX_{KK}, YY_{KK}）] $\n",
    "\n",
    "のような \n",
    "$\\mathbf{R}^{(K*K)\\times 2} = \\mathbf{R}^{(P \\times 2)},P = K*K$の二次元行列$M$に整形します．\n",
    "言い換えると，$M = ( \\mathbf{m_p} )_{p=1}^{P}, \\mathbf{m} \\in \\mathbb{R}^2$となります． \n",
    "\n",
    "\n",
    "まず，XXとYYは (K, K)のような二次元配列である必要ではないので，reshapeを使ってKxKの行列をM次元ベクトルに直します． \n",
    "次に，1次元ベクトルxxとyyを横方向に結合するために，reshapeされたxx, yyを(M, 1)の行列に整形して，concatenateします．"
   ]
  },
  {
   "cell_type": "code",
   "execution_count": null,
   "id": "6d56832e",
   "metadata": {},
   "outputs": [],
   "source": [
    "xx = XX.reshape(-1)\n",
    "yy = YY.reshape(-1)\n",
    "M = np.concatenate([xx[:,None], yy[:,None]], axis=1)\n",
    "M"
   ]
  },
  {
   "cell_type": "raw",
   "id": "1d681e12",
   "metadata": {},
   "source": [
    "plt.scatter(A,np.zeros(A.shape), color='orange', marker='x')\n",
    "plt.scatter(np.zeros(B.shape),B, color='g', marker='x')\n",
    "plt.scatter(M[:, 0], M[:, 1], alpha=0.4, marker='D')"
   ]
  },
  {
   "cell_type": "markdown",
   "id": "4cae3911",
   "metadata": {},
   "source": [
    "格子点行列Mができました．"
   ]
  },
  {
   "cell_type": "markdown",
   "id": "2741fdeb",
   "metadata": {},
   "source": [
    "#### 演習問題2\n",
    "\n",
    "以上の操作を任意のベクトルの格子点で実践せよ"
   ]
  },
  {
   "cell_type": "code",
   "execution_count": null,
   "id": "1327ba79",
   "metadata": {},
   "outputs": [],
   "source": []
  },
  {
   "cell_type": "markdown",
   "id": "c8639111",
   "metadata": {},
   "source": [
    "#### 補足\n",
    "格子点を作るには，itertoolsを使う方法もある．（ただし上のやり方とは順番が違って\n"
   ]
  },
  {
   "cell_type": "code",
   "execution_count": null,
   "id": "6f76a907",
   "metadata": {},
   "outputs": [],
   "source": [
    "import itertools\n",
    "\n",
    "mesh = np.linspace(-1, 1, K)\n",
    "Zeta = np.array(list(itertools.product(mesh, repeat=2)))\n",
    "Zeta"
   ]
  },
  {
   "cell_type": "markdown",
   "id": "4fe76b6e",
   "metadata": {},
   "source": [
    "### 3. Argmin, Argmax\n",
    "\n",
    ">数学において、最大値を与える引数あるいは最大点集合 (argument of the maximum) は関数がその最大値をとる定義域の元全体の成す集合である[note 1]。省略してarg&nbsp;max (もしくは argmax) と書かれる。最大値が函数の出力のうち最も大きいものを指すのと対照に、最大点は最大値を出力する入力の値を指す。\n",
    "最大点集合は一般に複数の元を含むが、それは有限集合であることも無限集合であることも起こり得るし、空となることもあり得る。"
   ]
  },
  {
   "cell_type": "markdown",
   "id": "2af7fce0",
   "metadata": {},
   "source": [
    "上が一応定義ですが，とりあえず以下の例をみながら理解していきましょう．\n",
    "\n",
    "例えば，先ほどのような格子点は以下のようなインデックスを持ちます．"
   ]
  },
  {
   "cell_type": "code",
   "execution_count": null,
   "id": "44083932",
   "metadata": {},
   "outputs": [],
   "source": [
    "plt.scatter(M[:, 0], M[:, 1], alpha=0.4, marker='D')\n",
    "[plt.text(M[n, 0], M[n, 1], str(n)) for n in range(K*K)]\n",
    "print(\"\")"
   ]
  },
  {
   "cell_type": "markdown",
   "id": "54b3e33e",
   "metadata": {},
   "source": [
    "さらに，この空間に以下のような新規点$\\mathbf{x}_n$ができたとします．"
   ]
  },
  {
   "cell_type": "code",
   "execution_count": null,
   "id": "ee169df3",
   "metadata": {},
   "outputs": [],
   "source": [
    "np.random.seed(6)\n",
    "x = np.random.rand(2).reshape(1,2)\n",
    "\n",
    "plt.scatter(M[:, 0], M[:, 1], alpha=0.4, marker='D')\n",
    "plt.scatter(x[:, 0], x[:, 1], s=80, color='g', marker='x', label='$\\mathbf{x}_n$', linewidths=4)\n",
    "plt.legend()\n",
    "# plt.text(X[:, 0]+0.05, X[:, 1], \"$\\mathbf{x}^*$\", color='g', size=25)"
   ]
  },
  {
   "cell_type": "markdown",
   "id": "53ff6aea",
   "metadata": {},
   "source": [
    "$\\newcommand{\\argmax}{\\mathop{\\rm arg~max}\\limits}$\n",
    "$\\newcommand{\\argmin}{\\mathop{\\rm arg~min}\\limits}$\n",
    "\n",
    "ここでは， $\\mathbf{x}_n$とそれに一番近い$\\mathbf{m}_{k^*_n}$の点を求めます． \n",
    "${k^*_n}$は$n$番目のデータに対して一番近い$\\mathbf{m}$のインデックスで勝者ノード番号と呼びます（格子点のインデックス（番号）なのでノード番号とも呼びます）．\n",
    "格子点は座標の値が固定で非連続なので（このような点を離散点とも呼びます），この勝者ノード番号を求めれば，一番近い点を求めたことになります．\n",
    "\n",
    "この操作はを数式で書くと，\n",
    "$k^*_n = \\argmin_k D(\\mathbf{x}_n, \\mathbf{m}_k)$\n",
    "\n",
    "$D(\\mathbf{a},\\mathbf{b})$は$\\mathbf{a}$と$\\mathbf{b}$の距離を返す関数で， $D(\\mathbf{a},\\mathbf{b})=\\|\\mathbf{a} - \\mathbf{b} \\|^2$とすると，\n",
    "\n",
    "$k^*_n = \\argmin_k \\|\\mathbf{x}_n - \\mathbf{m}_k\\|^2$ となります．\n"
   ]
  },
  {
   "cell_type": "code",
   "execution_count": null,
   "id": "2272b169",
   "metadata": {},
   "outputs": [],
   "source": [
    "print(x.shape, M.shape)\n",
    "Dist = np.sum((x[:, None, :] - M[None, :, :])**2, axis=2)\n",
    "print(Dist.shape)\n",
    "\n",
    "k_star = np.argmin(Dist)\n",
    "\n",
    "k_star"
   ]
  },
  {
   "cell_type": "markdown",
   "id": "bf41da62",
   "metadata": {},
   "source": [
    "データ$\\mathbf{x}_n$に対応する勝者ノード番号は 75でした．\n",
    "\n",
    "なので$\\mathbf{x}_n$に対応する座標を$\\mathbf{z}_n$とおくと\n",
    "\n",
    "$\\mathbf{z}_n := \\mathbf{m}_{75}$\n",
    "\n",
    "ということです．"
   ]
  },
  {
   "cell_type": "code",
   "execution_count": null,
   "id": "d8a94b9c",
   "metadata": {},
   "outputs": [],
   "source": [
    "plt.scatter(M[:, 0], M[:, 1], alpha=0.4, marker='D', s=10)\n",
    "\n",
    "z_n = M[k_star] \n",
    "plt.text(z_n[0], z_n[1], str(k_star), fontsize=13) \n",
    "# plt.text(M[k_star, 0], M[k_star, 1], str(k_star), fontsize=13) \n",
    "\n",
    "plt.scatter(z_n[0], z_n[1],  marker='D', s=40, color='g')\n",
    "plt.scatter(x[:, 0], x[:, 1], s=40, color='g', marker='x', label='$\\mathbf{x}_n$', linewidths=2)\n",
    "print(\"\")"
   ]
  },
  {
   "cell_type": "markdown",
   "id": "f4531a41",
   "metadata": {},
   "source": [
    "データに一番近い格子点のインデックスが表示され，データと同じ色に着色されているのが確認できたと思います．\n",
    "\n",
    "\n",
    "では次にデータ１点ではなく，N点で考えます．\n",
    "データ集合$X = \\{ \\mathbf{x}_n\\}_{n=1}^N$は以下のように生成されます．"
   ]
  },
  {
   "cell_type": "code",
   "execution_count": null,
   "id": "f862f5b6",
   "metadata": {},
   "outputs": [],
   "source": [
    "N = 9\n",
    "X = np.random.rand(N*2).reshape(N,2)\n",
    "cmap = plt.get_cmap(\"tab10\") \n",
    "\n",
    "plt.scatter(M[:, 0], M[:, 1], alpha=0.4, marker='D', s=10)\n",
    "for n in range(N):\n",
    "    plt.scatter(X[n, 0], X[n, 1], color=cmap(n), s=50, marker='x', linewidths=2)"
   ]
  },
  {
   "cell_type": "markdown",
   "id": "9b3dc829",
   "metadata": {},
   "source": [
    "データ集合$X$に対応する勝者ノード集合$K^* = \\{ k_n^*\\}_{n=1}^N$は以下のように求めます．"
   ]
  },
  {
   "cell_type": "code",
   "execution_count": null,
   "id": "751e3d93",
   "metadata": {},
   "outputs": [],
   "source": [
    "print(X.shape, M.shape)\n",
    "Dist = np.sum((X[:, None, :] - M[None, :, :])**2, axis=2)\n",
    "print(Dist.shape)\n",
    "\n",
    "K_star = np.argmin(Dist, axis=1)\n",
    "\n",
    "K_star"
   ]
  },
  {
   "cell_type": "markdown",
   "id": "3f293950",
   "metadata": {},
   "source": [
    "さらに，勝者ノード集合を用いて，データ集合$X$に対応するノード集合$Z = \\{ \\mathbf{m}_{k_n^*}\\}_{n=1}^N$を描画します．"
   ]
  },
  {
   "cell_type": "code",
   "execution_count": null,
   "id": "917a2859",
   "metadata": {},
   "outputs": [],
   "source": [
    "plt.scatter(M[:, 0], M[:, 1], alpha=0.4, marker='D', s=10)\n",
    "for n in range(N):\n",
    "    plt.scatter(X[n, 0], X[n, 1], color=cmap(n), s=50, marker='x', linewidths=2)\n",
    "    \n",
    "    z_n = M[K_star[n]]\n",
    "    \n",
    "    plt.scatter(z_n[0], z_n[1], marker='D', s=40, color=cmap(n))\n",
    "#     plt.scatter(M[K_star[n], 0], M[K_star[n], 1], marker='D', s=40, color=cmap(n))"
   ]
  },
  {
   "cell_type": "markdown",
   "id": "c4409066",
   "metadata": {},
   "source": [
    "データに一番近いノードの色が，そのデータの色になっていることがわかります（勝者ノードが重複している場合は上書きされます）．"
   ]
  },
  {
   "cell_type": "markdown",
   "id": "8db6dfb5",
   "metadata": {},
   "source": [
    "### 4. Fancy index"
   ]
  },
  {
   "cell_type": "markdown",
   "id": "e7050346",
   "metadata": {},
   "source": [
    "先ほど，データ集合$X$に対応するノード集合$Z$を求めるのにfor文を用いて実装しました（ひとつ目の方法）．\n",
    "\n",
    "つまり，\n",
    "\n",
    "$\\forall n, \\mathbf{z}_n := \\mathbf{m}_{k_n^*}$\n",
    "`for n in range(N):\n",
    "    z_n = M[K_ster[n]]`\n",
    "\n",
    "としました．\n",
    "\n",
    "これを行列計算（もうひとつの方法）で求める際に用いるのが Fancy Indexです．\n",
    "\n",
    "イメージとしては以下のような数式になります．  \n",
    "$Z = M[K^*]$"
   ]
  },
  {
   "cell_type": "code",
   "execution_count": null,
   "id": "c121db0e",
   "metadata": {},
   "outputs": [],
   "source": [
    "Z = M[K_star]\n",
    "Z, Z.shape, M[0:14,:], M.shape, K_star, len(K_star)"
   ]
  },
  {
   "cell_type": "markdown",
   "id": "55913137",
   "metadata": {},
   "source": [
    "以下，未実装誰かやってくれ\n",
    "### 5. Einsum\n",
    "UKRとTSOMの実装にあったら便利なテクニックです．\n",
    "### 6. Jax\n",
    "UKRの実装にあったら便利なテクニックです．\n",
    "\n"
   ]
  },
  {
   "cell_type": "markdown",
   "id": "a000abdf",
   "metadata": {},
   "source": [
    "## 実装\n",
    "ここでは，上で得た知識を使って様々な計算を実装していきます．"
   ]
  },
  {
   "cell_type": "markdown",
   "id": "915dcd1c",
   "metadata": {},
   "source": [
    "### I.距離行列\n"
   ]
  },
  {
   "cell_type": "markdown",
   "id": "cdcec405",
   "metadata": {},
   "source": [
    "#### I.a 一次元空間\n",
    "データ$A=\\{a_n\\}_{n=1}^N$と構造$B=\\{b_k\\}_{k=1}^K$の要素の間の距離を測れ．\n",
    "\n",
    "つまり， $D_{ij} = Dist(a_i, b_j)$ のような距離行列(N x K)を求めよ．\n",
    "\n",
    "*$Dist(a,b)$は$a,b$を入力として実数を返す距離関数．ここでは任意の距離関数を用いて良い．"
   ]
  },
  {
   "cell_type": "code",
   "execution_count": null,
   "id": "1df69b44",
   "metadata": {},
   "outputs": [],
   "source": [
    "N, K = 5, 10\n",
    "A = np.random.randn(N)\n",
    "B = np.linspace(-1,1, K)\n",
    "plt.scatter(A, np.zeros(len(A)), color='r', marker='x')\n",
    "plt.scatter(B, np.zeros(len(B)), color='b')"
   ]
  },
  {
   "cell_type": "markdown",
   "id": "661ef7a0",
   "metadata": {},
   "source": []
  },
  {
   "cell_type": "markdown",
   "id": "4255ab0a",
   "metadata": {},
   "source": [
    "#### I.b 二次元空間\n",
    "データ$A=\\{\\mathbf{a}_n\\}_{n=1}^N, \\mathbf{a}\\in \\mathbb{R}^2$と構造$B=\\{\\mathbf{b}_k\\}_{k=1}^K,\\mathbf{b}\\in \\mathbb{R}^2$の要素の間の距離を測れ．\n",
    "\n"
   ]
  },
  {
   "cell_type": "code",
   "execution_count": null,
   "id": "41e57795",
   "metadata": {},
   "outputs": [],
   "source": [
    "N, K = 3, 10\n",
    "D = 2\n",
    "A = np.random.randn(N,D).reshape(N,D)\n",
    "b = np.linspace(-1,1, K)\n",
    "xx, yy = np.meshgrid(b, b)\n",
    "B = np.concatenate([xx.reshape(-1)[:, None], yy.reshape(-1)[:, None]], axis=1)\n",
    "plt.scatter(B[:,0], B[:,1], color='b')\n",
    "plt.scatter(A[:,0], A[:,1], color='r', marker='x')"
   ]
  },
  {
   "cell_type": "code",
   "execution_count": null,
   "id": "870a53b3",
   "metadata": {},
   "outputs": [],
   "source": []
  },
  {
   "cell_type": "markdown",
   "id": "37f5cba4",
   "metadata": {},
   "source": [
    "#### I.c 任意次元数の空間\n",
    "データ$A=\\{\\mathbf{a}_n\\}_{n=1}^N, \\mathbf{a}\\in \\mathbb{R}^D$と構造$B=\\{\\mathbf{b}_k\\}_{k=1}^K,\\mathbf{b}\\in \\mathbb{R}^D$の要素の間の距離を測れ．\n",
    "\n",
    "データと構造を定義するところからはじめよ．処理に任意の次元に対応できるようすればいいだけで，次元数は３でよい．"
   ]
  },
  {
   "cell_type": "code",
   "execution_count": null,
   "id": "3463e329",
   "metadata": {},
   "outputs": [],
   "source": []
  }
 ],
 "metadata": {
  "kernelspec": {
   "display_name": "Python 3",
   "language": "python",
   "name": "python3"
  },
  "language_info": {
   "codemirror_mode": {
    "name": "ipython",
    "version": 3
   },
   "file_extension": ".py",
   "mimetype": "text/x-python",
   "name": "python",
   "nbconvert_exporter": "python",
   "pygments_lexer": "ipython3",
   "version": "3.8.9"
  },
  "toc-autonumbering": false,
  "toc-showmarkdowntxt": false
 },
 "nbformat": 4,
 "nbformat_minor": 5
}
