{
 "cells": [
  {
   "cell_type": "markdown",
   "id": "CMgK5gUTCnJN",
   "metadata": {
    "id": "CMgK5gUTCnJN",
    "tags": []
   },
   "source": [
    "# 基盤技術開発テクニック練習ノートブック\n",
    "## 2021年度ver\n",
    "\n",
    "## このノートブックについて\n",
    "数式の実装には多くのやり方があります．例えば，行列演算の実装方法は大きく分けて二通りあります．ひとつはfor文によって要素ずつ計算する方法，もうひとつは行列計算ライブラリによって計算する方法です．\n",
    "\n",
    "\n",
    "このノートブックでは古川研究室でよく使われる行列演算のテクニックをできるだけ網羅してまとめました．また，これらのテクニックを実際に使ってみながら体系的に理解・学習できるようになることを目標に作りました．"
   ]
  },
  {
   "cell_type": "markdown",
   "id": "MiGgMEy9CnJT",
   "metadata": {
    "id": "MiGgMEy9CnJT"
   },
   "source": [
    "修正事項\n",
    "- argminの説明が演繹的\n",
    "- jax, einsumの実装がまだ"
   ]
  },
  {
   "cell_type": "markdown",
   "id": "3DCyArhZCnJU",
   "metadata": {
    "id": "3DCyArhZCnJU"
   },
   "source": [
    "## 事前知識\n",
    "このノートブックでも必要最低限の操作は抑えますが，事前知識として以下の本を読むことを推奨します．\n",
    "\n",
    "[Dropboxにpdf](https://www.dropbox.com/s/7r6cbcux1br1jhb/%E3%82%BC%E3%83%AD%E3%81%8B%E3%82%89%E4%BD%9C%E3%82%8BPython%E6%A9%9F%E6%A2%B0%E5%AD%A6%E7%BF%92%E3%83%97%E3%83%AD%E3%82%B0%E3%83%A9%E3%83%9F%E3%83%B3%E3%82%B0%E5%85%A5%E9%96%80_pass.pdf?dl=0)があるので手元におくのを推奨します．\n",
    "\n",
    "- 「ゼロからつくるPython機械学習プログラミング入門」\n",
    "  - chapter2：Python入門\n",
    "  - chapter3：数学のおさらい\n"
   ]
  },
  {
   "cell_type": "markdown",
   "id": "RshBcX6gCnJU",
   "metadata": {
    "id": "RshBcX6gCnJU"
   },
   "source": [
    "## 準備\n",
    "### [Numpy](https://numpy.org/doc/stable/user/index.html)\n",
    "\n",
    "NumpyはPythonで科学的な計算を行うための基本的なパッケージです．行列計算は機械学習に限らず数値計算の基本であり，Numpyは高速に行列計算を行うことができます．"
   ]
  },
  {
   "cell_type": "code",
   "execution_count": null,
   "id": "hEEztDodCnJV",
   "metadata": {
    "id": "hEEztDodCnJV"
   },
   "outputs": [],
   "source": [
    "# numpyをimportします． as npで短縮してnpという名前で使うのが一般的です．\n",
    "import numpy as np"
   ]
  },
  {
   "cell_type": "code",
   "execution_count": null,
   "id": "o20-cVAdCnJV",
   "metadata": {
    "id": "o20-cVAdCnJV",
    "outputId": "43f28a0f-a524-46b8-fcc1-0f6f6683e7ed"
   },
   "outputs": [
    {
     "name": "stdout",
     "output_type": "stream",
     "text": [
      "[[1. 0. 0. 0. 0.]\n",
      " [0. 1. 0. 0. 0.]\n",
      " [0. 0. 1. 0. 0.]\n",
      " [0. 0. 0. 1. 0.]\n",
      " [0. 0. 0. 0. 1.]]\n"
     ]
    },
    {
     "data": {
      "text/plain": [
       "(5, 5)"
      ]
     },
     "execution_count": 2,
     "metadata": {
      "tags": []
     },
     "output_type": "execute_result"
    }
   ],
   "source": [
    "# 5次元の単位行列を作ります．\n",
    "A = np.eye(5)\n",
    "\n",
    "# 中身を確認します．\n",
    "print(A)\n",
    "# 配列のサイズを確認します． (5, 5)は 5x５の行列になっているという意味です． \n",
    "# また， jupyterではセルの最後の行はprint()と括らなくても出力されます．\n",
    "A.shape"
   ]
  },
  {
   "cell_type": "markdown",
   "id": "B4utns13CnJW",
   "metadata": {
    "id": "B4utns13CnJW"
   },
   "source": [
    "### [Matplotlib](https://)\n",
    "MatplotlibはPythonの描画パッケージです（描画の実装で悩むのはアルゴリズムの実装と理解にはあまり関係ないので，困ったら知ってる人に質問することをおすすめします）．"
   ]
  },
  {
   "cell_type": "code",
   "execution_count": null,
   "id": "TOo6We5OCnJX",
   "metadata": {
    "colab": {
     "base_uri": "https://localhost:8080/"
    },
    "executionInfo": {
     "elapsed": 556,
     "status": "ok",
     "timestamp": 1619572535315,
     "user": {
      "displayName": "imasojisan",
      "photoUrl": "https://lh3.googleusercontent.com/a-/AOh14GiRF3CbhRMaSy1bKnyH_1kcMsrxDKYNevlfhkzlzg=s64",
      "userId": "09240841069639675636"
     },
     "user_tz": -540
    },
    "id": "TOo6We5OCnJX",
    "outputId": "cad35117-0f6d-411b-addf-46d12a42d34b"
   },
   "outputs": [
    {
     "name": "stdout",
     "output_type": "stream",
     "text": [
      "[[ 0  1]\n",
      " [ 2  3]\n",
      " [ 4  5]\n",
      " [ 6  7]\n",
      " [ 8  9]\n",
      " [10 11]\n",
      " [12 13]\n",
      " [14 15]\n",
      " [16 17]\n",
      " [18 19]] (10, 2)\n"
     ]
    }
   ],
   "source": [
    "import matplotlib.pyplot as plt\n",
    "\n",
    "N = 10 # データ数\n",
    "D = 2 # 次元数\n",
    "\n",
    "# 二次元データをN個つくります．\n",
    "X = np.arange(N*D).reshape(N,D)\n",
    "print(X, X.shape)"
   ]
  },
  {
   "cell_type": "code",
   "execution_count": null,
   "id": "3BTiFpX_CnJX",
   "metadata": {
    "id": "3BTiFpX_CnJX",
    "outputId": "0472efca-7e05-42ab-8006-9ba43b188476"
   },
   "outputs": [
    {
     "name": "stdout",
     "output_type": "stream",
     "text": [
      "\n"
     ]
    },
    {
     "data": {
      "image/png": "[encoded data removed]",
      "text/plain": [
       "<Figure size 432x288 with 1 Axes>"
      ]
     },
     "metadata": {
      "needs_background": "light",
      "tags": []
     },
     "output_type": "display_data"
    }
   ],
   "source": [
    "# 散布図(scatter)で描画します． \n",
    "## 第一引数にはx座標の値のベクトル．第二引数にはy座標の値のベクトルをいれます．\n",
    "plt.scatter(X[:,0], X[:,1], marker='x')\n",
    "[plt.text(X[n,0], X[n,1], \"(\"+str(X[n,0])+\",\"+str(X[n,1])+\")\") for n in range(N)]\n",
    "print(\"\")"
   ]
  },
  {
   "cell_type": "markdown",
   "id": "sOqeuKJlCnJY",
   "metadata": {
    "id": "sOqeuKJlCnJY"
   },
   "source": [
    "### Jax, Jaxlib\n",
    "\n",
    "自動微分パッケージです．"
   ]
  },
  {
   "cell_type": "code",
   "execution_count": null,
   "id": "X2wGSZ0gCnJY",
   "metadata": {
    "id": "X2wGSZ0gCnJY"
   },
   "outputs": [],
   "source": [
    "import jax,jaxlib"
   ]
  },
  {
   "cell_type": "markdown",
   "id": "QyQXVPEeCnJZ",
   "metadata": {
    "id": "QyQXVPEeCnJZ"
   },
   "source": [
    "### Scipy\n",
    "一般的な機械学習のライブラリです．"
   ]
  },
  {
   "cell_type": "code",
   "execution_count": null,
   "id": "Y7miSHDhCnJZ",
   "metadata": {
    "id": "Y7miSHDhCnJZ"
   },
   "outputs": [],
   "source": [
    "import scipy"
   ]
  },
  {
   "cell_type": "markdown",
   "id": "kRIr65sQCnJZ",
   "metadata": {
    "id": "kRIr65sQCnJZ"
   },
   "source": [
    "## 目次\n",
    "0. リシェイプ（reshape)\n",
    "1. ブロードキャスト（Broadcast）\n",
    "2. メッシュグリッド（Meshgrid)\n",
    "3. アーグミン（Argmin)\n",
    "4. ファンシィインデックス（Fancy index)\n",
    "5. アインサム（Einsum)"
   ]
  },
  {
   "cell_type": "markdown",
   "id": "xzuvmhHsCnJa",
   "metadata": {
    "id": "xzuvmhHsCnJa"
   },
   "source": [
    "### 0. Reshape\n",
    "さっきでてきた\n",
    "> X = np.arange(N*D).reshape(N,D)\n",
    "\n",
    "これです．\n",
    "\n",
    "[reshape](https://numpy.org/doc/stable/reference/generated/numpy.reshape.html)はデータの形（サイズ）を変更するときに使います．"
   ]
  },
  {
   "cell_type": "code",
   "execution_count": null,
   "id": "qOUfzwPVCnJa",
   "metadata": {
    "id": "qOUfzwPVCnJa",
    "outputId": "530cad88-3b46-483b-a6cc-9eb8a8f0896b"
   },
   "outputs": [
    {
     "name": "stdout",
     "output_type": "stream",
     "text": [
      "Xのshapeは (16,) すなわち 16 次元ベクトル（ 16 個要素がある）ということです．\n",
      "[ 0  1  2  3  4  5  6  7  8  9 10 11 12 13 14 15]\n",
      "\n",
      "\n",
      "これに対しN, D = 8 , 2 として X.reshape(N,D)とすると (8, 2) の行列になります．\n"
     ]
    }
   ],
   "source": [
    "# xxx, yyy を適当な整数に変えて実行してください．\n",
    "#N, D = xxx, yyy\n",
    "N, D = 8, 2\n",
    "\n",
    "# NxD次元ベクトルを作ります．\n",
    "X = np.arange(N*D)\n",
    "print(\"Xのshapeは\", X.shape,\"すなわち\", N*D,\"次元ベクトル（\",N*D,\"個要素がある）ということです．\")\n",
    "print(X)\n",
    "X_m = X.reshape(N,D)\n",
    "print(\"\\n\")\n",
    "print(\"これに対しN, D =\",N,\",\",D,\"として X.reshape(N,D)とすると\", X_m.shape,\"の行列になります．\")"
   ]
  },
  {
   "cell_type": "code",
   "execution_count": null,
   "id": "NWF1-mdfCnJa",
   "metadata": {
    "id": "NWF1-mdfCnJa",
    "outputId": "6184b704-6776-4dde-d670-c99ff089c0d4"
   },
   "outputs": [
    {
     "name": "stdout",
     "output_type": "stream",
     "text": [
      "また，逆にベクトルに戻すには以下のようにします．\n",
      "X.reshape(-1) [ 0  1  2  3  4  5  6  7  8  9 10 11 12 13 14 15]\n"
     ]
    }
   ],
   "source": [
    "print(\"また，逆にベクトルに戻すには以下のようにします．\")\n",
    "\n",
    "print('X.reshape(-1)', X.reshape(-1))"
   ]
  },
  {
   "cell_type": "markdown",
   "id": "WTeK-OP6CnJb",
   "metadata": {
    "id": "WTeK-OP6CnJb"
   },
   "source": [
    "#### 演習問題0\n",
    "以上の操作を任意の行列で実践せよ．"
   ]
  },
  {
   "cell_type": "code",
   "execution_count": null,
   "id": "UmErZkzzCnJb",
   "metadata": {
    "colab": {
     "base_uri": "https://localhost:8080/"
    },
    "executionInfo": {
     "elapsed": 496,
     "status": "ok",
     "timestamp": 1619572834150,
     "user": {
      "displayName": "imasojisan",
      "photoUrl": "https://lh3.googleusercontent.com/a-/AOh14GiRF3CbhRMaSy1bKnyH_1kcMsrxDKYNevlfhkzlzg=s64",
      "userId": "09240841069639675636"
     },
     "user_tz": -540
    },
    "id": "UmErZkzzCnJb",
    "outputId": "5fb0f997-cecf-44db-ea04-3c3262fc5457"
   },
   "outputs": [
    {
     "name": "stdout",
     "output_type": "stream",
     "text": [
      "X= (60,) N*D= 60\n",
      "[ 0  1  2  3  4  5  6  7  8  9 10 11 12 13 14 15 16 17 18 19 20 21 22 23\n",
      " 24 25 26 27 28 29 30 31 32 33 34 35 36 37 38 39 40 41 42 43 44 45 46 47\n",
      " 48 49 50 51 52 53 54 55 56 57 58 59]\n",
      "\n",
      "\n",
      "X_m= [[ 0  1  2  3  4  5  6  7  8  9 10 11]\n",
      " [12 13 14 15 16 17 18 19 20 21 22 23]\n",
      " [24 25 26 27 28 29 30 31 32 33 34 35]\n",
      " [36 37 38 39 40 41 42 43 44 45 46 47]\n",
      " [48 49 50 51 52 53 54 55 56 57 58 59]]\n",
      "X.reshape(-1) [ 0  1  2  3  4  5  6  7  8  9 10 11 12 13 14 15 16 17 18 19 20 21 22 23\n",
      " 24 25 26 27 28 29 30 31 32 33 34 35 36 37 38 39 40 41 42 43 44 45 46 47\n",
      " 48 49 50 51 52 53 54 55 56 57 58 59]\n"
     ]
    }
   ],
   "source": [
    "# xxx, yyy を適当な整数に変えて実行してください．\n",
    "#N, D = xxx, yyy\n",
    "N, D = 5, 12\n",
    "\n",
    "# NxD次元ベクトルを作ります．\n",
    "X = np.arange(N*D)\n",
    "print(\"X=\", X.shape, \"N*D=\", N*D)\n",
    "print(X)\n",
    "X_m = X.reshape(N,D)\n",
    "print(\"\\n\")\n",
    "print(\"X_m=\", X_m)\n",
    "\n",
    "print('X.reshape(-1)', X.reshape(-1))"
   ]
  },
  {
   "cell_type": "markdown",
   "id": "C__Xj09qCnJb",
   "metadata": {
    "id": "C__Xj09qCnJb"
   },
   "source": [
    "### 1. Broadcast\n",
    "詳しい定義は[上島さんの解説記事](https://www.kamishima.net/mlmpyja/nbayes2/broadcasting.html).\n",
    "使い方やイメージが欲しいなら[ここ](https://deepage.net/features/numpy-broadcasting.html)."
   ]
  },
  {
   "cell_type": "code",
   "execution_count": null,
   "id": "owL3YZWNCnJb",
   "metadata": {
    "colab": {
     "base_uri": "https://localhost:8080/"
    },
    "executionInfo": {
     "elapsed": 490,
     "status": "ok",
     "timestamp": 1619574723506,
     "user": {
      "displayName": "imasojisan",
      "photoUrl": "https://lh3.googleusercontent.com/a-/AOh14GiRF3CbhRMaSy1bKnyH_1kcMsrxDKYNevlfhkzlzg=s64",
      "userId": "09240841069639675636"
     },
     "user_tz": -540
    },
    "id": "owL3YZWNCnJb",
    "outputId": "40a631d3-953c-44a9-c23f-fe7362b3fa38"
   },
   "outputs": [
    {
     "name": "stdout",
     "output_type": "stream",
     "text": [
      "Aのshapeは (3, 1)  で，A自体は \n",
      " [[1]\n",
      " [2]\n",
      " [3]] \n",
      "\n",
      "Bのshapeは (3, 4)  で，B自体は \n",
      " [[ 0  1  2  3]\n",
      " [ 4  5  6  7]\n",
      " [ 8  9 10 11]] \n",
      "\n",
      "この行列A,Bに対して B-A という演算をすると \n",
      " [[-1  0  1  2]\n",
      " [ 2  3  4  5]\n",
      " [ 5  6  7  8]] となります．\n"
     ]
    }
   ],
   "source": [
    "I = 3\n",
    "J = 4\n",
    "A = np.arange(I)[:, None] + 1\n",
    "print(\"Aのshapeは\",A.shape,\" で，A自体は\",'\\n',A, \"\\n\")\n",
    "B = np.arange(I*J).reshape(I,J)\n",
    "print(\"Bのshapeは\",B.shape,\" で，B自体は\",'\\n', B, \"\\n\")\n",
    "\n",
    "print(\"この行列A,Bに対して B-A という演算をすると\",\"\\n\", B - A,\"となります．\")\n",
    "\n",
    "# B - A"
   ]
  },
  {
   "cell_type": "markdown",
   "id": "_psrevs5CnJc",
   "metadata": {
    "id": "_psrevs5CnJc"
   },
   "source": [
    "行列演算はシェイプが違う行列同士の演算は定義されていません（というかできません）が，Broadcastをサポートしているライブラリでは，ある条件を満たした場合に特殊な演算が行えます（行われてしまいます）．\n",
    "\n",
    "今回のケース:\n",
    "A行列（shape:(3,1)）とB行列（shape:(3,4)）はshapeが違うので演算できません． \n",
    "Broadcastでは，A行列(3,1)を列方向にコピーしてA_hat(3,4)の行列を作ることで，B - A_hatの演算を行います．"
   ]
  },
  {
   "cell_type": "code",
   "execution_count": null,
   "id": "meTBajb9CnJc",
   "metadata": {
    "id": "meTBajb9CnJc",
    "outputId": "4dcb75e0-232e-4304-a569-9a297aa76777"
   },
   "outputs": [
    {
     "name": "stdout",
     "output_type": "stream",
     "text": [
      "具体的には，以下のような演算をします．\n",
      "A_hat: \n",
      " [[1 1 1 1]\n",
      " [2 2 2 2]\n",
      " [3 3 3 3]]\n",
      "B - A_hat: \n",
      " [[-1  0  1  2]\n",
      " [ 2  3  4  5]\n",
      " [ 5  6  7  8]] \n",
      " 先ほどのB-Aの演算と一致します．\n"
     ]
    }
   ],
   "source": [
    "print(\"具体的には，以下のような演算をします．\")\n",
    "A_hat = np.tile(A, J)\n",
    "print(\"A_hat:\",\"\\n\",A_hat)\n",
    "print(\"B - A_hat:\", \"\\n\", B - A_hat,\"\\n\", \"先ほどのB-Aの演算と一致します．\")"
   ]
  },
  {
   "cell_type": "markdown",
   "id": "amBeEG4BCnJd",
   "metadata": {
    "id": "amBeEG4BCnJd"
   },
   "source": [
    "#### 演習問題1-a \n",
    "列方向のコピーではなく，行方向のコピーが行われるBroadcastの計算を実装せよ（任意の四則演算）．"
   ]
  },
  {
   "cell_type": "code",
   "execution_count": null,
   "id": "Y5Wn2TDcCnJd",
   "metadata": {
    "id": "Y5Wn2TDcCnJd",
    "outputId": "108ab815-e377-4d30-e925-d7017f269156"
   },
   "outputs": [
    {
     "data": {
      "text/plain": [
       "array([[ 0,  1,  4,  9],\n",
       "       [ 0,  5, 12, 21],\n",
       "       [ 0,  9, 20, 33]])"
      ]
     },
     "execution_count": 11,
     "metadata": {
      "tags": []
     },
     "output_type": "execute_result"
    }
   ],
   "source": [
    "C = np.arange(J)[None, :]\n",
    "B * C"
   ]
  },
  {
   "cell_type": "code",
   "execution_count": null,
   "id": "QT708GykKC6z",
   "metadata": {
    "colab": {
     "base_uri": "https://localhost:8080/"
    },
    "executionInfo": {
     "elapsed": 489,
     "status": "ok",
     "timestamp": 1619574749953,
     "user": {
      "displayName": "imasojisan",
      "photoUrl": "https://lh3.googleusercontent.com/a-/AOh14GiRF3CbhRMaSy1bKnyH_1kcMsrxDKYNevlfhkzlzg=s64",
      "userId": "09240841069639675636"
     },
     "user_tz": -540
    },
    "id": "QT708GykKC6z",
    "outputId": "131a274f-3248-4a64-96ea-43b8dcf98809"
   },
   "outputs": [
    {
     "data": {
      "text/plain": [
       "array([[0.        , 0.5       , 0.66666667, 0.75      ],\n",
       "       [4.        , 2.5       , 2.        , 1.75      ],\n",
       "       [8.        , 4.5       , 3.33333333, 2.75      ]])"
      ]
     },
     "execution_count": 9,
     "metadata": {
      "tags": []
     },
     "output_type": "execute_result"
    }
   ],
   "source": [
    "C = np.arange(J)[None, :] + 1\n",
    "B / C"
   ]
  },
  {
   "cell_type": "markdown",
   "id": "apN9GdJhCnJd",
   "metadata": {
    "id": "apN9GdJhCnJd"
   },
   "source": [
    "#### 演習問題1-b \n",
    "先ほどは行列（shapeが(I, J)のような変数）に対しての演算であった．3階のテンソルの変数（shapeが （I,J,K））に対して，任意のBroadcastの計算を実装せよ．"
   ]
  },
  {
   "cell_type": "code",
   "execution_count": null,
   "id": "jT8bEhlVCnJe",
   "metadata": {
    "colab": {
     "base_uri": "https://localhost:8080/"
    },
    "executionInfo": {
     "elapsed": 867,
     "status": "ok",
     "timestamp": 1619575089298,
     "user": {
      "displayName": "imasojisan",
      "photoUrl": "https://lh3.googleusercontent.com/a-/AOh14GiRF3CbhRMaSy1bKnyH_1kcMsrxDKYNevlfhkzlzg=s64",
      "userId": "09240841069639675636"
     },
     "user_tz": -540
    },
    "id": "jT8bEhlVCnJe",
    "outputId": "eebb4978-b28d-4551-b5ea-48f19de9104f"
   },
   "outputs": [
    {
     "name": "stdout",
     "output_type": "stream",
     "text": [
      "[[[ 0  1]\n",
      "  [ 1  2]\n",
      "  [ 2  3]\n",
      "  [ 3  4]]\n",
      "\n",
      " [[ 4  5]\n",
      "  [ 5  6]\n",
      "  [ 6  7]\n",
      "  [ 7  8]]\n",
      "\n",
      " [[ 8  9]\n",
      "  [ 9 10]\n",
      "  [10 11]\n",
      "  [11 12]]] \n",
      " [[[ 0  0]\n",
      "  [ 2  2]\n",
      "  [ 4  4]\n",
      "  [ 6  6]]\n",
      "\n",
      " [[ 6  6]\n",
      "  [ 8  8]\n",
      "  [10 10]\n",
      "  [12 12]]\n",
      "\n",
      " [[12 12]\n",
      "  [14 14]\n",
      "  [16 16]\n",
      "  [18 18]]]\n"
     ]
    }
   ],
   "source": [
    "K = 2\n",
    "D = np.arange(I*J*K).reshape(I,J,K)\n",
    "E1 = np.arange(I*J).reshape(I,J,1)\n",
    "E2 = np.arange(I*K).reshape(I,1,K)\n",
    "print(D-E1,\"\\n\",D-E2)"
   ]
  },
  {
   "cell_type": "code",
   "execution_count": null,
   "id": "N4UfhWo1L9eb",
   "metadata": {
    "colab": {
     "base_uri": "https://localhost:8080/"
    },
    "executionInfo": {
     "elapsed": 648,
     "status": "ok",
     "timestamp": 1619575336847,
     "user": {
      "displayName": "imasojisan",
      "photoUrl": "https://lh3.googleusercontent.com/a-/AOh14GiRF3CbhRMaSy1bKnyH_1kcMsrxDKYNevlfhkzlzg=s64",
      "userId": "09240841069639675636"
     },
     "user_tz": -540
    },
    "id": "N4UfhWo1L9eb",
    "outputId": "8b77acad-78da-43b1-d7f4-bb8a6c754295"
   },
   "outputs": [
    {
     "name": "stdout",
     "output_type": "stream",
     "text": [
      "[[[0 1]\n",
      "  [2 3]\n",
      "  [4 5]\n",
      "  [6 7]]]\n",
      "[[[ 0  1]\n",
      "  [ 2  3]\n",
      "  [ 4  5]\n",
      "  [ 6  7]]\n",
      "\n",
      " [[ 8  9]\n",
      "  [10 11]\n",
      "  [12 13]\n",
      "  [14 15]]\n",
      "\n",
      " [[16 17]\n",
      "  [18 19]\n",
      "  [20 21]\n",
      "  [22 23]]]\n",
      "[[[ 0  0]\n",
      "  [ 0  0]\n",
      "  [ 0  0]\n",
      "  [ 0  0]]\n",
      "\n",
      " [[ 8  8]\n",
      "  [ 8  8]\n",
      "  [ 8  8]\n",
      "  [ 8  8]]\n",
      "\n",
      " [[16 16]\n",
      "  [16 16]\n",
      "  [16 16]\n",
      "  [16 16]]]\n"
     ]
    }
   ],
   "source": [
    "E3 = np.arange(1*J*K).reshape(1,J,K)\n",
    "print(E3)\n",
    "print(D)\n",
    "print(D-E3)"
   ]
  },
  {
   "cell_type": "markdown",
   "id": "yqOhtMNBCnJf",
   "metadata": {
    "id": "yqOhtMNBCnJf"
   },
   "source": [
    "### 2. Meshgrid\n",
    "\n",
    "[Meshgrid](https://numpy.org/doc/stable/reference/generated/numpy.meshgrid.html)は，座標ベクトルを入力すると座標行列を返してくれる関数です．\n",
    "\n",
    "以下のような軸をx,y軸を想定して，そこにそれぞれ等間隔に点が打たれているとします．"
   ]
  },
  {
   "cell_type": "code",
   "execution_count": null,
   "id": "oqWPcKQCCnJg",
   "metadata": {
    "colab": {
     "base_uri": "https://localhost:8080/",
     "height": 299
    },
    "executionInfo": {
     "elapsed": 504,
     "status": "ok",
     "timestamp": 1619576689719,
     "user": {
      "displayName": "imasojisan",
      "photoUrl": "https://lh3.googleusercontent.com/a-/AOh14GiRF3CbhRMaSy1bKnyH_1kcMsrxDKYNevlfhkzlzg=s64",
      "userId": "09240841069639675636"
     },
     "user_tz": -540
    },
    "id": "oqWPcKQCCnJg",
    "outputId": "a17569dc-960d-4d2a-cf00-baae210d5f74"
   },
   "outputs": [
    {
     "name": "stdout",
     "output_type": "stream",
     "text": [
      "1.0 -1.0\n"
     ]
    },
    {
     "data": {
      "text/plain": [
       "<matplotlib.collections.PathCollection at 0x7fea3d563510>"
      ]
     },
     "execution_count": 19,
     "metadata": {
      "tags": []
     },
     "output_type": "execute_result"
    },
    {
     "data": {
      "image/png": "[encoded data removed]",
      "text/plain": [
       "<Figure size 432x288 with 1 Axes>"
      ]
     },
     "metadata": {
      "needs_background": "light",
      "tags": []
     },
     "output_type": "display_data"
    }
   ],
   "source": [
    "K = 11\n",
    "A = np.linspace(-1,1,K)\n",
    "print(A[-1],A[0])\n",
    "B = np.linspace(-2,2,K)\n",
    "plt.plot([A[-1], A[0]], [0,0], color='black', alpha=0.4)\n",
    "plt.plot([0,0],[B[-1], B[0]], color='black', alpha=0.4)\n",
    "plt.scatter(A,np.zeros(A.shape), color='orange', marker='x')\n",
    "plt.scatter(np.zeros(B.shape),B, color='g', marker='x')"
   ]
  },
  {
   "cell_type": "markdown",
   "id": "Ep7Rc2n4CnJg",
   "metadata": {
    "id": "Ep7Rc2n4CnJg"
   },
   "source": [
    "この点からそれぞれ垂直線をひくと，以下の図のようなグリッドを描くことができます．\n",
    "\n",
    "meshgrid関数は以下の図のような格子点（交わっているところ）の座標を取得したいときに使われる関数です．"
   ]
  },
  {
   "cell_type": "code",
   "execution_count": null,
   "id": "ttp44X2IVOr6",
   "metadata": {
    "colab": {
     "base_uri": "https://localhost:8080/"
    },
    "executionInfo": {
     "elapsed": 521,
     "status": "ok",
     "timestamp": 1619577605877,
     "user": {
      "displayName": "imasojisan",
      "photoUrl": "https://lh3.googleusercontent.com/a-/AOh14GiRF3CbhRMaSy1bKnyH_1kcMsrxDKYNevlfhkzlzg=s64",
      "userId": "09240841069639675636"
     },
     "user_tz": -540
    },
    "id": "ttp44X2IVOr6",
    "outputId": "21700aac-acd1-42ed-87b8-891b2b12d55f"
   },
   "outputs": [
    {
     "name": "stdout",
     "output_type": "stream",
     "text": [
      "[-1.  -0.8 -0.6 -0.4 -0.2  0.   0.2  0.4  0.6  0.8  1. ]\n",
      "[-1. -1. -1. -1. -1. -1. -1. -1. -1. -1. -1.]\n",
      "[-2.  -1.6 -1.2 -0.8 -0.4  0.   0.4  0.8  1.2  1.6  2. ]\n"
     ]
    }
   ],
   "source": [
    "print(A)\n",
    "print(np.tile(A[0],K))\n",
    "print(B)"
   ]
  },
  {
   "cell_type": "code",
   "execution_count": null,
   "id": "QfP3pyrpCnJg",
   "metadata": {
    "id": "QfP3pyrpCnJg",
    "outputId": "c40c91db-2e98-46ee-b70a-9cabb651db34"
   },
   "outputs": [
    {
     "name": "stdout",
     "output_type": "stream",
     "text": [
      "この緑線とオレンジ線の交点の座標を求めます．\n"
     ]
    },
    {
     "data": {
      "image/png": "[encoded data removed]",
      "text/plain": [
       "<Figure size 432x288 with 1 Axes>"
      ]
     },
     "metadata": {
      "needs_background": "light",
      "tags": []
     },
     "output_type": "display_data"
    }
   ],
   "source": [
    "plt.scatter(A,np.zeros(A.shape), color='orange', marker='x')\n",
    "plt.scatter(np.zeros(B.shape),B, color='g', marker='x')\n",
    "[plt.plot(np.tile(A[i],K), B, color='orange') for i in range(K)]\n",
    "[plt.plot(A, np.tile(B[i], K),  color='g') for i in range(K)]\n",
    "print(\"この緑線とオレンジ線の交点の座標を求めます．\")"
   ]
  },
  {
   "cell_type": "code",
   "execution_count": null,
   "id": "khtofYm8CnJh",
   "metadata": {
    "colab": {
     "base_uri": "https://localhost:8080/"
    },
    "executionInfo": {
     "elapsed": 754,
     "status": "ok",
     "timestamp": 1619604592955,
     "user": {
      "displayName": "imasojisan",
      "photoUrl": "https://lh3.googleusercontent.com/a-/AOh14GiRF3CbhRMaSy1bKnyH_1kcMsrxDKYNevlfhkzlzg=s64",
      "userId": "09240841069639675636"
     },
     "user_tz": -540
    },
    "id": "khtofYm8CnJh",
    "outputId": "1adae053-a478-4d7a-bb48-c0fd3521820e"
   },
   "outputs": [
    {
     "name": "stdout",
     "output_type": "stream",
     "text": [
      "二つのベクトルを入力すると二つの行列が返ってきます．\n",
      "XXのshapeは (11, 11) YYのshapeは (11, 11) となります．\n",
      "XX\n",
      "[[-1.  -0.8 -0.6 -0.4 -0.2  0.   0.2  0.4  0.6  0.8  1. ]\n",
      " [-1.  -0.8 -0.6 -0.4 -0.2  0.   0.2  0.4  0.6  0.8  1. ]\n",
      " [-1.  -0.8 -0.6 -0.4 -0.2  0.   0.2  0.4  0.6  0.8  1. ]\n",
      " [-1.  -0.8 -0.6 -0.4 -0.2  0.   0.2  0.4  0.6  0.8  1. ]\n",
      " [-1.  -0.8 -0.6 -0.4 -0.2  0.   0.2  0.4  0.6  0.8  1. ]\n",
      " [-1.  -0.8 -0.6 -0.4 -0.2  0.   0.2  0.4  0.6  0.8  1. ]\n",
      " [-1.  -0.8 -0.6 -0.4 -0.2  0.   0.2  0.4  0.6  0.8  1. ]\n",
      " [-1.  -0.8 -0.6 -0.4 -0.2  0.   0.2  0.4  0.6  0.8  1. ]\n",
      " [-1.  -0.8 -0.6 -0.4 -0.2  0.   0.2  0.4  0.6  0.8  1. ]\n",
      " [-1.  -0.8 -0.6 -0.4 -0.2  0.   0.2  0.4  0.6  0.8  1. ]\n",
      " [-1.  -0.8 -0.6 -0.4 -0.2  0.   0.2  0.4  0.6  0.8  1. ]]\n",
      "YY\n",
      "[[-1.  -1.  -1.  -1.  -1.  -1.  -1.  -1.  -1.  -1.  -1. ]\n",
      " [-0.8 -0.8 -0.8 -0.8 -0.8 -0.8 -0.8 -0.8 -0.8 -0.8 -0.8]\n",
      " [-0.6 -0.6 -0.6 -0.6 -0.6 -0.6 -0.6 -0.6 -0.6 -0.6 -0.6]\n",
      " [-0.4 -0.4 -0.4 -0.4 -0.4 -0.4 -0.4 -0.4 -0.4 -0.4 -0.4]\n",
      " [-0.2 -0.2 -0.2 -0.2 -0.2 -0.2 -0.2 -0.2 -0.2 -0.2 -0.2]\n",
      " [ 0.   0.   0.   0.   0.   0.   0.   0.   0.   0.   0. ]\n",
      " [ 0.2  0.2  0.2  0.2  0.2  0.2  0.2  0.2  0.2  0.2  0.2]\n",
      " [ 0.4  0.4  0.4  0.4  0.4  0.4  0.4  0.4  0.4  0.4  0.4]\n",
      " [ 0.6  0.6  0.6  0.6  0.6  0.6  0.6  0.6  0.6  0.6  0.6]\n",
      " [ 0.8  0.8  0.8  0.8  0.8  0.8  0.8  0.8  0.8  0.8  0.8]\n",
      " [ 1.   1.   1.   1.   1.   1.   1.   1.   1.   1.   1. ]]\n"
     ]
    }
   ],
   "source": [
    "\n",
    "XX, YY = np.meshgrid(A,B)\n",
    "\n",
    "print(\"二つのベクトルを入力すると二つの行列が返ってきます．\")\n",
    "print(\"XXのshapeは\", XX.shape, 'YYのshapeは', YY.shape, \"となります．\")\n",
    "print(\"XX\")\n",
    "print(XX)\n",
    "print(\"YY\")\n",
    "print(YY)"
   ]
  },
  {
   "cell_type": "markdown",
   "id": "iaHc9sGECnJh",
   "metadata": {
    "id": "iaHc9sGECnJh"
   },
   "source": [
    "$XX_{ij}$にはx=i,y=-jの交点のx座標が，$YY_{ij}$にはx=i,y=-jの交点のy座標が格納されています．\n",
    "言い換えると， x=i, y=-jの交点の座標は$( XX_{ij}, YY_{ij} )$ です．\n",
    "\n",
    "meshgridを使うと，交点の座標の数値は得られました．ここからは，二つの行列を使いやすい形に整形します．\n",
    "ここでいう使いやすい形とは，いわゆるデータ行列のような形（shapeが(交点の数，次元数)）の二次元配列です．つまり，\n",
    "\n",
    "$M = \\\\\n",
    "[(XX_{11}, YY_{11}),\\\\(XX_{12}, YY_{12}), \\\\(XX_{13}, YY_{13}), \\\\ \\cdots, \\\\(XX_{KK}, YY_{KK}）] $\n",
    "\n",
    "のような \n",
    "$\\mathbf{R}^{(K*K)\\times 2} = \\mathbf{R}^{(P \\times 2)},P = K*K$の二次元行列$M$に整形します．\n",
    "言い換えると，$M = ( \\mathbf{m_p} )_{p=1}^{P}, \\mathbf{m} \\in \\mathbb{R}^2$となります． \n",
    "\n",
    "\n",
    "まず，XXとYYは (K, K)のような二次元配列である必要ではないので，reshapeを使ってKxKの行列をM次元ベクトルに直します． \n",
    "次に，1次元ベクトルxxとyyを横方向に結合するために，reshapeされたxx, yyを(M, 1)の行列に整形して，concatenateします．"
   ]
  },
  {
   "cell_type": "code",
   "execution_count": null,
   "id": "gGsHRFVHCnJh",
   "metadata": {
    "colab": {
     "base_uri": "https://localhost:8080/"
    },
    "executionInfo": {
     "elapsed": 921,
     "status": "ok",
     "timestamp": 1619604596130,
     "user": {
      "displayName": "imasojisan",
      "photoUrl": "https://lh3.googleusercontent.com/a-/AOh14GiRF3CbhRMaSy1bKnyH_1kcMsrxDKYNevlfhkzlzg=s64",
      "userId": "09240841069639675636"
     },
     "user_tz": -540
    },
    "id": "gGsHRFVHCnJh",
    "outputId": "f6cd9450-6055-4758-df82-5d0e04f08b51"
   },
   "outputs": [
    {
     "name": "stdout",
     "output_type": "stream",
     "text": [
      "(121,) [[-1. ]\n",
      " [-0.8]\n",
      " [-0.6]\n",
      " [-0.4]\n",
      " [-0.2]\n",
      " [ 0. ]\n",
      " [ 0.2]\n",
      " [ 0.4]\n",
      " [ 0.6]\n",
      " [ 0.8]] (10, 1)\n",
      "[[-1.  -1. ]\n",
      " [-0.8 -1. ]\n",
      " [-0.6 -1. ]\n",
      " [-0.4 -1. ]\n",
      " [-0.2 -1. ]\n",
      " [ 0.  -1. ]\n",
      " [ 0.2 -1. ]\n",
      " [ 0.4 -1. ]\n",
      " [ 0.6 -1. ]\n",
      " [ 0.8 -1. ]\n",
      " [ 1.  -1. ]\n",
      " [-1.  -0.8]\n",
      " [-0.8 -0.8]\n",
      " [-0.6 -0.8]\n",
      " [-0.4 -0.8]\n",
      " [-0.2 -0.8]\n",
      " [ 0.  -0.8]\n",
      " [ 0.2 -0.8]\n",
      " [ 0.4 -0.8]\n",
      " [ 0.6 -0.8]\n",
      " [ 0.8 -0.8]\n",
      " [ 1.  -0.8]\n",
      " [-1.  -0.6]\n",
      " [-0.8 -0.6]\n",
      " [-0.6 -0.6]\n",
      " [-0.4 -0.6]\n",
      " [-0.2 -0.6]\n",
      " [ 0.  -0.6]\n",
      " [ 0.2 -0.6]\n",
      " [ 0.4 -0.6]\n",
      " [ 0.6 -0.6]\n",
      " [ 0.8 -0.6]\n",
      " [ 1.  -0.6]\n",
      " [-1.  -0.4]\n",
      " [-0.8 -0.4]\n",
      " [-0.6 -0.4]\n",
      " [-0.4 -0.4]\n",
      " [-0.2 -0.4]\n",
      " [ 0.  -0.4]\n",
      " [ 0.2 -0.4]\n",
      " [ 0.4 -0.4]\n",
      " [ 0.6 -0.4]\n",
      " [ 0.8 -0.4]\n",
      " [ 1.  -0.4]\n",
      " [-1.  -0.2]\n",
      " [-0.8 -0.2]\n",
      " [-0.6 -0.2]\n",
      " [-0.4 -0.2]\n",
      " [-0.2 -0.2]\n",
      " [ 0.  -0.2]\n",
      " [ 0.2 -0.2]\n",
      " [ 0.4 -0.2]\n",
      " [ 0.6 -0.2]\n",
      " [ 0.8 -0.2]\n",
      " [ 1.  -0.2]\n",
      " [-1.   0. ]\n",
      " [-0.8  0. ]\n",
      " [-0.6  0. ]\n",
      " [-0.4  0. ]\n",
      " [-0.2  0. ]\n",
      " [ 0.   0. ]\n",
      " [ 0.2  0. ]\n",
      " [ 0.4  0. ]\n",
      " [ 0.6  0. ]\n",
      " [ 0.8  0. ]\n",
      " [ 1.   0. ]\n",
      " [-1.   0.2]\n",
      " [-0.8  0.2]\n",
      " [-0.6  0.2]\n",
      " [-0.4  0.2]\n",
      " [-0.2  0.2]\n",
      " [ 0.   0.2]\n",
      " [ 0.2  0.2]\n",
      " [ 0.4  0.2]\n",
      " [ 0.6  0.2]\n",
      " [ 0.8  0.2]\n",
      " [ 1.   0.2]\n",
      " [-1.   0.4]\n",
      " [-0.8  0.4]\n",
      " [-0.6  0.4]\n",
      " [-0.4  0.4]\n",
      " [-0.2  0.4]\n",
      " [ 0.   0.4]\n",
      " [ 0.2  0.4]\n",
      " [ 0.4  0.4]\n",
      " [ 0.6  0.4]\n",
      " [ 0.8  0.4]\n",
      " [ 1.   0.4]\n",
      " [-1.   0.6]\n",
      " [-0.8  0.6]\n",
      " [-0.6  0.6]\n",
      " [-0.4  0.6]\n",
      " [-0.2  0.6]\n",
      " [ 0.   0.6]\n",
      " [ 0.2  0.6]\n",
      " [ 0.4  0.6]\n",
      " [ 0.6  0.6]\n",
      " [ 0.8  0.6]\n",
      " [ 1.   0.6]\n",
      " [-1.   0.8]\n",
      " [-0.8  0.8]\n",
      " [-0.6  0.8]\n",
      " [-0.4  0.8]\n",
      " [-0.2  0.8]\n",
      " [ 0.   0.8]\n",
      " [ 0.2  0.8]\n",
      " [ 0.4  0.8]\n",
      " [ 0.6  0.8]\n",
      " [ 0.8  0.8]\n",
      " [ 1.   0.8]\n",
      " [-1.   1. ]\n",
      " [-0.8  1. ]\n",
      " [-0.6  1. ]\n",
      " [-0.4  1. ]\n",
      " [-0.2  1. ]\n",
      " [ 0.   1. ]\n",
      " [ 0.2  1. ]\n",
      " [ 0.4  1. ]\n",
      " [ 0.6  1. ]\n",
      " [ 0.8  1. ]\n",
      " [ 1.   1. ]]\n"
     ]
    }
   ],
   "source": [
    "xx = XX.reshape(-1)\n",
    "print(xx.shape,xx[:10,None],xx[:10,None].shape)\n",
    "yy = YY.reshape(-1)\n",
    "M = np.concatenate([xx[:,None], yy[:,None]], axis=1)\n",
    "M.shape\n",
    "print(M)"
   ]
  },
  {
   "cell_type": "code",
   "execution_count": null,
   "id": "SxzzNrAyCnJi",
   "metadata": {
    "id": "SxzzNrAyCnJi",
    "outputId": "bed10cc0-3105-4b41-b92e-7fe974d4a5df"
   },
   "outputs": [
    {
     "data": {
      "text/plain": [
       "<matplotlib.collections.PathCollection at 0x12c82fc40>"
      ]
     },
     "execution_count": 17,
     "metadata": {
      "tags": []
     },
     "output_type": "execute_result"
    },
    {
     "data": {
      "image/png": "[encoded data removed]",
      "text/plain": [
       "<Figure size 432x288 with 1 Axes>"
      ]
     },
     "metadata": {
      "needs_background": "light",
      "tags": []
     },
     "output_type": "display_data"
    }
   ],
   "source": [
    "plt.scatter(A,np.zeros(A.shape), color='orange', marker='x')\n",
    "plt.scatter(np.zeros(B.shape),B, color='g', marker='x')\n",
    "plt.scatter(M[:, 0], M[:, 1], alpha=0.4, marker='D')"
   ]
  },
  {
   "cell_type": "markdown",
   "id": "8ZB63kWFCnJi",
   "metadata": {
    "id": "8ZB63kWFCnJi"
   },
   "source": [
    "格子点行列Mができました．"
   ]
  },
  {
   "cell_type": "markdown",
   "id": "06d2Vk6NCnJi",
   "metadata": {
    "id": "06d2Vk6NCnJi"
   },
   "source": [
    "#### 演習問題2\n",
    "\n",
    "以上の操作を任意のベクトルの格子点で実践せよ"
   ]
  },
  {
   "cell_type": "code",
   "execution_count": null,
   "id": "uCvXWeeRCnJi",
   "metadata": {
    "colab": {
     "base_uri": "https://localhost:8080/",
     "height": 299
    },
    "executionInfo": {
     "elapsed": 779,
     "status": "ok",
     "timestamp": 1619609227745,
     "user": {
      "displayName": "imasojisan",
      "photoUrl": "https://lh3.googleusercontent.com/a-/AOh14GiRF3CbhRMaSy1bKnyH_1kcMsrxDKYNevlfhkzlzg=s64",
      "userId": "09240841069639675636"
     },
     "user_tz": -540
    },
    "id": "uCvXWeeRCnJi",
    "outputId": "87c07e7a-09a2-44fc-db8a-626b4d9ce0d7"
   },
   "outputs": [
    {
     "name": "stdout",
     "output_type": "stream",
     "text": [
      "-9 -9\n"
     ]
    },
    {
     "data": {
      "text/plain": [
       "<matplotlib.collections.PathCollection at 0x7fd698d3aa10>"
      ]
     },
     "execution_count": 78,
     "metadata": {
      "tags": []
     },
     "output_type": "execute_result"
    },
    {
     "data": {
      "image/png": "[encoded data removed]",
      "text/plain": [
       "<Figure size 432x288 with 1 Axes>"
      ]
     },
     "metadata": {
      "needs_background": "light",
      "tags": []
     },
     "output_type": "display_data"
    }
   ],
   "source": [
    "import numpy as np\n",
    "import matplotlib.pyplot as plt\n",
    "\n",
    "K = 11\n",
    "A = np.random.randint(-10,10,K)\n",
    "print(A[-1],A[0])\n",
    "B = np.random.randint(-20,20,K)\n",
    "plt.plot([A[-1], A[0]], [0,0], color='black', alpha=0.4)\n",
    "plt.plot([0,0],[B[-1], B[0]], color='black', alpha=0.4)\n",
    "plt.scatter(A,np.zeros(A.shape), color='orange', marker='x')\n",
    "plt.scatter(np.zeros(B.shape),B, color='g', marker='x')"
   ]
  },
  {
   "cell_type": "code",
   "execution_count": null,
   "id": "fjUPdz_33-cj",
   "metadata": {
    "colab": {
     "base_uri": "https://localhost:8080/",
     "height": 282
    },
    "executionInfo": {
     "elapsed": 786,
     "status": "ok",
     "timestamp": 1619609260747,
     "user": {
      "displayName": "imasojisan",
      "photoUrl": "https://lh3.googleusercontent.com/a-/AOh14GiRF3CbhRMaSy1bKnyH_1kcMsrxDKYNevlfhkzlzg=s64",
      "userId": "09240841069639675636"
     },
     "user_tz": -540
    },
    "id": "fjUPdz_33-cj",
    "outputId": "8086c990-dc33-4955-e9f9-487c559f80c2"
   },
   "outputs": [
    {
     "name": "stdout",
     "output_type": "stream",
     "text": [
      "この緑線とオレンジ線の交点の座標を求めます．\n"
     ]
    },
    {
     "data": {
      "image/png": "[encoded data removed]",
      "text/plain": [
       "<Figure size 432x288 with 1 Axes>"
      ]
     },
     "metadata": {
      "needs_background": "light",
      "tags": []
     },
     "output_type": "display_data"
    }
   ],
   "source": [
    "plt.scatter(A,np.zeros(A.shape), color='orange', marker='x')\n",
    "plt.scatter(np.zeros(B.shape),B, color='g', marker='x')\n",
    "[plt.plot(np.tile(A[i],K), B, color='orange') for i in range(K)]\n",
    "[plt.plot(A, np.tile(B[i], K),  color='g') for i in range(K)]\n",
    "print(\"この緑線とオレンジ線の交点の座標を求めます．\")"
   ]
  },
  {
   "cell_type": "code",
   "execution_count": null,
   "id": "_eWva5cKBxol",
   "metadata": {
    "colab": {
     "base_uri": "https://localhost:8080/"
    },
    "executionInfo": {
     "elapsed": 529,
     "status": "ok",
     "timestamp": 1619609283099,
     "user": {
      "displayName": "imasojisan",
      "photoUrl": "https://lh3.googleusercontent.com/a-/AOh14GiRF3CbhRMaSy1bKnyH_1kcMsrxDKYNevlfhkzlzg=s64",
      "userId": "09240841069639675636"
     },
     "user_tz": -540
    },
    "id": "_eWva5cKBxol",
    "outputId": "a9bcf70f-97d3-4b6d-8dc1-68a49ea181fb"
   },
   "outputs": [
    {
     "name": "stdout",
     "output_type": "stream",
     "text": [
      "二つのベクトルを入力すると二つの行列が返ってきます．\n",
      "XXのshapeは (11, 11) YYのshapeは (11, 11) となります．\n",
      "XX\n",
      "[[-9 -8 -7 -8  3  8  0  1 -4 -3 -9]\n",
      " [-9 -8 -7 -8  3  8  0  1 -4 -3 -9]\n",
      " [-9 -8 -7 -8  3  8  0  1 -4 -3 -9]\n",
      " [-9 -8 -7 -8  3  8  0  1 -4 -3 -9]\n",
      " [-9 -8 -7 -8  3  8  0  1 -4 -3 -9]\n",
      " [-9 -8 -7 -8  3  8  0  1 -4 -3 -9]\n",
      " [-9 -8 -7 -8  3  8  0  1 -4 -3 -9]\n",
      " [-9 -8 -7 -8  3  8  0  1 -4 -3 -9]\n",
      " [-9 -8 -7 -8  3  8  0  1 -4 -3 -9]\n",
      " [-9 -8 -7 -8  3  8  0  1 -4 -3 -9]\n",
      " [-9 -8 -7 -8  3  8  0  1 -4 -3 -9]]\n",
      "YY\n",
      "[[  0   0   0   0   0   0   0   0   0   0   0]\n",
      " [  8   8   8   8   8   8   8   8   8   8   8]\n",
      " [ 19  19  19  19  19  19  19  19  19  19  19]\n",
      " [  9   9   9   9   9   9   9   9   9   9   9]\n",
      " [-10 -10 -10 -10 -10 -10 -10 -10 -10 -10 -10]\n",
      " [ -4  -4  -4  -4  -4  -4  -4  -4  -4  -4  -4]\n",
      " [-19 -19 -19 -19 -19 -19 -19 -19 -19 -19 -19]\n",
      " [ -1  -1  -1  -1  -1  -1  -1  -1  -1  -1  -1]\n",
      " [-11 -11 -11 -11 -11 -11 -11 -11 -11 -11 -11]\n",
      " [  8   8   8   8   8   8   8   8   8   8   8]\n",
      " [  1   1   1   1   1   1   1   1   1   1   1]]\n"
     ]
    }
   ],
   "source": [
    "XX, YY = np.meshgrid(A,B)\n",
    "\n",
    "print(\"二つのベクトルを入力すると二つの行列が返ってきます．\")\n",
    "print(\"XXのshapeは\", XX.shape, 'YYのshapeは', YY.shape, \"となります．\")\n",
    "print(\"XX\")\n",
    "print(XX)\n",
    "print(\"YY\")\n",
    "print(YY)"
   ]
  },
  {
   "cell_type": "code",
   "execution_count": null,
   "id": "AmgHx6Yb39w4",
   "metadata": {
    "colab": {
     "base_uri": "https://localhost:8080/"
    },
    "executionInfo": {
     "elapsed": 738,
     "status": "ok",
     "timestamp": 1619609292994,
     "user": {
      "displayName": "imasojisan",
      "photoUrl": "https://lh3.googleusercontent.com/a-/AOh14GiRF3CbhRMaSy1bKnyH_1kcMsrxDKYNevlfhkzlzg=s64",
      "userId": "09240841069639675636"
     },
     "user_tz": -540
    },
    "id": "AmgHx6Yb39w4",
    "outputId": "3d9e4479-b60e-4cc5-8643-6d511ee2083a"
   },
   "outputs": [
    {
     "data": {
      "text/plain": [
       "(121, 2)"
      ]
     },
     "execution_count": 81,
     "metadata": {
      "tags": []
     },
     "output_type": "execute_result"
    }
   ],
   "source": [
    "xx = XX.reshape(-1)\n",
    "#print(xx.shape,xx[:10,None],xx[:10,None].shape)\n",
    "yy = YY.reshape(-1)\n",
    "M = np.concatenate([xx[:,None], yy[:,None]], axis=1)\n",
    "M.shape"
   ]
  },
  {
   "cell_type": "code",
   "execution_count": null,
   "id": "qhK5wEi039Yr",
   "metadata": {
    "colab": {
     "base_uri": "https://localhost:8080/",
     "height": 282
    },
    "executionInfo": {
     "elapsed": 776,
     "status": "ok",
     "timestamp": 1619609359269,
     "user": {
      "displayName": "imasojisan",
      "photoUrl": "https://lh3.googleusercontent.com/a-/AOh14GiRF3CbhRMaSy1bKnyH_1kcMsrxDKYNevlfhkzlzg=s64",
      "userId": "09240841069639675636"
     },
     "user_tz": -540
    },
    "id": "qhK5wEi039Yr",
    "outputId": "4648f0ca-6fd6-4180-d548-0403745dc8d7"
   },
   "outputs": [
    {
     "data": {
      "text/plain": [
       "<matplotlib.collections.PathCollection at 0x7fd698e42810>"
      ]
     },
     "execution_count": 83,
     "metadata": {
      "tags": []
     },
     "output_type": "execute_result"
    },
    {
     "data": {
      "image/png": "[encoded data removed]",
      "text/plain": [
       "<Figure size 432x288 with 1 Axes>"
      ]
     },
     "metadata": {
      "needs_background": "light",
      "tags": []
     },
     "output_type": "display_data"
    }
   ],
   "source": [
    "plt.scatter(A,np.zeros(A.shape), color='orange', marker='x')\n",
    "plt.scatter(np.zeros(B.shape),B, color='g', marker='x')\n",
    "plt.scatter(M[:, 0], M[:, 1], alpha=0.4, marker='D')"
   ]
  },
  {
   "cell_type": "markdown",
   "id": "OuFV6LheCnJj",
   "metadata": {
    "id": "OuFV6LheCnJj"
   },
   "source": [
    "### 3. Argmin, Argmax\n",
    "\n",
    ">数学において、最大値を与える引数あるいは最大点集合 (argument of the maximum) は関数がその最大値をとる定義域の元全体の成す集合である[note 1]。省略してarg&nbsp;max (もしくは argmax) と書かれる。最大値が函数の出力のうち最も大きいものを指すのと対照に、最大点は最大値を出力する入力の値を指す。\n",
    "最大点集合は一般に複数の元を含むが、それは有限集合であることも無限集合であることも起こり得るし、空となることもあり得る。"
   ]
  },
  {
   "cell_type": "markdown",
   "id": "6TSmwgpdCnJj",
   "metadata": {
    "id": "6TSmwgpdCnJj"
   },
   "source": [
    "上が一応定義ですが，とりあえず以下の例をみながら理解していきましょう．\n",
    "\n",
    "例えば，先ほどのような格子点は以下のようなインデックスを持ちます．"
   ]
  },
  {
   "cell_type": "code",
   "execution_count": null,
   "id": "QDEvBd3RCnJj",
   "metadata": {
    "id": "QDEvBd3RCnJj",
    "outputId": "dafe0a65-7e3a-45ae-8ce5-e124833fe240"
   },
   "outputs": [
    {
     "name": "stdout",
     "output_type": "stream",
     "text": [
      "\n"
     ]
    },
    {
     "data": {
      "image/png": "[encoded data removed]",
      "text/plain": [
       "<Figure size 432x288 with 1 Axes>"
      ]
     },
     "metadata": {
      "needs_background": "light",
      "tags": []
     },
     "output_type": "display_data"
    }
   ],
   "source": [
    "plt.scatter(M[:, 0], M[:, 1], alpha=0.4, marker='D')\n",
    "[plt.text(M[n, 0], M[n, 1], str(n)) for n in range(K*K)]\n",
    "print(\"\")"
   ]
  },
  {
   "cell_type": "markdown",
   "id": "z0KZ8WBfCnJk",
   "metadata": {
    "id": "z0KZ8WBfCnJk"
   },
   "source": [
    "さらに，この空間に以下のような新規点$\\mathbf{x}_n$ができたとします．"
   ]
  },
  {
   "cell_type": "code",
   "execution_count": null,
   "id": "5lsIvFTKCnJk",
   "metadata": {
    "id": "5lsIvFTKCnJk",
    "outputId": "bfa88deb-d20b-45d4-b8b4-5459b6209b41"
   },
   "outputs": [
    {
     "data": {
      "text/plain": [
       "<matplotlib.legend.Legend at 0x12ca00700>"
      ]
     },
     "execution_count": 19,
     "metadata": {
      "tags": []
     },
     "output_type": "execute_result"
    },
    {
     "data": {
      "image/png": "[encoded data removed]",
      "text/plain": [
       "<Figure size 432x288 with 1 Axes>"
      ]
     },
     "metadata": {
      "needs_background": "light",
      "tags": []
     },
     "output_type": "display_data"
    }
   ],
   "source": [
    "np.random.seed(6)\n",
    "x = np.random.rand(2).reshape(1,2)\n",
    "\n",
    "plt.scatter(M[:, 0], M[:, 1], alpha=0.4, marker='D')\n",
    "plt.scatter(x[:, 0], x[:, 1], s=80, color='g', marker='x', label='$\\mathbf{x}_n$', linewidths=4)\n",
    "plt.legend()\n",
    "# plt.text(X[:, 0]+0.05, X[:, 1], \"$\\mathbf{x}^*$\", color='g', size=25)"
   ]
  },
  {
   "cell_type": "markdown",
   "id": "kNBaASBSCnJk",
   "metadata": {
    "id": "kNBaASBSCnJk"
   },
   "source": [
    "$\\newcommand{\\argmax}{\\mathop{\\rm arg~max}\\limits}$\n",
    "$\\newcommand{\\argmin}{\\mathop{\\rm arg~min}\\limits}$\n",
    "\n",
    "ここでは， $\\mathbf{x}_n$とそれに一番近い$\\mathbf{m}_{k^*_n}$の点を求めます． \n",
    "${k^*_n}$は$n$番目のデータに対して一番近い$\\mathbf{m}$のインデックスで勝者ノード番号と呼びます（格子点のインデックス（番号）なのでノード番号とも呼びます）．\n",
    "格子点は座標の値が固定で非連続なので（このような点を離散点とも呼びます），この勝者ノード番号を求めれば，一番近い点を求めたことになります．\n",
    "\n",
    "この操作はを数式で書くと，\n",
    "$k^*_n = \\argmin_k D(\\mathbf{x}_n, \\mathbf{m}_k)$\n",
    "\n",
    "$D(\\mathbf{a},\\mathbf{b})$は$\\mathbf{a}$と$\\mathbf{b}$の距離を返す関数で， $D(\\mathbf{a},\\mathbf{b})=\\|\\mathbf{a} - \\mathbf{b} \\|^2$とすると，\n",
    "\n",
    "$k^*_n = \\argmin_k \\|\\mathbf{x}_n - \\mathbf{m}_k\\|^2$ となります．\n"
   ]
  },
  {
   "cell_type": "code",
   "execution_count": null,
   "id": "cutl7-LPCnJl",
   "metadata": {
    "id": "cutl7-LPCnJl",
    "outputId": "12af860a-0b66-4836-f96c-b55d4abbf015"
   },
   "outputs": [
    {
     "name": "stdout",
     "output_type": "stream",
     "text": [
      "(1, 2) (121, 2)\n",
      "(1, 121)\n"
     ]
    },
    {
     "data": {
      "text/plain": [
       "75"
      ]
     },
     "execution_count": 20,
     "metadata": {
      "tags": []
     },
     "output_type": "execute_result"
    }
   ],
   "source": [
    "print(x.shape, M.shape)\n",
    "Dist = np.sum((x[:, None, :] - M[None, :, :])**2, axis=2)\n",
    "print(Dist.shape)\n",
    "\n",
    "k_star = np.argmin(Dist)\n",
    "\n",
    "k_star"
   ]
  },
  {
   "cell_type": "markdown",
   "id": "hCFcAKO3CnJl",
   "metadata": {
    "id": "hCFcAKO3CnJl"
   },
   "source": [
    "データ$\\mathbf{x}_n$に対応する勝者ノード番号は 75でした．\n",
    "\n",
    "なので$\\mathbf{x}_n$に対応する座標を$\\mathbf{z}_n$とおくと\n",
    "\n",
    "$\\mathbf{z}_n := \\mathbf{m}_{75}$\n",
    "\n",
    "ということです．"
   ]
  },
  {
   "cell_type": "code",
   "execution_count": null,
   "id": "ZgK3sflRCnJl",
   "metadata": {
    "id": "ZgK3sflRCnJl",
    "outputId": "05f24328-5b5a-4a28-f40f-2f5df9eae90d"
   },
   "outputs": [
    {
     "name": "stdout",
     "output_type": "stream",
     "text": [
      "\n"
     ]
    },
    {
     "data": {
      "image/png": "[encoded data removed]",
      "text/plain": [
       "<Figure size 432x288 with 1 Axes>"
      ]
     },
     "metadata": {
      "needs_background": "light",
      "tags": []
     },
     "output_type": "display_data"
    }
   ],
   "source": [
    "plt.scatter(M[:, 0], M[:, 1], alpha=0.4, marker='D', s=10)\n",
    "\n",
    "z_n = M[k_star] \n",
    "plt.text(z_n[0], z_n[1], str(k_star), fontsize=13) \n",
    "# plt.text(M[k_star, 0], M[k_star, 1], str(k_star), fontsize=13) \n",
    "\n",
    "plt.scatter(z_n[0], z_n[1],  marker='D', s=40, color='g')\n",
    "plt.scatter(x[:, 0], x[:, 1], s=40, color='g', marker='x', label='$\\mathbf{x}_n$', linewidths=2)\n",
    "print(\"\")"
   ]
  },
  {
   "cell_type": "markdown",
   "id": "mgP04R-eCnJl",
   "metadata": {
    "id": "mgP04R-eCnJl"
   },
   "source": [
    "データに一番近い格子点のインデックスが表示され，データと同じ色に着色されているのが確認できたと思います．\n",
    "\n",
    "\n",
    "では次にデータ１点ではなく，N点で考えます．\n",
    "データ集合$X = \\{ \\mathbf{x}_n\\}_{n=1}^N$は以下のように生成されます．"
   ]
  },
  {
   "cell_type": "code",
   "execution_count": null,
   "id": "bT9cBi_lCnJm",
   "metadata": {
    "id": "bT9cBi_lCnJm",
    "outputId": "1c467882-7233-43fc-f7f0-6f4813217792"
   },
   "outputs": [
    {
     "data": {
      "image/png": "[encoded data removed]",
      "text/plain": [
       "<Figure size 432x288 with 1 Axes>"
      ]
     },
     "metadata": {
      "needs_background": "light",
      "tags": []
     },
     "output_type": "display_data"
    }
   ],
   "source": [
    "N = 9\n",
    "X = np.random.rand(N*2).reshape(N,2)\n",
    "cmap = plt.get_cmap(\"tab10\") \n",
    "\n",
    "plt.scatter(M[:, 0], M[:, 1], alpha=0.4, marker='D', s=10)\n",
    "for n in range(N):\n",
    "    plt.scatter(X[n, 0], X[n, 1], color=cmap(n), s=50, marker='x', linewidths=2)"
   ]
  },
  {
   "cell_type": "markdown",
   "id": "WRPj9xBXCnJm",
   "metadata": {
    "id": "WRPj9xBXCnJm"
   },
   "source": [
    "データ集合$X$に対応する勝者ノード集合$K^* = \\{ k_n^*\\}_{n=1}^N$は以下のように求めます．"
   ]
  },
  {
   "cell_type": "code",
   "execution_count": null,
   "id": "g_XyL_3bCnJm",
   "metadata": {
    "id": "g_XyL_3bCnJm",
    "outputId": "af8bd6a8-12a9-4a85-d9c4-542ea9ca12a8"
   },
   "outputs": [
    {
     "name": "stdout",
     "output_type": "stream",
     "text": [
      "(9, 2) (121, 2)\n",
      "(9, 121)\n"
     ]
    },
    {
     "data": {
      "text/plain": [
       "array([64, 72, 74, 84, 84, 74, 85, 75, 86])"
      ]
     },
     "execution_count": 23,
     "metadata": {
      "tags": []
     },
     "output_type": "execute_result"
    }
   ],
   "source": [
    "print(X.shape, M.shape)\n",
    "Dist = np.sum((X[:, None, :] - M[None, :, :])**2, axis=2)\n",
    "print(Dist.shape)\n",
    "\n",
    "K_star = np.argmin(Dist, axis=1)\n",
    "\n",
    "K_star"
   ]
  },
  {
   "cell_type": "markdown",
   "id": "gAJChjGICnJm",
   "metadata": {
    "id": "gAJChjGICnJm"
   },
   "source": [
    "さらに，勝者ノード集合を用いて，データ集合$X$に対応するノード集合$Z = \\{ \\mathbf{m}_{k_n^*}\\}_{n=1}^N$を描画します．"
   ]
  },
  {
   "cell_type": "code",
   "execution_count": null,
   "id": "5WU7ZUy5CnJn",
   "metadata": {
    "id": "5WU7ZUy5CnJn",
    "outputId": "7910514e-d04e-4be5-bf63-06fa70c53d24"
   },
   "outputs": [
    {
     "data": {
      "image/png": "[encoded data removed]",
      "text/plain": [
       "<Figure size 432x288 with 1 Axes>"
      ]
     },
     "metadata": {
      "needs_background": "light",
      "tags": []
     },
     "output_type": "display_data"
    }
   ],
   "source": [
    "plt.scatter(M[:, 0], M[:, 1], alpha=0.4, marker='D', s=10)\n",
    "for n in range(N):\n",
    "    plt.scatter(X[n, 0], X[n, 1], color=cmap(n), s=50, marker='x', linewidths=2)\n",
    "    \n",
    "    z_n = M[K_star[n]]\n",
    "    \n",
    "    plt.scatter(z_n[0], z_n[1], marker='D', s=40, color=cmap(n))\n",
    "#     plt.scatter(M[K_star[n], 0], M[K_star[n], 1], marker='D', s=40, color=cmap(n))"
   ]
  },
  {
   "cell_type": "markdown",
   "id": "ZVb16sL4CnJn",
   "metadata": {
    "id": "ZVb16sL4CnJn"
   },
   "source": [
    "データに一番近いノードの色が，そのデータの色になっていることがわかります（勝者ノードが重複している場合は上書きされます）．"
   ]
  },
  {
   "cell_type": "markdown",
   "id": "lZyK_LWXCnJn",
   "metadata": {
    "id": "lZyK_LWXCnJn"
   },
   "source": [
    "### 4. Fancy index"
   ]
  },
  {
   "cell_type": "markdown",
   "id": "KJpSWbHoCnJn",
   "metadata": {
    "id": "KJpSWbHoCnJn"
   },
   "source": [
    "先ほど，データ集合$X$に対応するノード集合$Z$を求めるのにfor文を用いて実装しました（ひとつ目の方法）．\n",
    "\n",
    "つまり，\n",
    "\n",
    "$\\forall n, \\mathbf{z}_n := \\mathbf{m}_{k_n^*}$\n",
    "`for n in range(N):\n",
    "    z_n = M[K_ster[n]]`\n",
    "\n",
    "としました．\n",
    "\n",
    "これを行列計算（もうひとつの方法）で求める際に用いるのが Fancy Indexです．\n",
    "\n",
    "イメージとしては以下のような数式になります．  \n",
    "$Z = M[K^*]$"
   ]
  },
  {
   "cell_type": "code",
   "execution_count": null,
   "id": "ihk1FD6GCnJn",
   "metadata": {
    "id": "ihk1FD6GCnJn",
    "outputId": "d3273bcf-3228-4530-b083-7f5675f625d3"
   },
   "outputs": [
    {
     "data": {
      "text/plain": [
       "(array([[0.8, 0. ],\n",
       "        [0.2, 0.4],\n",
       "        [0.6, 0.4],\n",
       "        [0.4, 0.8],\n",
       "        [0.4, 0.8],\n",
       "        [0.6, 0.4],\n",
       "        [0.6, 0.8],\n",
       "        [0.8, 0.4],\n",
       "        [0.8, 0.8]]),\n",
       " (9, 2),\n",
       " array([[-1. , -2. ],\n",
       "        [-0.8, -2. ],\n",
       "        [-0.6, -2. ],\n",
       "        [-0.4, -2. ],\n",
       "        [-0.2, -2. ],\n",
       "        [ 0. , -2. ],\n",
       "        [ 0.2, -2. ],\n",
       "        [ 0.4, -2. ],\n",
       "        [ 0.6, -2. ],\n",
       "        [ 0.8, -2. ],\n",
       "        [ 1. , -2. ],\n",
       "        [-1. , -1.6],\n",
       "        [-0.8, -1.6],\n",
       "        [-0.6, -1.6]]),\n",
       " (121, 2),\n",
       " array([64, 72, 74, 84, 84, 74, 85, 75, 86]),\n",
       " 9)"
      ]
     },
     "execution_count": 25,
     "metadata": {
      "tags": []
     },
     "output_type": "execute_result"
    }
   ],
   "source": [
    "Z = M[K_star]\n",
    "Z, Z.shape, M[0:14,:], M.shape, K_star, len(K_star)"
   ]
  },
  {
   "cell_type": "markdown",
   "id": "FDAyHhsfCnJo",
   "metadata": {
    "id": "FDAyHhsfCnJo"
   },
   "source": [
    "以下，未実装誰かやってくれ\n",
    "### 5. Einsum\n",
    "UKRとTSOMの実装にあったら便利なテクニックです．\n",
    "### 6. Jax\n",
    "UKRの実装にあったら便利なテクニックです．\n",
    "\n"
   ]
  },
  {
   "cell_type": "markdown",
   "id": "0CXztyRqCnJo",
   "metadata": {
    "id": "0CXztyRqCnJo"
   },
   "source": [
    "## 実装\n",
    "ここでは，上で得た知識を使って様々な計算を実装していきます．"
   ]
  },
  {
   "cell_type": "markdown",
   "id": "l74xua7xCnJo",
   "metadata": {
    "id": "l74xua7xCnJo"
   },
   "source": [
    "### I.距離行列\n"
   ]
  },
  {
   "cell_type": "markdown",
   "id": "3jGEb6BYCnJo",
   "metadata": {
    "id": "3jGEb6BYCnJo"
   },
   "source": [
    "#### I.a 一次元空間\n",
    "データ$A=\\{a_n\\}_{n=1}^N$と構造$B=\\{b_k\\}_{k=1}^K$の要素の間の距離を測れ．\n",
    "\n",
    "つまり， $D_{ij} = Dist(a_i, b_j)$ のような距離行列(N x K)を求めよ．\n",
    "\n",
    "*$Dist(a,b)$は$a,b$を入力として実数を返す距離関数．ここでは任意の距離関数を用いて良い．"
   ]
  },
  {
   "cell_type": "code",
   "execution_count": null,
   "id": "Uuyuex6dCnJp",
   "metadata": {
    "id": "Uuyuex6dCnJp",
    "outputId": "b86ad53b-0c44-4cef-eeea-0bb133860faa"
   },
   "outputs": [
    {
     "data": {
      "text/plain": [
       "<matplotlib.collections.PathCollection at 0x12cc42220>"
      ]
     },
     "execution_count": 26,
     "metadata": {
      "tags": []
     },
     "output_type": "execute_result"
    },
    {
     "data": {
      "image/png": "[encoded data removed]",
      "text/plain": [
       "<Figure size 432x288 with 1 Axes>"
      ]
     },
     "metadata": {
      "needs_background": "light",
      "tags": []
     },
     "output_type": "display_data"
    }
   ],
   "source": [
    "N, K = 5, 10\n",
    "A = np.random.randn(N)\n",
    "B = np.linspace(-1,1, K)\n",
    "plt.scatter(A, np.zeros(len(A)), color='r', marker='x')\n",
    "plt.scatter(B, np.zeros(len(B)), color='b')"
   ]
  },
  {
   "cell_type": "markdown",
   "id": "9uXeaFW5CnJp",
   "metadata": {
    "id": "9uXeaFW5CnJp"
   },
   "source": []
  },
  {
   "cell_type": "markdown",
   "id": "3oMIbB3FCnJp",
   "metadata": {
    "id": "3oMIbB3FCnJp"
   },
   "source": [
    "#### I.b 二次元空間\n",
    "データ$A=\\{\\mathbf{a}_n\\}_{n=1}^N, \\mathbf{a}\\in \\mathbb{R}^2$と構造$B=\\{\\mathbf{b}_k\\}_{k=1}^K,\\mathbf{b}\\in \\mathbb{R}^2$の要素の間の距離を測れ．\n",
    "\n"
   ]
  },
  {
   "cell_type": "code",
   "execution_count": null,
   "id": "VG26fJyvCnJp",
   "metadata": {
    "id": "VG26fJyvCnJp",
    "outputId": "04d92676-928d-4804-f861-27fe3b9d16c5"
   },
   "outputs": [
    {
     "data": {
      "text/plain": [
       "<matplotlib.collections.PathCollection at 0x12cc995e0>"
      ]
     },
     "execution_count": 27,
     "metadata": {
      "tags": []
     },
     "output_type": "execute_result"
    },
    {
     "data": {
      "image/png": "[encoded data removed]",
      "text/plain": [
       "<Figure size 432x288 with 1 Axes>"
      ]
     },
     "metadata": {
      "needs_background": "light",
      "tags": []
     },
     "output_type": "display_data"
    }
   ],
   "source": [
    "N, K = 3, 10\n",
    "D = 2\n",
    "A = np.random.randn(N,D).reshape(N,D)\n",
    "b = np.linspace(-1,1, K)\n",
    "xx, yy = np.meshgrid(b, b)\n",
    "B = np.concatenate([xx.reshape(-1)[:, None], yy.reshape(-1)[:, None]], axis=1)\n",
    "plt.scatter(B[:,0], B[:,1], color='b')\n",
    "plt.scatter(A[:,0], A[:,1], color='r', marker='x')"
   ]
  },
  {
   "cell_type": "code",
   "execution_count": null,
   "id": "DTykukqBCnJq",
   "metadata": {
    "id": "DTykukqBCnJq"
   },
   "outputs": [],
   "source": []
  },
  {
   "cell_type": "markdown",
   "id": "34VHIoPiCnJq",
   "metadata": {
    "id": "34VHIoPiCnJq"
   },
   "source": [
    "#### I.c 任意次元数の空間\n",
    "データ$A=\\{\\mathbf{a}_n\\}_{n=1}^N, \\mathbf{a}\\in \\mathbb{R}^D$と構造$B=\\{\\mathbf{b}_k\\}_{k=1}^K,\\mathbf{b}\\in \\mathbb{R}^D$の要素の間の距離を測れ．\n",
    "\n",
    "データと構造を定義するところからはじめよ．処理に任意の次元に対応できるようすればいいだけで，次元数は３でよい．"
   ]
  },
  {
   "cell_type": "code",
   "execution_count": null,
   "id": "K_6dCjQVCnJq",
   "metadata": {
    "id": "K_6dCjQVCnJq"
   },
   "outputs": [],
   "source": []
  }
 ],
 "metadata": {
  "colab": {
   "collapsed_sections": [
    "WTeK-OP6CnJb",
    "amBeEG4BCnJd",
    "apN9GdJhCnJd",
    "06d2Vk6NCnJi",
    "3jGEb6BYCnJo",
    "3oMIbB3FCnJp",
    "34VHIoPiCnJq"
   ],
   "name": "flab_techniqs_taga.ipynb",
   "provenance": [
    {
     "file_id": "1H45A8aINHWp5z0Z513qi1IkVr6SN9qvy",
     "timestamp": 1619739110566
    }
   ]
  },
  "kernelspec": {
   "display_name": "Python 3",
   "language": "python",
   "name": "python3"
  },
  "language_info": {
   "codemirror_mode": {
    "name": "ipython",
    "version": 3
   },
   "file_extension": ".py",
   "mimetype": "text/x-python",
   "name": "python",
   "nbconvert_exporter": "python",
   "pygments_lexer": "ipython3",
   "version": "3.8.8"
  },
  "toc-autonumbering": false,
  "toc-showmarkdowntxt": false
 },
 "nbformat": 4,
 "nbformat_minor": 5
}
