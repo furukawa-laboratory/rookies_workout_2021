{
 "cells": [
  {
   "cell_type": "markdown",
   "metadata": {
    "colab_type": "text",
    "id": "j2ao_pWtLudN"
   },
   "source": [
    "# 水曜日のレクチャーのおさらい\n",
    "パワーポイントで説明します( ･ิω･ิ)"
   ]
  },
  {
   "cell_type": "markdown",
   "metadata": {
    "colab_type": "text",
    "id": "mKMJ904TLpZy"
   },
   "source": [
    "# アーキテクチャ\n",
    "パワーポイントで説明します( ･ิω･ิ)"
   ]
  },
  {
   "cell_type": "markdown",
   "metadata": {
    "colab_type": "text",
    "id": "njfI-pBRL0mE"
   },
   "source": [
    "# SOMの求めるもの\n",
    "- 参照ベクトル\n",
    "- 勝者ノード"
   ]
  },
  {
   "cell_type": "markdown",
   "metadata": {
    "colab_type": "text",
    "id": "D9gLWbbiM04o"
   },
   "source": [
    "# アルゴリズム\n",
    "ホワイトボードで説明します( ･ิω･ิ)"
   ]
  },
  {
   "cell_type": "markdown",
   "metadata": {
    "colab_type": "text",
    "id": "zkUOklz1MmwV"
   },
   "source": [
    "# 実装の解説&演習"
   ]
  },
  {
   "cell_type": "markdown",
   "metadata": {
    "colab_type": "text",
    "id": "9bf1UX5-uxUi"
   },
   "source": [
    "## 準備"
   ]
  },
  {
   "cell_type": "markdown",
   "metadata": {
    "colab_type": "text",
    "id": "XOVJrbJFRhre"
   },
   "source": [
    "必要なライブラリのインポート"
   ]
  },
  {
   "cell_type": "code",
   "execution_count": 8,
   "metadata": {
    "colab": {
     "autoexec": {
      "startup": false,
      "wait_interval": 0
     }
    },
    "colab_type": "code",
    "id": "Q-rB9sQERcBB",
    "tags": []
   },
   "outputs": [],
   "source": [
    "import numpy as np"
   ]
  },
  {
   "cell_type": "markdown",
   "metadata": {
    "colab_type": "text",
    "id": "kzNMp8gyuQX-"
   },
   "source": [
    "おまじない（乱数のシード値を固定）"
   ]
  },
  {
   "cell_type": "code",
   "execution_count": 9,
   "metadata": {
    "colab": {
     "autoexec": {
      "startup": false,
      "wait_interval": 0
     }
    },
    "colab_type": "code",
    "id": "A67D5qwSpgWe",
    "tags": []
   },
   "outputs": [],
   "source": [
    "seed = 10\n",
    "np.random.seed(seed)"
   ]
  },
  {
   "cell_type": "markdown",
   "metadata": {
    "colab_type": "text",
    "id": "QlW97vE0WkAI"
   },
   "source": [
    "### 観測データの作成  \n",
    "ここでは人工的に作成したデータを観測データとして演習を進める  \n",
    "\n",
    "| 数式上での記号　　　　| プログラム上での変数名　　　　 | 役割 |\n",
    "|:-------------------|:----------------------------|:------------|\n",
    "|$N$|samples_num|サンプル数|\n",
    "|$D$|observed_dim|観測空間の次元|\n",
    "|$\\mathbf{x}_n\\ (n=1,\\dots,N)$|X|観測データ．$N$個の$D$次元ベクトルをまとめた$N\\times D$の2次元配列になる|\n",
    "以下を実行してみてください"
   ]
  },
  {
   "cell_type": "code",
   "execution_count": 10,
   "metadata": {
    "colab": {
     "autoexec": {
      "startup": false,
      "wait_interval": 0
     }
    },
    "colab_type": "code",
    "id": "eh8MWM8FQzLe",
    "tags": []
   },
   "outputs": [],
   "source": [
    "observed_dim = 3\n",
    "samples_num = 300\n",
    "\n",
    "#0で埋めた配列を用意\n",
    "X=np.zeros((samples_num,observed_dim))\n",
    "\n",
    "for n in range(samples_num):\n",
    "  X[n,0]=np.random.rand()*2.0-1.0\n",
    "  X[n,1]=np.random.rand()*2.0-1.0\n",
    "  X[n,2]=X[n,0]**2-X[n,1]**2"
   ]
  },
  {
   "cell_type": "markdown",
   "metadata": {
    "colab_type": "text",
    "id": "HCICWB3Gl22G"
   },
   "source": [
    "サイズを見てみよう"
   ]
  },
  {
   "cell_type": "code",
   "execution_count": 11,
   "metadata": {
    "colab": {
     "autoexec": {
      "startup": false,
      "wait_interval": 0
     },
     "base_uri": "https://localhost:8080/",
     "height": 37
    },
    "colab_type": "code",
    "executionInfo": {
     "elapsed": 1230,
     "status": "ok",
     "timestamp": 1524151651485,
     "user": {
      "displayName": "f-Lab kyutech",
      "photoUrl": "https://lh3.googleusercontent.com/a/default-user=s128",
      "userId": "108395026820824613825"
     },
     "user_tz": -540
    },
    "id": "pQYIAWh5gqqu",
    "outputId": "e486b52c-9757-46a9-c73b-3795aff801f3"
   },
   "outputs": [
    {
     "data": {
      "text/plain": [
       "(300, 3)"
      ]
     },
     "execution_count": 11,
     "metadata": {},
     "output_type": "execute_result"
    }
   ],
   "source": [
    "X.shape"
   ]
  },
  {
   "cell_type": "markdown",
   "metadata": {
    "colab_type": "text",
    "id": "hJesmyAql69y"
   },
   "source": [
    "300×3の2次元配列になっている．1次元目の300がデータ数，2次元目の3がデータの次元を表す．"
   ]
  },
  {
   "cell_type": "markdown",
   "metadata": {
    "colab_type": "text",
    "id": "WJV6_vbVmlOz"
   },
   "source": [
    " #### 作ったデータを見てみよう！！\n",
    " \n",
    " 描画用のライブラリをインポート　＋　おまじない"
   ]
  },
  {
   "cell_type": "code",
   "execution_count": 12,
   "metadata": {
    "colab": {
     "autoexec": {
      "startup": false,
      "wait_interval": 0
     }
    },
    "colab_type": "code",
    "id": "uFgu9g4zl0uz",
    "tags": []
   },
   "outputs": [],
   "source": [
    "%matplotlib inline\n",
    "# %matplotlib notebook\n",
    "\n",
    "import matplotlib.pyplot as plt\n",
    "import matplotlib.animation as animation\n",
    "import mpl_toolkits.mplot3d as axes3d"
   ]
  },
  {
   "cell_type": "markdown",
   "metadata": {
    "colab_type": "text",
    "id": "zUqrFLednHub"
   },
   "source": [
    "じゃあ、描画してみよう！"
   ]
  },
  {
   "cell_type": "code",
   "execution_count": 14,
   "metadata": {
    "colab": {
     "autoexec": {
      "startup": false,
      "wait_interval": 0
     },
     "base_uri": "https://localhost:8080/",
     "height": 323
    },
    "colab_type": "code",
    "executionInfo": {
     "elapsed": 1207,
     "status": "ok",
     "timestamp": 1524151654866,
     "user": {
      "displayName": "f-Lab kyutech",
      "photoUrl": "https://lh3.googleusercontent.com/a/default-user=s128",
      "userId": "108395026820824613825"
     },
     "user_tz": -540
    },
    "id": "FdN0nybxmjTG",
    "outputId": "809b981b-335e-4977-d6c0-e5d53341f835"
   },
   "outputs": [
    {
     "data": {
      "text/plain": [
       "(-1.0961287719704085, 1.0895693266045632)"
      ]
     },
     "execution_count": 14,
     "metadata": {},
     "output_type": "execute_result"
    },
    {
     "data": {
      "image/png": "[encoded data removed]",
      "text/plain": [
       "<Figure size 720x360 with 1 Axes>"
      ]
     },
     "metadata": {
      "needs_background": "light"
     },
     "output_type": "display_data"
    }
   ],
   "source": [
    "# キャンパスの作成\n",
    "fig = plt.figure(figsize=(10,5))\n",
    "ax = fig.add_subplot(1, 1, 1, projection='3d')\n",
    "\n",
    "# プロットぉぉぉぉ\n",
    "ax.scatter(X[:, 0], X[:, 1], X[:, 2], marker='o', c='red', s=10)\n",
    "\n",
    "# 描画範囲の設定\n",
    "# ax.set_aspect('equal')\n",
    "ax.set_xlim(X[:, 0:3].min() * 1.1, X[:, 0:3].max() * 1.1)\n",
    "ax.set_ylim(X[:, 0:3].min() * 1.1, X[:, 0:3].max() * 1.1)\n",
    "ax.set_zlim(X[:, 0:3].min() * 1.1, X[:, 0:3].max() * 1.1)"
   ]
  },
  {
   "cell_type": "markdown",
   "metadata": {
    "colab_type": "text",
    "id": "4aGVdL2vpYi6"
   },
   "source": [
    "ええ感じのデータができた！ヤッタ！！(๑´ㅂ`๑)"
   ]
  },
  {
   "cell_type": "markdown",
   "metadata": {
    "colab_type": "text",
    "id": "YZwzwJn_I5O0"
   },
   "source": [
    "### パラメータの決定"
   ]
  },
  {
   "cell_type": "markdown",
   "metadata": {
    "colab_type": "text",
    "id": "HvgBw58ug3tm"
   },
   "source": [
    "#### 潜在空間に関するパラメータ\n",
    "\n",
    "\n",
    "\n",
    "| 数式上での記号　　　　　 | プログラム上での変数名　　　　 | 役割 |\n",
    "|:-------------------:|:----------------------------|:------------|\n",
    "|$L$|latent_dim|潜在空間の次元数 |\n",
    "|$K_1$|nodes_row_num|潜在空間の横の1辺あたりのノード数|\n",
    "|$K_2$|nodes_col_num|潜在空間の縦の1辺あたりのノード数|\n",
    "|$K$|nodes_num|総ノード数．$L=2$の場合は$K=K_1\\times K_2$となる|"
   ]
  },
  {
   "cell_type": "code",
   "execution_count": 15,
   "metadata": {
    "colab": {
     "autoexec": {
      "startup": false,
      "wait_interval": 0
     },
     "base_uri": "https://localhost:8080/",
     "height": 136
    },
    "colab_type": "code",
    "executionInfo": {
     "elapsed": 893,
     "status": "error",
     "timestamp": 1524151838094,
     "user": {
      "displayName": "f-Lab kyutech",
      "photoUrl": "https://lh3.googleusercontent.com/a/default-user=s128",
      "userId": "108395026820824613825"
     },
     "user_tz": -540
    },
    "id": "E-IxYaV5I7St",
    "outputId": "058dd36d-57b9-4f2b-98db-56024a2b95db"
   },
   "outputs": [],
   "source": [
    "latent_dim = 2\n",
    "nodes_row_num = 10\n",
    "nodes_col_num = 10\n",
    "nodes_num = nodes_col_num * nodes_row_num"
   ]
  },
  {
   "cell_type": "markdown",
   "metadata": {
    "colab_type": "text",
    "id": "ETplEA4shArT"
   },
   "source": [
    "#### 近傍半径のスケジューリングに関するパラメータ \n",
    "これらはSOMの学習に大きな影響を及ぼすので，演習後にレポートで色々試してみてください．\n",
    "\n",
    "\n",
    "| 数式上での記号　　　　 | プログラム上での変数名　　　 | 役割 |\n",
    "|:-------------------|:----------------------------|:------------|\n",
    "|$\\sigma_\\mathrm{max}$|sigma_max|近傍半径の最大値 |\n",
    "|$\\sigma_\\mathrm{min}$|sigma_min|近傍半径の最小値|\n",
    "|$T$|epoch_num|学習回数|\n"
   ]
  },
  {
   "cell_type": "code",
   "execution_count": 16,
   "metadata": {
    "colab": {
     "autoexec": {
      "startup": false,
      "wait_interval": 0
     }
    },
    "colab_type": "code",
    "id": "Rv7qnjmEg9lq",
    "tags": []
   },
   "outputs": [],
   "source": [
    "sigma_max = 1.2\n",
    "sigma_min = 0.2\n",
    "epoch_num = 100"
   ]
  },
  {
   "cell_type": "markdown",
   "metadata": {
    "colab_type": "text",
    "id": "aj5ZS2H5QkKh"
   },
   "source": [
    "### 配列の用意\n",
    "\n",
    "|数式上での記号| プログラム上での変数名　| 役割　　 |\n",
    "|:-------------:|:-----------------------|:------------|\n",
    "|$\\mathbf{y}_k\\ (k=1,\\dots,K)$|Y|参照ベクトル．$K$個の$D$次元ベクトルをまとめた$K\\times D$の2次元配列|\n",
    "|${\\boldsymbol \\zeta}_k\\ (k=1,\\dots,K)$|Zeta|潜在空間のノード座標．$K$個の$L$次元配列をまとめた$K\\times L$の2次元配列|\n",
    "|$k_n^*\\ (n=1,\\dots,N)$|BMU|勝者ノード番号をまとめたサイズ$N$の1次元配列（Best Matching Unit）|\n",
    "|$h_{kn}\\ (k=1,\\dots,K,n=1,\\dots,N)$|H|$K$個のノードと$N$個の勝者ノードの組み合わせに対する学習量をまとめた$K\\times N$の2次元配列|\n"
   ]
  },
  {
   "cell_type": "code",
   "execution_count": 17,
   "metadata": {
    "colab": {
     "autoexec": {
      "startup": false,
      "wait_interval": 0
     }
    },
    "colab_type": "code",
    "id": "itHwKHy3T1TY"
   },
   "outputs": [],
   "source": [
    "Y = np.zeros((nodes_num,observed_dim))\n",
    "Zeta=np.zeros((nodes_num,latent_dim))\n",
    "BMU=np.zeros(samples_num)\n",
    "H=np.zeros((nodes_num,samples_num))"
   ]
  },
  {
   "cell_type": "markdown",
   "metadata": {
    "colab_type": "text",
    "id": "xoMC1v5YPPE9"
   },
   "source": [
    "## Step 0. 初期化\n",
    "参照ベクトルを初期化！٩( ´ᆺ｀)۶  \n",
    "ランダムな値を入れるよ"
   ]
  },
  {
   "cell_type": "code",
   "execution_count": 18,
   "metadata": {
    "colab": {
     "autoexec": {
      "startup": false,
      "wait_interval": 0
     }
    },
    "colab_type": "code",
    "id": "bNxbnB8_vuTg"
   },
   "outputs": [],
   "source": [
    "Y = np.random.rand(nodes_num,observed_dim)*2.0-1.0"
   ]
  },
  {
   "cell_type": "markdown",
   "metadata": {
    "colab_type": "text",
    "id": "o9YQgZ1QVBRb"
   },
   "source": [
    "## Step 1. 競合過程（Competitive Process）\n",
    "競合過程では，観測データに対して最も近い参照ベクトルに対応するノード番号を求める  \n",
    "競合過程では２つの大きな処理が必要だよ  \n",
    "全ての観測データ $\\mathbf{x}_n(n=1,... ,N)$に対して  \n",
    "- $n$番目の観測データ$\\mathbf{x}_n$と$k$番目の参照ベクトル$\\mathbf{y}_k$との距離$\\|\\mathbf{x}_n-\\mathbf{y}_k\\|^2$を計算する  \n",
    "- 最も距離の近い参照ベクトルに対応するノード番号$k_{n}^{*}$を求める  "
   ]
  },
  {
   "cell_type": "markdown",
   "metadata": {
    "colab_type": "text",
    "id": "sWkwDBdotDXH"
   },
   "source": [
    "### 2つのベクトルの間の距離を求めてみよう！\n",
    ">**ユークリッド距離の定義**  \n",
    "2つのベクトル $\\mathbf{x}=\\left(x_{1},x_{2},... ,x_{D}\\right)$, $\\mathbf{y}=\\left(y_{1},y_{2},... ,y_{D}\\right)$が与えられたときユークリッド距離$D(\\mathbf{x},\\mathbf{y})$は  \n",
    "$D(\\mathbf{x},\\mathbf{y})=\\sqrt{(x_{1}-y_{1})^2+(x_{2}-y_{2})^2...+(x_{D}-y_{D})^2}$  \n",
    "数式の解説はホワイトボードで\n"
   ]
  },
  {
   "cell_type": "markdown",
   "metadata": {
    "colab_type": "text",
    "id": "3eD-NBORVBR1"
   },
   "source": [
    "2つのベクトル $\\mathbf{x}$と$\\mathbf{y}$が3次元ベクトルの時のユークリッド距離を求めるプログラム"
   ]
  },
  {
   "cell_type": "code",
   "execution_count": 19,
   "metadata": {
    "colab": {
     "autoexec": {
      "startup": false,
      "wait_interval": 0
     }
    },
    "colab_type": "code",
    "id": "MFIcxy_MVBR2",
    "tags": []
   },
   "outputs": [],
   "source": [
    "# 2つの3次元ベクトルa,b\n",
    "x = np.array([1.0, 2.0, 3.0])\n",
    "y = np.array([4.0, 5.0, 6.0])"
   ]
  },
  {
   "cell_type": "code",
   "execution_count": 20,
   "metadata": {
    "colab": {
     "autoexec": {
      "startup": false,
      "wait_interval": 0
     },
     "base_uri": "https://localhost:8080/",
     "height": 34
    },
    "colab_type": "code",
    "executionInfo": {
     "elapsed": 751,
     "status": "ok",
     "timestamp": 1524141798842,
     "user": {
      "displayName": "米",
      "photoUrl": "https://lh3.googleusercontent.com/a/default-user=s128",
      "userId": "107232394001868783719"
     },
     "user_tz": -540
    },
    "id": "sgMJDbxd4ZLh",
    "outputId": "715786f6-4936-478d-a96c-37c63e415712"
   },
   "outputs": [
    {
     "name": "stdout",
     "output_type": "stream",
     "text": [
      "27.0\n"
     ]
    }
   ],
   "source": [
    "# 距離の計算！\n",
    "distance = 0\n",
    "for d in range(x.shape[0]):\n",
    "  distance = distance + (x[d] - y[d])*(x[d] - y[d])   # D回ループするよ\n",
    "\n",
    "  \n",
    "print(distance)"
   ]
  },
  {
   "cell_type": "markdown",
   "metadata": {
    "colab_type": "text",
    "id": "GQcho2wgVBSH"
   },
   "source": [
    "### 最も距離の近い参照ベクトルの番号($k_{n}^{*}$)を求めよう!!\n",
    "\n",
    "- numpy(pythonの配列演算用のライブラリ)にはargmin関数がある\n",
    "- argmin関数を使って最も距離の近い参照ベクトルの番号を求めてみよう"
   ]
  },
  {
   "cell_type": "markdown",
   "metadata": {
    "colab_type": "text",
    "id": "2UQ9QiYBVBSJ"
   },
   "source": [
    "### *argmin関数を使ってみよう!*\n",
    "2次元配列aからargmin関数を使って各行ごとに値の最小となる配列の番号を求める"
   ]
  },
  {
   "cell_type": "code",
   "execution_count": 21,
   "metadata": {
    "colab": {
     "autoexec": {
      "startup": false,
      "wait_interval": 0
     }
    },
    "colab_type": "code",
    "id": "t5PgzmutVBSK",
    "tags": []
   },
   "outputs": [],
   "source": [
    "a=np.array([[ 3.0,  3.0,  0.0],\n",
    "       [ 0.0,  5.0,  4.0],\n",
    "       [ 8.0,  0.0,  1.0],\n",
    "       [ 1.0,  5.0,  6.0]])\n"
   ]
  },
  {
   "cell_type": "code",
   "execution_count": 22,
   "metadata": {
    "colab": {
     "autoexec": {
      "startup": false,
      "wait_interval": 0
     },
     "base_uri": "https://localhost:8080/",
     "height": 37
    },
    "colab_type": "code",
    "executionInfo": {
     "elapsed": 26470,
     "status": "ok",
     "timestamp": 1524142097876,
     "user": {
      "displayName": "f-Lab kyutech",
      "photoUrl": "https://lh3.googleusercontent.com/a/default-user=s128",
      "userId": "108395026820824613825"
     },
     "user_tz": -540
    },
    "id": "QNuYsOi98kZK",
    "outputId": "4220c0cb-6fc4-414f-d307-605d3c021d3e"
   },
   "outputs": [
    {
     "name": "stdout",
     "output_type": "stream",
     "text": [
      "[1 2 0]\n"
     ]
    }
   ],
   "source": [
    "print(np.argmin(a,axis=0))\n",
    "#axis=0の場合は行に関しての最小値を見ていく。(縦方向に見てその最小値のインデックスをとってくるので出力としては要素数3の1次元配列となる)"
   ]
  },
  {
   "cell_type": "markdown",
   "metadata": {
    "colab_type": "text",
    "id": "TGwo8sQ1VBSP"
   },
   "source": [
    "## *競合過程を実装してみよう! *\n",
    "2つのベクトルの距離を求めるプログラムとargmin関数を使うことで競合過程は実装できるよ!!\n",
    "\n",
    "実装に必要なもの  \n",
    "- 観測データの配列$\\mathbf{X}$  \n",
    "- 参照ベクトルの配列$\\mathbf{Y}$"
   ]
  },
  {
   "cell_type": "code",
   "execution_count": null,
   "metadata": {
    "colab": {
     "autoexec": {
      "startup": false,
      "wait_interval": 0
     }
    },
    "colab_type": "code",
    "id": "nAqf5YKwVBSQ",
    "outputId": "ab42a807-ac34-4a17-a9b9-4c2b69fbe235"
   },
   "outputs": [],
   "source": []
  },
  {
   "cell_type": "markdown",
   "metadata": {
    "colab_type": "text",
    "id": "jvv79cWoVBSU"
   },
   "source": [
    "## step2. 協調過程(Cooperative Process)\n",
    "- 協調過程では**学習量**を求めます．  \n",
    "- 学習量は，各参照ベクトル$\\mathbf{y}_{k}\\left(k=1, ..., K\\right)$が各観測データ$\\mathbf{x}_{n} \\left(n=1, ..., N\\right)$にどれだけ近づくかを表す量のことです．  \n",
    "- 学習量は潜在空間上での距離を元に計算します!\n",
    "学習量は  \n",
    "- 学習量は勝者ノード${\\boldsymbol \\zeta}_{k_{n}^{*}}$が一番大きく学習するよ!  \n",
    "- 勝者ノード(競合過程で求めた参照ベクトルの番号に対応するノード)${\\boldsymbol \\zeta}_{k_{n}^{*}}$から離れていくほど学習量は少なくなっていきます!!\n",
    "\n",
    "協調過程では大きく2つの処理が必要!!  \n",
    "全ての勝者ノード$\\boldsymbol {\\zeta}_{k_{n}^{*}}(n=1,... ,N)$に対して  \n",
    "- 勝者ノードとノードの距離を求める\n",
    "- その距離を元にガウス関数を使って学習量を計算する"
   ]
  },
  {
   "cell_type": "markdown",
   "metadata": {
    "colab_type": "text",
    "id": "ksFg1BmAVBSW"
   },
   "source": [
    "### *各ノードの座標を作ってみよう!!*\n",
    "- 各ノードの座標(2次元)を表す2次元配列を作ってみよう  \n",
    "※潜在空間の形は様々な形にできます．今回は正方形を作っていきます  \n",
    "※難しい関数を色々使いますがとりあえずおまじないで大丈夫！"
   ]
  },
  {
   "cell_type": "code",
   "execution_count": 23,
   "metadata": {
    "tags": []
   },
   "outputs": [],
   "source": [
    "zetax=np.linspace(-1,1,nodes_row_num)\n",
    "zetay=np.linspace(-1,1,nodes_col_num)\n",
    "xx,yy=np.meshgrid(zetax,zetay)#meshgrid関数･･･zetaxとzetayの組み合わせを作る関数(xx:zetax:nodes_row_num*nodes_col_num,yy=nodes_row_num*nodes_col_num)\n",
    "xx=np.ravel(xx)#ravel関数･･･2次元配列を1次元配列に変換する\n",
    "yy=np.ravel(yy)\n",
    "Zeta=np.c_[xx,yy]#c_･･･xxとyyを統合"
   ]
  },
  {
   "cell_type": "markdown",
   "metadata": {},
   "source": [
    "作ったノードを描画してみる"
   ]
  },
  {
   "cell_type": "code",
   "execution_count": 24,
   "metadata": {
    "colab": {
     "autoexec": {
      "startup": false,
      "wait_interval": 0
     },
     "base_uri": "https://localhost:8080/",
     "height": 242
    },
    "colab_type": "code",
    "executionInfo": {
     "elapsed": 627,
     "status": "error",
     "timestamp": 1524151777052,
     "user": {
      "displayName": "f-Lab kyutech",
      "photoUrl": "https://lh3.googleusercontent.com/a/default-user=s128",
      "userId": "108395026820824613825"
     },
     "user_tz": -540
    },
    "id": "dfgirRFgVBSa",
    "outputId": "fb0c955d-3e50-4e25-fc95-64851643516a"
   },
   "outputs": [
    {
     "name": "stdout",
     "output_type": "stream",
     "text": [
      "(100, 2)\n"
     ]
    },
    {
     "data": {
      "text/plain": [
       "<matplotlib.collections.PathCollection at 0x1146ead30>"
      ]
     },
     "execution_count": 24,
     "metadata": {},
     "output_type": "execute_result"
    },
    {
     "data": {
      "image/png": "[encoded data removed]",
      "text/plain": [
       "<Figure size 432x288 with 1 Axes>"
      ]
     },
     "metadata": {
      "needs_background": "light"
     },
     "output_type": "display_data"
    }
   ],
   "source": [
    "print(Zeta.shape)\n",
    "fig=plt.figure()\n",
    "ax = fig.add_subplot(1,1,1,aspect='equal')\n",
    "ax.scatter(Zeta[:,0],Zeta[:,1])"
   ]
  },
  {
   "cell_type": "markdown",
   "metadata": {},
   "source": [
    "学習量$h_{kn}$の計算は  \n",
    "$$h_{kn}=\\exp \\left(- \\frac{1}{2 \\sigma^{2}}\\|\\boldsymbol \\zeta_{k}- \\boldsymbol \\zeta_{k_{n}^{*}} \\|^2 \\right) $$  \n",
    "で求めることが出来る!  \n",
    "$h_{kn}$: k番目の参照ベクトル$\\boldsymbol y_{k}$が$n$番目の観測データ$\\boldsymbol x_{n}$にどれだけ近づくかを表す  \n",
    "$\\boldsymbol \\zeta_{k}$:参照ベクトル$\\boldsymbol y_{k}$に対応するノード   \n",
    "$\\boldsymbol \\zeta_{k_{n}^{*}}$: 勝者ノード"
   ]
  },
  {
   "cell_type": "markdown",
   "metadata": {
    "colab_type": "text",
    "id": "0bFITp3_VBSm"
   },
   "source": [
    "### *ガウス関数を出力してみよう!*\n",
    "ガウス関数は学習量の計算を行うときに使う関数だよ!!\n",
    "ガウス関数は\n",
    "$$\\exp \\left(- \\frac{1}{2 \\sigma^{2}}\\|\\boldsymbol x- \\boldsymbol \\mu \\|^2 \\right) $$\n",
    "$\\boldsymbol \\mu$:ガウス関数の中心の位置  \n",
    "$\\sigma$:近傍半径･･･ガウス関数の幅を表す  \n",
    "ガウス関数は中心から離れるにつれて値が小さくなるような関数である"
   ]
  },
  {
   "cell_type": "markdown",
   "metadata": {},
   "source": [
    "### ガウス関数を出力するプログラムを作ってみよう！！\n",
    "\n",
    "青:近傍半径が0.5の場合  \n",
    "緑:近傍半径が0.3の場合  \n",
    "赤:近傍半径が0.1の場合  "
   ]
  },
  {
   "cell_type": "code",
   "execution_count": 25,
   "metadata": {
    "colab": {
     "autoexec": {
      "startup": false,
      "wait_interval": 0
     }
    },
    "colab_type": "code",
    "id": "qQJFsnJOVBSn",
    "outputId": "a6dfa733-ce39-4e59-9724-b6beebfa91c4",
    "scrolled": true
   },
   "outputs": [
    {
     "data": {
      "image/png": "[encoded data removed]",
      "text/plain": [
       "<Figure size 432x288 with 1 Axes>"
      ]
     },
     "metadata": {
      "needs_background": "light"
     },
     "output_type": "display_data"
    }
   ],
   "source": [
    "z=np.linspace(-1,2.0,nodes_num)\n",
    "mu=0.5\n",
    "sig1=0.1\n",
    "sig2=0.3\n",
    "sig3=0.5\n",
    "y1=np.exp(-0.5*(z-mu)**2/(sig1*sig1))\n",
    "y2=np.exp(-0.5*(z-mu)**2/(sig2*sig2))\n",
    "y3=np.exp(-0.5*(z-mu)**2/(sig3*sig3))\n",
    "plt.plot(z,y1,color=\"red\")\n",
    "plt.plot(z,y2,color=\"green\")\n",
    "plt.plot(z,y3,color=\"blue\")\n",
    "plt.show()"
   ]
  },
  {
   "cell_type": "markdown",
   "metadata": {},
   "source": [
    "### 近傍半径について\n",
    "近傍半径･･･各ノードの学習量を決める場合に重要  \n",
    "- 近傍半径が小さい…ガウス関数は急激に減少.勝者ノードから少し離れたときでも学習量は小さくなる  \n",
    "- 近傍半径が大きい…ガウス関数はなだらかに減少.勝者ノードから遠くのノードでも学習量は大きい\n",
    "#### SOMでは学習回数が増えるにつれて近傍半径を小さくする"
   ]
  },
  {
   "cell_type": "markdown",
   "metadata": {},
   "source": [
    "### 近傍半径の減少を実際に見てみよう"
   ]
  },
  {
   "cell_type": "code",
   "execution_count": 26,
   "metadata": {},
   "outputs": [
    {
     "data": {
      "image/png": "[encoded data removed]",
      "text/plain": [
       "<Figure size 432x288 with 1 Axes>"
      ]
     },
     "metadata": {
      "needs_background": "light"
     },
     "output_type": "display_data"
    }
   ],
   "source": [
    "sig_min=0.3#最小近傍半径\n",
    "sig_max=1#最大近傍半径\n",
    "T=100\n",
    "a=np.zeros((200))\n",
    "for t in range(200):\n",
    "    a[t]=max((sig_min-sig_max)*t/T+sig_max,sig_min)#max関数･･･2値を比較して大きい値を返す\n",
    "x=np.arange(200)\n",
    "plt.plot(x,a)\n",
    "plt.show()"
   ]
  },
  {
   "cell_type": "markdown",
   "metadata": {
    "colab_type": "text",
    "id": "qJP1XDR3VBSy"
   },
   "source": [
    "## 協調過程を実装しよう!!\n",
    "学習量を求めるプログラムを実装しよう  \n",
    "必要なもの\n",
    "- 潜在空間の座標\n",
    "- 勝者ノードの座標"
   ]
  },
  {
   "cell_type": "code",
   "execution_count": null,
   "metadata": {
    "colab": {
     "autoexec": {
      "startup": false,
      "wait_interval": 0
     }
    },
    "colab_type": "code",
    "id": "4u2YcA_dVBSy",
    "outputId": "da133903-2a8b-41f5-adf3-1b25be2928b2"
   },
   "outputs": [],
   "source": []
  },
  {
   "cell_type": "markdown",
   "metadata": {
    "colab_type": "text",
    "id": "dK_xP3u_VBS1"
   },
   "source": [
    "# Step 3. 適応過程(Adaptive Process)"
   ]
  },
  {
   "cell_type": "markdown",
   "metadata": {
    "colab_type": "text",
    "id": "eOJ5rYjYVBS6"
   },
   "source": [
    "協調過程で求めた学習量に基づいて参照ベクトルの更新を行います．  \n",
    "$\\mathbf{x}_n=(x_{n1},\\dots,x_{nD}),\\ \\mathbf{y}_k=(y_{k1},\\dots,y_{kD})$として，全ての$k$と$d$に関して以下のように更新します．\n",
    "$$y_{kd}=\\sum_{n=1}^N r_{kn} x_{nd}$$\n",
    "$r_{kn}$は次のように求めます．\n",
    "$$r_{kn}=\\frac{h_{kn}}{g_k}$$\n",
    "$$g_k=\\sum_{n'=1}^Nh_{kn'}$$"
   ]
  },
  {
   "cell_type": "markdown",
   "metadata": {},
   "source": [
    "### $\\sum$ってなんだろう？\n",
    "例えば$a_1,\\dots,a_I$を用いると\n",
    "$$\\sum_{i=1}^I  a_i=a_1+\\dots+a_I$$  \n",
    "$i=1,\\dots,I$に関して総和を取ってるんですねぇ〜"
   ]
  },
  {
   "cell_type": "markdown",
   "metadata": {},
   "source": [
    "さぁ実際に組んでみよう！あと少し！！がんばって(੭ु ›ω‹ )੭ु⁾⁾"
   ]
  },
  {
   "cell_type": "markdown",
   "metadata": {
    "colab": {
     "autoexec": {
      "startup": false,
      "wait_interval": 0
     }
    },
    "colab_type": "code",
    "id": "y-swD-qNVBS6",
    "outputId": "188f7c5d-d714-4ae3-ec01-7d76b95f5255"
   },
   "source": [
    "### *実践*\n",
    "協調過程で求めた学習量を用いて$K$個の参照ベクトルを上記の式で更新せよ  \n",
    "必要なもの  \n",
    "- 学習量\n",
    "- 観測データ"
   ]
  },
  {
   "cell_type": "markdown",
   "metadata": {
    "colab": {
     "autoexec": {
      "startup": false,
      "wait_interval": 0
     }
    },
    "colab_type": "code",
    "id": "WNH8k1O2VBS-"
   },
   "source": [
    "# Pycharmで実際に組んでみよう！\n",
    "演習で組んだ3ステップを参考にしつつ，SOMのアルゴリズムを完成させよう！\n",
    "実行させるために必要なコードはGitに用意してあります\n",
    "- ひな形となるソースコード\n",
    "  - three_months_course_2018/Lecture1/simulation_code_sample/fitting_kura.py\n",
    "  - pycharmでこれにSOMのアルゴリズム書き込んでください\n",
    "- 観測データ用ライブラリ\n",
    "  - three_months_course_2018/libs/datasets/artificial/kura.py\n",
    "  - 観測データを吐き出してくれる関数が入っています\n",
    "- 描画用ライブラリ\n",
    "  - three_months_course_2018/libs/visualization/som/animation_learning_process_3d.py\n",
    "  - すべての学習回数における参照ベクトル（$TxKxD$の3次元配列）と観測データを放り込むと描画してくれます\n",
    "\n",
    "# 課題\n",
    "## 課題1：パラメータを変えた時の結果の変化を見る\n",
    "双曲面データに関してパラメータを変えてみて，どのような結果が得られたかを報告し，なぜそうなったかを考察せよ\n",
    "## 課題2：動物データの解析\n",
    "実装したSOMに動物データを入れてU-matrix表示をcomponent plane表示を行い，どのような結果が得られたかを考察せよ．ソースコードの雛形，\b動物データ出力ライブラリ，描画用ライブラリについてはgitにあるので分からない時は先輩に聞くこと\n",
    "\n",
    "# レポート\n",
    "- SOMの概要\n",
    "- アルゴリズム\n",
    "- 双曲面データの実行結果及び考察\n",
    "- 課題\n",
    "  - 課題1について結果とその考察\n",
    "  - 課題2について結果とその考察\n"
   ]
  },
  {
   "cell_type": "code",
   "execution_count": null,
   "metadata": {
    "colab": {
     "autoexec": {
      "startup": false,
      "wait_interval": 0
     }
    },
    "colab_type": "code",
    "collapsed": true,
    "id": "MYyDg3wmmhGu",
    "jupyter": {
     "outputs_hidden": true
    }
   },
   "outputs": [],
   "source": []
  },
  {
   "cell_type": "code",
   "execution_count": null,
   "metadata": {},
   "outputs": [],
   "source": []
  }
 ],
 "metadata": {
  "colab": {
   "collapsed_sections": [
    "VjXc78UfVBSn",
    "iTS0Ua_pVBSq",
    "-TUuRnUgVBSs",
    "qJP1XDR3VBSy",
    "eOJ5rYjYVBS6",
    "Brd4qOcbVBS8"
   ],
   "default_view": {},
   "name": "SOM演習ver1_問題.ipynb",
   "provenance": [],
   "version": "0.3.2",
   "views": {}
  },
  "kernelspec": {
   "display_name": "Python 3",
   "language": "python",
   "name": "python3"
  },
  "language_info": {
   "codemirror_mode": {
    "name": "ipython",
    "version": 3
   },
   "file_extension": ".py",
   "mimetype": "text/x-python",
   "name": "python",
   "nbconvert_exporter": "python",
   "pygments_lexer": "ipython3",
   "version": "3.8.2"
  }
 },
 "nbformat": 4,
 "nbformat_minor": 4
}
