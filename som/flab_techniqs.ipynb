{
 "cells": [
  {
   "cell_type": "markdown",
   "id": "88bd886b",
   "metadata": {
    "jupyter": {
     "source_hidden": true
    },
    "tags": []
   },
   "source": [
    "# Python開発テクニック練習ノートブック\n",
    "## 2021年度ver\n",
    "\n",
    "## このノートブックについて\n",
    "数式の実装には多くの解があります．例えば，行列演算の実装はfor文による実装．行列計算ライブラリによる実装と大きく分けて二通りがあります．\n",
    "\n",
    "このノートブックでは古川研究室でよく使われる行列演算のテクニックをできるだけ網羅してまとめました．またそれを実際に実行できながら体系的に理解・学習できるようになることを目標に作りました．"
   ]
  },
  {
   "cell_type": "markdown",
   "id": "aedcf34e",
   "metadata": {},
   "source": [
    "## 事前知識\n",
    "このノートブックでも必要再現の操作は抑えますが，事前知識として以下の本を読むことを推奨します．\n",
    "\n",
    "[Dropboxにpdf](https://www.dropbox.com/s/7r6cbcux1br1jhb/%E3%82%BC%E3%83%AD%E3%81%8B%E3%82%89%E4%BD%9C%E3%82%8BPython%E6%A9%9F%E6%A2%B0%E5%AD%A6%E7%BF%92%E3%83%97%E3%83%AD%E3%82%B0%E3%83%A9%E3%83%9F%E3%83%B3%E3%82%B0%E5%85%A5%E9%96%80_pass.pdf?dl=0)あります．\n",
    "\n",
    "- 「ゼロからつくるPython機械学習プログラミング入門」\n",
    "  - chapter2：Python入門\n",
    "  - chapter3：数学のおさらい\n"
   ]
  },
  {
   "cell_type": "markdown",
   "id": "bd8f0067",
   "metadata": {},
   "source": [
    "## 準備\n",
    "- [Numpy](https://numpy.org/doc/stable/user/index.html)\n",
    "\n",
    "NumpyはPythonで科学的な計算を行うための基本的なパッケージです。行列計算は機械学習に限らず数値計算の基本であり，Numpyはその行列計算を高速に計算します．\n",
    "\n",
    "- [Matplotlib]()\n",
    "MatplotlibはPythonの描画パッケージです． （ここで悩むのは研究の本質的じゃないので困ったら知ってる人に効くことをおすすめします．）"
   ]
  },
  {
   "cell_type": "code",
   "execution_count": 5,
   "id": "f74e1c12",
   "metadata": {},
   "outputs": [],
   "source": [
    "import numpy as np"
   ]
  },
  {
   "cell_type": "code",
   "execution_count": 22,
   "id": "f70858bf",
   "metadata": {},
   "outputs": [
    {
     "name": "stdout",
     "output_type": "stream",
     "text": [
      "[[1. 0. 0. 0. 0.]\n",
      " [0. 1. 0. 0. 0.]\n",
      " [0. 0. 1. 0. 0.]\n",
      " [0. 0. 0. 1. 0.]\n",
      " [0. 0. 0. 0. 1.]]\n"
     ]
    },
    {
     "data": {
      "text/plain": [
       "(5, 5)"
      ]
     },
     "execution_count": 22,
     "metadata": {},
     "output_type": "execute_result"
    }
   ],
   "source": [
    "A = np.eye(5)\n",
    "print(A)\n",
    "A.shape"
   ]
  },
  {
   "cell_type": "code",
   "execution_count": 41,
   "id": "27498ca5",
   "metadata": {},
   "outputs": [
    {
     "name": "stdout",
     "output_type": "stream",
     "text": [
      "[[ 0  1]\n",
      " [ 2  3]\n",
      " [ 4  5]\n",
      " [ 6  7]\n",
      " [ 8  9]\n",
      " [10 11]\n",
      " [12 13]\n",
      " [14 15]\n",
      " [16 17]\n",
      " [18 19]] (10, 2)\n"
     ]
    }
   ],
   "source": [
    "N = 10 # データ数\n",
    "D = 2 # 次元数\n",
    "X = np.arange(N*D).reshape(N,D)\n",
    "print(X, X.shape)"
   ]
  },
  {
   "cell_type": "code",
   "execution_count": 46,
   "id": "2436cd21",
   "metadata": {},
   "outputs": [
    {
     "name": "stdout",
     "output_type": "stream",
     "text": [
      "\n"
     ]
    },
    {
     "data": {
      "image/png": "[encoded data removed]",
      "text/plain": [
       "<Figure size 432x288 with 1 Axes>"
      ]
     },
     "metadata": {
      "needs_background": "light"
     },
     "output_type": "display_data"
    }
   ],
   "source": [
    "import matplotlib.pyplot as plt\n",
    "plt.scatter(X[:,0], X[:,1], marker='x')\n",
    "[plt.text(X[n,0], X[n,1], \"(\"+str(X[n,0])+\",\"+str(X[n,1])+\")\") for n in range(N)]\n",
    "print(\"\")"
   ]
  },
  {
   "cell_type": "markdown",
   "id": "74e77a5c",
   "metadata": {},
   "source": [
    "## テクニック\"\n",
    "1. ブロードキャスト（Broadcast）\n",
    "2. メッシュグリッド(Meshgrid)\n",
    "3. ファンシィインデックス(Fancy index)\n",
    "4. アーグミン(Argmin)\n",
    "5. リシェイプ(reshape)\n",
    "6. アインサム"
   ]
  },
  {
   "cell_type": "markdown",
   "id": "dc09ebfc",
   "metadata": {},
   "source": [
    "### 1. Broadcast\n",
    "Broadcastは，，\n",
    "\n",
    "詳しい定義は[上島さんの解説記事](https://www.kamishima.net/mlmpyja/nbayes2/broadcasting.html)"
   ]
  },
  {
   "cell_type": "code",
   "execution_count": 54,
   "id": "eda04197",
   "metadata": {},
   "outputs": [
    {
     "name": "stdout",
     "output_type": "stream",
     "text": [
      "(3, 1)  のshapeの \n",
      " [[0]\n",
      " [1]\n",
      " [2]]\n",
      "(3, 4)  のshapeの \n",
      " [[ 0  1  2  3]\n",
      " [ 4  5  6  7]\n",
      " [ 8  9 10 11]]\n"
     ]
    },
    {
     "data": {
      "text/plain": [
       "array([[ 0, -1, -2, -3],\n",
       "       [-3, -4, -5, -6],\n",
       "       [-6, -7, -8, -9]])"
      ]
     },
     "execution_count": 54,
     "metadata": {},
     "output_type": "execute_result"
    }
   ],
   "source": [
    "I = 3\n",
    "J = 4\n",
    "A = np.arange(I)[:, None]\n",
    "print(A.shape,\" のshapeの\",'\\n',A)\n",
    "B = np.arange(I*J).reshape(I,J)\n",
    "print(B.shape,\" のshapeの\",'\\n',B)\n",
    "B - A"
   ]
  },
  {
   "cell_type": "code",
   "execution_count": 56,
   "id": "b9fd5f6c",
   "metadata": {},
   "outputs": [
    {
     "data": {
      "text/plain": [
       "array([[0, 0, 0, 0],\n",
       "       [4, 4, 4, 4],\n",
       "       [8, 8, 8, 8]])"
      ]
     },
     "execution_count": 56,
     "metadata": {},
     "output_type": "execute_result"
    }
   ],
   "source": [
    "C = np.arange(J)[None, :]\n",
    "B - C"
   ]
  },
  {
   "cell_type": "markdown",
   "id": "45c76849",
   "metadata": {},
   "source": [
    "### 2. Meshgrid"
   ]
  },
  {
   "cell_type": "markdown",
   "id": "c63c48b1",
   "metadata": {},
   "source": [
    "### 3. Fancy index"
   ]
  },
  {
   "cell_type": "markdown",
   "id": "cf492771",
   "metadata": {},
   "source": [
    "### 4. Argmin"
   ]
  },
  {
   "cell_type": "markdown",
   "id": "05ec9e99",
   "metadata": {},
   "source": [
    "## 実践\n",
    "1. ノルムと距離\n",
    "2. 等間隔な座標\n",
    "3. 描写"
   ]
  },
  {
   "cell_type": "code",
   "execution_count": null,
   "id": "4a8e4cbb",
   "metadata": {},
   "outputs": [],
   "source": []
  }
 ],
 "metadata": {
  "kernelspec": {
   "display_name": "Python 3",
   "language": "python",
   "name": "python3"
  },
  "language_info": {
   "codemirror_mode": {
    "name": "ipython",
    "version": 3
   },
   "file_extension": ".py",
   "mimetype": "text/x-python",
   "name": "python",
   "nbconvert_exporter": "python",
   "pygments_lexer": "ipython3",
   "version": "3.8.2"
  },
  "toc-autonumbering": false,
  "toc-showmarkdowntxt": false
 },
 "nbformat": 4,
 "nbformat_minor": 5
}
