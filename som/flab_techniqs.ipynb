{
 "cells": [
  {
   "cell_type": "markdown",
   "id": "f829f3a9",
   "metadata": {},
   "source": [
    "# Python開発テクニック練習ノートブック\n",
    "## 2021年度ver\n",
    "\n",
    "## このノートブックについて\n",
    "数式の実装には多くの解があります．例えば，行列演算の実装はfor文による実装．行列計算ライブラリによる実装と大きく分けて二通りがあります．\n",
    "\n",
    "このノートブックでは古川研究室でよく使われる行列演算のテクニックをできるだけ網羅してまとめました．またそれを実際に実行できながら体系的に理解・学習できるようになることを目標に作りました．"
   ]
  },
  {
   "cell_type": "markdown",
   "id": "87cd3d8a",
   "metadata": {},
   "source": [
    "## 事前知識\n",
    "事前知識として以下の内容を抑えることをお勧めします．\n",
    "\n",
    "- 「ゼロからつくるPython機械学習プログラミング入門」\n",
    "  - chapter2：Python入門\n",
    "  - chapter3：数学のおさらい\n"
   ]
  },
  {
   "cell_type": "code",
   "execution_count": 1,
   "id": "1b208f49",
   "metadata": {},
   "outputs": [],
   "source": [
    "import numpy as np"
   ]
  },
  {
   "cell_type": "code",
   "execution_count": null,
   "id": "1e5c7761",
   "metadata": {},
   "outputs": [],
   "source": [
    "np.zeros()"
   ]
  }
 ],
 "metadata": {
  "kernelspec": {
   "display_name": "Python 3",
   "language": "python",
   "name": "python3"
  },
  "language_info": {
   "codemirror_mode": {
    "name": "ipython",
    "version": 3
   },
   "file_extension": ".py",
   "mimetype": "text/x-python",
   "name": "python",
   "nbconvert_exporter": "python",
   "pygments_lexer": "ipython3",
   "version": "3.8.2"
  },
  "toc-autonumbering": false,
  "toc-showmarkdowntxt": false
 },
 "nbformat": 4,
 "nbformat_minor": 5
}
