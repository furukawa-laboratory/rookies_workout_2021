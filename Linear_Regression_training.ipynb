{
 "cells": [
  {
   "cell_type": "markdown",
   "metadata": {},
   "source": [
    "## 使うライブラリをインポートして，乱数のseedを固定"
   ]
  },
  {
   "cell_type": "code",
   "execution_count": 1,
   "metadata": {
    "scrolled": true
   },
   "outputs": [],
   "source": [
    "%matplotlib inline\n",
    "\n",
    "import numpy as np\n",
    "import matplotlib.pyplot as plt\n",
    "\n",
    "\n",
    "seed  = 11\n",
    "np.random.seed(seed)"
   ]
  },
  {
   "cell_type": "markdown",
   "metadata": {},
   "source": [
    "### フィッティングしたいデータセット$\\mathcal{D}$を生成\n",
    "$$\\mathcal{D} = \\{ (x_1,y_1),(x_2,y_2), \\cdots , (x_N, y_N)\\}$$"
   ]
  },
  {
   "cell_type": "code",
   "execution_count": 2,
   "metadata": {},
   "outputs": [
    {
     "name": "stdout",
     "output_type": "stream",
     "text": [
      "[[ -6.39460622  -7.42225447]\n",
      " [ -9.61049517 -20.58422207]\n",
      " [ -0.73562947   1.4864482 ]\n",
      " [  4.49867858  15.76546462]\n",
      " [ -1.59592791  -1.04114092]]\n"
     ]
    },
    {
     "data": {
      "image/png": "[encoded data removed]",
      "text/plain": [
       "<Figure size 432x288 with 1 Axes>"
      ]
     },
     "metadata": {
      "needs_background": "light"
     },
     "output_type": "display_data"
    }
   ],
   "source": [
    "N = 30\n",
    "x =  20 * (np.random.rand(N)) - 10\n",
    "y = np.sin(x) + x + np.random.normal(x, 5, N)\n",
    "\n",
    "# 2次元 * N個の観測データ\n",
    "D = np.concatenate([x[:, np.newaxis], y[:, np.newaxis]], axis=1)\n",
    "print(D[:5])\n",
    "\n",
    "plt.scatter(x,y)\n",
    "plt.show()"
   ]
  },
  {
   "cell_type": "markdown",
   "metadata": {},
   "source": [
    "## モデルのパラメータ$\\boldsymbol{a}$を推定する準備（変数をおく）\n",
    "$$ \\boldsymbol{x}_i = \\begin{pmatrix}\n",
    "    1\\\\\n",
    "    x_i\n",
    "    \\end{pmatrix}\n",
    "$$\n",
    "\n",
    "$$ \\boldsymbol{X} = \\begin{pmatrix}\n",
    "     \\boldsymbol{x_1}^T\\\\\n",
    "    \\boldsymbol{x_2}^T\\\\\n",
    "    \\vdots \\\\\n",
    "    \\boldsymbol{x_N}^T\n",
    "    \\end{pmatrix}\n",
    "$$\n",
    "\n",
    "$$\\boldsymbol{y} = \\begin{pmatrix}\n",
    "    y_1\\\\\n",
    "    y_2\\\\\n",
    "    \\vdots \\\\\n",
    "    y_N\n",
    "    \\end{pmatrix}\n",
    "$$"
   ]
  },
  {
   "cell_type": "code",
   "execution_count": 3,
   "metadata": {},
   "outputs": [],
   "source": [
    "#detaset D で用いた変数を使って，欲しい行列・ベクトルを新しく定義する\n",
    "# x(shape: (2, N)...これは(1,x_i)を並べた行列)\n",
    "\n",
    "X = \n",
    "# y（shape: (N,1)）になるようにshapeを整える）\n",
    "y_reshaped = "
   ]
  },
  {
   "cell_type": "markdown",
   "metadata": {},
   "source": [
    "## モデルのパラメータ$\\boldsymbol{a}$を推定する\n",
    "$$\\boldsymbol{a}\n",
    "= \\begin{pmatrix}a_0\\\\a_1\\end{pmatrix}\n",
    "= (\\boldsymbol{X}^T\\boldsymbol{X})^{-1}\\boldsymbol{X}^T\\boldsymbol{y}$$"
   ]
  },
  {
   "cell_type": "code",
   "execution_count": 4,
   "metadata": {
    "scrolled": true
   },
   "outputs": [
    {
     "ename": "SyntaxError",
     "evalue": "invalid syntax (<ipython-input-4-a85d68b1127c>, line 2)",
     "output_type": "error",
     "traceback": [
      "\u001b[0;36m  File \u001b[0;32m\"<ipython-input-4-a85d68b1127c>\"\u001b[0;36m, line \u001b[0;32m2\u001b[0m\n\u001b[0;31m    a =\u001b[0m\n\u001b[0m        ^\u001b[0m\n\u001b[0;31mSyntaxError\u001b[0m\u001b[0;31m:\u001b[0m invalid syntax\n"
     ]
    }
   ],
   "source": [
    "# @は内積の演算子， np.linalg.invは逆行列を計算してくれるライブラリ\n",
    "a = \n",
    "# print(a.shape)\n",
    "# print(a)"
   ]
  },
  {
   "cell_type": "markdown",
   "metadata": {},
   "source": [
    "## 推定したモデル$\\hat{y}$を描画する"
   ]
  },
  {
   "cell_type": "code",
   "execution_count": null,
   "metadata": {
    "scrolled": true
   },
   "outputs": [],
   "source": [
    "# (1, x_{new})が縦に並ぶ行列Xnewをつくる\n",
    "Nnew = \n",
    "x_new = \n",
    "ones = \n",
    "Xnew = \n",
    "# print(Xnew.shape)\n",
    "\n",
    "Y_hat = \n",
    "# print(Y_hat.shape)"
   ]
  },
  {
   "cell_type": "markdown",
   "metadata": {},
   "source": [
    "## 観測データの分布上に学習したモデルをプロットする"
   ]
  },
  {
   "cell_type": "code",
   "execution_count": null,
   "metadata": {
    "scrolled": false
   },
   "outputs": [],
   "source": [
    "# plt.scatter(x,y)\n",
    "# plt.plot(x_new, Y_hat, linewidth=3, color='orange')\n",
    "# plt.show()"
   ]
  }
 ],
 "metadata": {
  "kernelspec": {
   "display_name": "Python 3",
   "language": "python",
   "name": "python3"
  },
  "language_info": {
   "codemirror_mode": {
    "name": "ipython",
    "version": 3
   },
   "file_extension": ".py",
   "mimetype": "text/x-python",
   "name": "python",
   "nbconvert_exporter": "python",
   "pygments_lexer": "ipython3",
   "version": "3.8.5"
  }
 },
 "nbformat": 4,
 "nbformat_minor": 5
}
