{
  "nbformat": 4,
  "nbformat_minor": 5,
  "metadata": {
    "kernelspec": {
      "display_name": "Python 3",
      "language": "python",
      "name": "python3"
    },
    "language_info": {
      "codemirror_mode": {
        "name": "ipython",
        "version": 3
      },
      "file_extension": ".py",
      "mimetype": "text/x-python",
      "name": "python",
      "nbconvert_exporter": "python",
      "pygments_lexer": "ipython3",
      "version": "3.8.5"
    },
    "colab": {
      "name": "Linear_Regression_training_ando.ipynb",
      "provenance": [],
      "collapsed_sections": []
    }
  },
  "cells": [
    {
      "cell_type": "markdown",
      "metadata": {
        "id": "nXgQ49RjsHtl"
      },
      "source": [
        "## 使うライブラリをインポートして，乱数のseedを固定"
      ],
      "id": "nXgQ49RjsHtl"
    },
    {
      "cell_type": "code",
      "metadata": {
        "scrolled": true,
        "id": "KKTyPqX_sHtp"
      },
      "source": [
        "%matplotlib inline\n",
        "\n",
        "import numpy as np\n",
        "import matplotlib.pyplot as plt\n",
        "\n",
        "\n",
        "seed  = 11\n",
        "np.random.seed(seed)"
      ],
      "id": "KKTyPqX_sHtp",
      "execution_count": 1,
      "outputs": []
    },
    {
      "cell_type": "markdown",
      "metadata": {
        "id": "0FHGIUFVsHtq"
      },
      "source": [
        "### フィッティングしたいデータセット$\\mathcal{D}$を生成\n",
        "$$\\mathcal{D} = \\{ (x_1,y_1),(x_2,y_2), \\cdots , (x_N, y_N)\\}$$"
      ],
      "id": "0FHGIUFVsHtq"
    },
    {
      "cell_type": "code",
      "metadata": {
        "colab": {
          "base_uri": "https://localhost:8080/",
          "height": 350
        },
        "id": "vh2Ib7GWsHtq",
        "outputId": "40e767cc-0080-498a-afa4-4132a281a857"
      },
      "source": [
        "N = 30\n",
        "x =  20 * (np.random.rand(N)) - 10\n",
        "y = np.sin(x) + x + np.random.normal(x, 5, N)\n",
        "\n",
        "# 2次元 * N個の観測データ\n",
        "D = np.concatenate([x[:, np.newaxis], y[:, np.newaxis]], axis=1)\n",
        "print(D[:5])\n",
        "\n",
        "plt.scatter(x,y)\n",
        "plt.show()"
      ],
      "id": "vh2Ib7GWsHtq",
      "execution_count": 4,
      "outputs": [
        {
          "output_type": "stream",
          "text": [
            "[[-0.05007295  8.14582518]\n",
            " [ 2.97444397  8.00846281]\n",
            " [-1.04457679 -5.27669595]\n",
            " [ 1.01278942  3.64309719]\n",
            " [ 9.42350407 22.67908514]]\n"
          ],
          "name": "stdout"
        },
        {
          "output_type": "display_data",
          "data": {
            "image/png": "[encoded data removed]",
            "text/plain": [
              "<Figure size 432x288 with 1 Axes>"
            ]
          },
          "metadata": {
            "tags": [],
            "needs_background": "light"
          }
        }
      ]
    },
    {
      "cell_type": "markdown",
      "metadata": {
        "id": "Y8IG3okpsHtr"
      },
      "source": [
        "## モデルのパラメータ$\\boldsymbol{a}$を推定する準備（変数をおく）\n",
        "$$ \\boldsymbol{x}_i = \\begin{pmatrix}\n",
        "    1\\\\\n",
        "    x_i\n",
        "    \\end{pmatrix}\n",
        "$$\n",
        "\n",
        "$$ \\boldsymbol{X} = \\begin{pmatrix}\n",
        "     \\boldsymbol{x_1}^T\\\\\n",
        "    \\boldsymbol{x_2}^T\\\\\n",
        "    \\vdots \\\\\n",
        "    \\boldsymbol{x_N}^T\n",
        "    \\end{pmatrix}\n",
        "$$\n",
        "\n",
        "$$\\boldsymbol{y} = \\begin{pmatrix}\n",
        "    y_1\\\\\n",
        "    y_2\\\\\n",
        "    \\vdots \\\\\n",
        "    y_N\n",
        "    \\end{pmatrix}\n",
        "$$"
      ],
      "id": "Y8IG3okpsHtr"
    },
    {
      "cell_type": "code",
      "metadata": {
        "colab": {
          "base_uri": "https://localhost:8080/"
        },
        "id": "YqPypMuEsHts",
        "outputId": "5de5f7c9-4167-4b07-d9db-3ce2f1d3b9cc"
      },
      "source": [
        "#detaset D で用いた変数を使って，欲しい行列・ベクトルを新しく定義する\n",
        "# x(shape: (2, N)...これは(1,x_i)を並べた行列)\n",
        "one = np.ones(N)\n",
        "print(one)\n",
        "print(one.shape)\n",
        "print((one[:,np.newaxis].shape))\n",
        "X = np.concatenate([one[:,np.newaxis],x[:,np.newaxis]],axis=1)\n",
        "print(X[0:5])\n",
        "# y（shape: (N,1)）になるようにshapeを整える）\n",
        "y_reshaped = y "
      ],
      "id": "YqPypMuEsHts",
      "execution_count": 13,
      "outputs": [
        {
          "output_type": "stream",
          "text": [
            "[1. 1. 1. 1. 1. 1. 1. 1. 1. 1. 1. 1. 1. 1. 1. 1. 1. 1. 1. 1. 1. 1. 1. 1.\n",
            " 1. 1. 1. 1. 1. 1.]\n",
            "(30,)\n",
            "(30, 1)\n",
            "[[ 1.         -0.05007295]\n",
            " [ 1.          2.97444397]\n",
            " [ 1.         -1.04457679]\n",
            " [ 1.          1.01278942]\n",
            " [ 1.          9.42350407]]\n"
          ],
          "name": "stdout"
        }
      ]
    },
    {
      "cell_type": "markdown",
      "metadata": {
        "id": "2Yvz3hGlsHts"
      },
      "source": [
        "## モデルのパラメータ$\\boldsymbol{a}$を推定する\n",
        "$$\\boldsymbol{a}\n",
        "= \\begin{pmatrix}a_0\\\\a_1\\end{pmatrix}\n",
        "= (\\boldsymbol{X}^T\\boldsymbol{X})^{-1}\\boldsymbol{X}^T\\boldsymbol{y}$$"
      ],
      "id": "2Yvz3hGlsHts"
    },
    {
      "cell_type": "code",
      "metadata": {
        "scrolled": true,
        "colab": {
          "base_uri": "https://localhost:8080/"
        },
        "id": "pN7okGYOsHtt",
        "outputId": "31869a14-d1ce-4427-dff9-844a86d6f249"
      },
      "source": [
        "# @は内積の演算子， np.linalg.invは逆行列を計算してくれるライブラリ\n",
        "a = np.linalg.inv(X.T@X)@X.T@y\n",
        "print(a.shape)\n",
        "print(a)"
      ],
      "id": "pN7okGYOsHtt",
      "execution_count": 28,
      "outputs": [
        {
          "output_type": "stream",
          "text": [
            "(2,)\n",
            "[0.6236742  1.79968636]\n"
          ],
          "name": "stdout"
        }
      ]
    },
    {
      "cell_type": "markdown",
      "metadata": {
        "id": "Q--bx75isHtt"
      },
      "source": [
        "## 推定したモデル$\\hat{y}$を描画する"
      ],
      "id": "Q--bx75isHtt"
    },
    {
      "cell_type": "code",
      "metadata": {
        "scrolled": true,
        "colab": {
          "base_uri": "https://localhost:8080/"
        },
        "id": "4N0xqSULsHtu",
        "outputId": "2ecd75c3-9d46-437a-b949-4b3fae65ddf1"
      },
      "source": [
        "# (1, x_{new})が縦に並ぶ行列Xnewをつくる\n",
        "Nnew = 100\n",
        "x_new = np.linspace(-10,10,Nnew)\n",
        "ones = np.ones(Nnew)\n",
        "Xnew = np.concatenate([ones[:,np.newaxis],x_new[:,np.newaxis]],axis=1)\n",
        "print(Xnew.shape)\n",
        "print(Xnew[0:5])\n",
        "Y_hat = Xnew@a\n",
        "print(Y_hat.shape)"
      ],
      "id": "4N0xqSULsHtu",
      "execution_count": 41,
      "outputs": [
        {
          "output_type": "stream",
          "text": [
            "(100, 2)\n",
            "[[  1.         -10.        ]\n",
            " [  1.          -9.7979798 ]\n",
            " [  1.          -9.5959596 ]\n",
            " [  1.          -9.39393939]\n",
            " [  1.          -9.19191919]]\n",
            "(100,)\n"
          ],
          "name": "stdout"
        }
      ]
    },
    {
      "cell_type": "markdown",
      "metadata": {
        "id": "4ZudlFS8sHtu"
      },
      "source": [
        "## 観測データの分布上に学習したモデルをプロットする"
      ],
      "id": "4ZudlFS8sHtu"
    },
    {
      "cell_type": "code",
      "metadata": {
        "scrolled": false,
        "colab": {
          "base_uri": "https://localhost:8080/",
          "height": 265
        },
        "id": "g3S8oCMGsHtu",
        "outputId": "f806076b-2f0d-4cfd-eeeb-de2a0e2778d6"
      },
      "source": [
        "plt.scatter(x,y)\n",
        "plt.plot(x_new, Y_hat, linewidth=3, color='orange')\n",
        "plt.show()"
      ],
      "id": "g3S8oCMGsHtu",
      "execution_count": 42,
      "outputs": [
        {
          "output_type": "display_data",
          "data": {
            "image/png": "[encoded data removed]",
            "text/plain": [
              "<Figure size 432x288 with 1 Axes>"
            ]
          },
          "metadata": {
            "tags": [],
            "needs_background": "light"
          }
        }
      ]
    },
    {
      "cell_type": "code",
      "metadata": {
        "id": "gZZaQOLuKsO9"
      },
      "source": [
        ""
      ],
      "id": "gZZaQOLuKsO9",
      "execution_count": null,
      "outputs": []
    }
  ]
}