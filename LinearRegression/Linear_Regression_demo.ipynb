{
 "cells": [
  {
   "cell_type": "markdown",
   "id": "94f4eacb",
   "metadata": {},
   "source": [
    "## 使うライブラリをインポートして，乱数のseedを固定"
   ]
  },
  {
   "cell_type": "code",
   "execution_count": 1,
   "id": "6addfde8",
   "metadata": {
    "scrolled": true
   },
   "outputs": [],
   "source": [
    "%matplotlib inline\n",
    "\n",
    "import numpy as np\n",
    "import matplotlib.pyplot as plt\n",
    "\n",
    "\n",
    "seed  = 11\n",
    "np.random.seed(seed)"
   ]
  },
  {
   "cell_type": "markdown",
   "id": "0dd81033",
   "metadata": {},
   "source": [
    "### フィッティングしたいデータセット$\\mathcal{D}$を生成\n",
    "$$\\mathcal{D} = \\{ (x_1,y_1),(x_2,y_2), \\cdots , (x_N, y_N)\\}$$"
   ]
  },
  {
   "cell_type": "code",
   "execution_count": 5,
   "id": "8a9fd678",
   "metadata": {},
   "outputs": [
    {
     "name": "stdout",
     "output_type": "stream",
     "text": [
      "[[-0.05007295  8.14582518]\n",
      " [ 2.97444397  8.00846281]\n",
      " [-1.04457679 -5.27669595]\n",
      " [ 1.01278942  3.64309719]\n",
      " [ 9.42350407 22.67908514]]\n"
     ]
    },
    {
     "data": {
      "image/png": "[encoded data removed]",
      "text/plain": [
       "<Figure size 432x288 with 1 Axes>"
      ]
     },
     "metadata": {
      "needs_background": "light"
     },
     "output_type": "display_data"
    }
   ],
   "source": [
    "N = 30\n",
    "x =  20 * (np.random.rand(N)) - 10\n",
    "y = np.sin(x) + x + np.random.normal(x, 5, N)\n",
    "\n",
    "# 2次元 * N個の観測データ\n",
    "D = np.concatenate([x[:, np.newaxis], y[:, np.newaxis]], axis=1)\n",
    "print(D[:5])\n",
    "\n",
    "plt.scatter(x,y)\n",
    "plt.show()"
   ]
  },
  {
   "cell_type": "markdown",
   "id": "1a0b301a",
   "metadata": {},
   "source": [
    "## モデルのパラメータ$\\boldsymbol{a}$を推定する準備（変数をおく）\n",
    "$$ \\boldsymbol{x}_i = \\begin{pmatrix}\n",
    "    1\\\\\n",
    "    x_i\n",
    "    \\end{pmatrix}\n",
    "$$\n",
    "\n",
    "$$ \\boldsymbol{X} = \\begin{pmatrix}\n",
    "     \\boldsymbol{x_1}^T\\\\\n",
    "    \\boldsymbol{x_2}^T\\\\\n",
    "    \\vdots \\\\\n",
    "    \\boldsymbol{x_N}^T\n",
    "    \\end{pmatrix}\n",
    "$$\n",
    "\n",
    "$$\\boldsymbol{y} = \\begin{pmatrix}\n",
    "    y_1\\\\\n",
    "    y_2\\\\\n",
    "    \\vdots \\\\\n",
    "    y_N\n",
    "    \\end{pmatrix}\n",
    "$$"
   ]
  },
  {
   "cell_type": "code",
   "execution_count": 7,
   "id": "fa040439",
   "metadata": {},
   "outputs": [
    {
     "name": "stdout",
     "output_type": "stream",
     "text": [
      "[[ 1.         -0.05007295]\n",
      " [ 1.          2.97444397]\n",
      " [ 1.         -1.04457679]\n",
      " [ 1.          1.01278942]\n",
      " [ 1.          9.42350407]]\n",
      "(30,)\n"
     ]
    }
   ],
   "source": [
    "# x(shape: (2, N)...これは(1,x_i)を並べた行列)\n",
    "ones = np.ones(N)\n",
    "X = np.concatenate([ones[:, np.newaxis], x[:, np.newaxis]], axis=1)\n",
    "print(X[:5])\n",
    "\n",
    "# y（shape: (N,1)）になるようにshapeを整える）\n",
    "y_reshaped = y[:,np.newaxis]\n",
    "print(y.shape)"
   ]
  },
  {
   "cell_type": "markdown",
   "id": "9e6fdda1",
   "metadata": {},
   "source": [
    "## モデルのパラメータ$\\boldsymbol{a}$を推定する\n",
    "$$\\boldsymbol{a}\n",
    "= \\begin{pmatrix}a_0\\\\a_1\\end{pmatrix}\n",
    "= (\\boldsymbol{X}^T\\boldsymbol{X})^{-1}\\boldsymbol{X}^T\\boldsymbol{y}$$"
   ]
  },
  {
   "cell_type": "code",
   "execution_count": 8,
   "id": "7e20f1a3",
   "metadata": {
    "scrolled": true
   },
   "outputs": [
    {
     "name": "stdout",
     "output_type": "stream",
     "text": [
      "(2, 1)\n",
      "[[0.6236742 ]\n",
      " [1.79968636]]\n"
     ]
    }
   ],
   "source": [
    "# @は内積の演算子， np.linalg.invは逆行列を計算してくれるライブラリ\n",
    "a = (np.linalg.inv(X.T @ X) @ X.T) @ y_reshaped\n",
    "print(a.shape)\n",
    "print(a)"
   ]
  },
  {
   "cell_type": "markdown",
   "id": "386fcdc9",
   "metadata": {},
   "source": [
    "## 推定したモデル$\\hat{y}$を描画する"
   ]
  },
  {
   "cell_type": "code",
   "execution_count": 9,
   "id": "27c34747",
   "metadata": {
    "scrolled": true
   },
   "outputs": [
    {
     "name": "stdout",
     "output_type": "stream",
     "text": [
      "(1000, 2)\n",
      "(1000, 1)\n"
     ]
    }
   ],
   "source": [
    "# (1, x_{new})が縦に並ぶ行列Xnewをつくる\n",
    "Nnew = 1000\n",
    "x_new= np.linspace(start = -10, stop = 10, num = Nnew)\n",
    "ones = np.ones(Nnew)\n",
    "Xnew = np.squeeze(np.dstack([ones,x_new]))\n",
    "print(Xnew.shape)\n",
    "\n",
    "Y_hat = Xnew @ a\n",
    "print(Y_hat.shape)"
   ]
  },
  {
   "cell_type": "markdown",
   "id": "f4fce244",
   "metadata": {},
   "source": [
    "## 観測データの分布上に学習したモデルをプロットする"
   ]
  },
  {
   "cell_type": "code",
   "execution_count": 10,
   "id": "966576e4",
   "metadata": {
    "scrolled": false
   },
   "outputs": [
    {
     "data": {
      "image/png": "[encoded data removed]",
      "text/plain": [
       "<Figure size 432x288 with 1 Axes>"
      ]
     },
     "metadata": {
      "needs_background": "light"
     },
     "output_type": "display_data"
    }
   ],
   "source": [
    "plt.scatter(x,y)\n",
    "plt.plot(x_new, Y_hat, linewidth=3, color='orange')\n",
    "plt.show()"
   ]
  }
 ],
 "metadata": {
  "kernelspec": {
   "display_name": "Python 3",
   "language": "python",
   "name": "python3"
  },
  "language_info": {
   "codemirror_mode": {
    "name": "ipython",
    "version": 3
   },
   "file_extension": ".py",
   "mimetype": "text/x-python",
   "name": "python",
   "nbconvert_exporter": "python",
   "pygments_lexer": "ipython3",
   "version": "3.8.5"
  }
 },
 "nbformat": 4,
 "nbformat_minor": 5
}
