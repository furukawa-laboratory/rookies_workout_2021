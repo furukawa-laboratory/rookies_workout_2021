{
  "nbformat": 4,
  "nbformat_minor": 5,
  "metadata": {
    "kernelspec": {
      "display_name": "Python 3",
      "language": "python",
      "name": "python3"
    },
    "language_info": {
      "codemirror_mode": {
        "name": "ipython",
        "version": 3
      },
      "file_extension": ".py",
      "mimetype": "text/x-python",
      "name": "python",
      "nbconvert_exporter": "python",
      "pygments_lexer": "ipython3",
      "version": "3.8.5"
    },
    "colab": {
      "name": "Linear_Regression_training_taga.ipynb",
      "provenance": [],
      "collapsed_sections": []
    }
  },
  "cells": [
    {
      "cell_type": "markdown",
      "metadata": {
        "id": "1WuvBHhVsdgC"
      },
      "source": [
        "## 使うライブラリをインポートして，乱数のseedを固定"
      ],
      "id": "1WuvBHhVsdgC"
    },
    {
      "cell_type": "code",
      "metadata": {
        "scrolled": true,
        "id": "pkSDwThBsdgJ"
      },
      "source": [
        "%matplotlib inline\n",
        "\n",
        "import numpy as np\n",
        "import matplotlib.pyplot as plt\n",
        "\n",
        "\n",
        "seed  = 11\n",
        "np.random.seed(seed)"
      ],
      "id": "pkSDwThBsdgJ",
      "execution_count": 27,
      "outputs": []
    },
    {
      "cell_type": "markdown",
      "metadata": {
        "id": "sSWnLOKzsdgK"
      },
      "source": [
        "### フィッティングしたいデータセット$\\mathcal{D}$を生成\n",
        "$$\\mathcal{D} = \\{ (x_1,y_1),(x_2,y_2), \\cdots , (x_N, y_N)\\}$$"
      ],
      "id": "sSWnLOKzsdgK"
    },
    {
      "cell_type": "code",
      "metadata": {
        "colab": {
          "base_uri": "https://localhost:8080/",
          "height": 384
        },
        "id": "iYs-B7HrsdgK",
        "outputId": "3b255c7d-3922-439b-c6d2-b1de5ab670e2"
      },
      "source": [
        "N = 30\n",
        "x =  20 * (np.random.rand(N)) - 10\n",
        "print(x.shape)\n",
        "y = np.sin(x) + x + np.random.normal(x, 5, N)\n",
        "print(y.shape)\n",
        "\n",
        "# 2次元 * N個の観測データ\n",
        "D = np.concatenate([x[:, np.newaxis], y[:, np.newaxis]], axis=1)\n",
        "print(D[:5])\n",
        "\n",
        "plt.scatter(x,y)\n",
        "plt.show()"
      ],
      "id": "iYs-B7HrsdgK",
      "execution_count": 28,
      "outputs": [
        {
          "output_type": "stream",
          "text": [
            "(30,)\n",
            "(30,)\n",
            "[[ -6.39460622  -7.42225447]\n",
            " [ -9.61049517 -20.58422207]\n",
            " [ -0.73562947   1.4864482 ]\n",
            " [  4.49867858  15.76546462]\n",
            " [ -1.59592791  -1.04114092]]\n"
          ],
          "name": "stdout"
        },
        {
          "output_type": "display_data",
          "data": {
            "image/png": "[encoded data removed]",
            "text/plain": [
              "<Figure size 432x288 with 1 Axes>"
            ]
          },
          "metadata": {
            "tags": [],
            "needs_background": "light"
          }
        }
      ]
    },
    {
      "cell_type": "markdown",
      "metadata": {
        "id": "loozWH3HsdgL"
      },
      "source": [
        "## モデルのパラメータ$\\boldsymbol{a}$を推定する準備（変数をおく）\n",
        "$$ \\boldsymbol{x}_i = \\begin{pmatrix}\n",
        "    1\\\\\n",
        "    x_i\n",
        "    \\end{pmatrix}\n",
        "$$\n",
        "\n",
        "$$ \\boldsymbol{X} = \\begin{pmatrix}\n",
        "     \\boldsymbol{x_1}^T\\\\\n",
        "    \\boldsymbol{x_2}^T\\\\\n",
        "    \\vdots \\\\\n",
        "    \\boldsymbol{x_N}^T\n",
        "    \\end{pmatrix}\n",
        "$$\n",
        "\n",
        "$$\\boldsymbol{y} = \\begin{pmatrix}\n",
        "    y_1\\\\\n",
        "    y_2\\\\\n",
        "    \\vdots \\\\\n",
        "    y_N\n",
        "    \\end{pmatrix}\n",
        "$$"
      ],
      "id": "loozWH3HsdgL"
    },
    {
      "cell_type": "code",
      "metadata": {
        "colab": {
          "base_uri": "https://localhost:8080/"
        },
        "id": "4nyyIjezsdgM",
        "outputId": "7b49e429-aa8b-41dd-f8c9-c9f32b247b4d"
      },
      "source": [
        "#dataset D で用いた変数を使って，欲しい行列・ベクトルを新しく定義する\n",
        "# x(shape: (2, N)...これは(1,x_i)を並べた行列)\n",
        "one_mat = np.ones(N)\n",
        "#print(one_mat)\n",
        "#print(x)\n",
        "X = np.concatenate([one_mat[:, np.newaxis], x[:, np.newaxis]], axis=1)\n",
        "#print(x_i[:5])\n",
        "#X = [i.T for i in x_i] \n",
        "print(X[:5])\n",
        "# y（shape: (N,1)）になるようにshapeを整える）\n",
        "print(y.shape)\n",
        "y_reshaped = y.reshape([N, 1])\n",
        "print(y_reshaped[:5])"
      ],
      "id": "4nyyIjezsdgM",
      "execution_count": 29,
      "outputs": [
        {
          "output_type": "stream",
          "text": [
            "[[ 1.         -6.39460622]\n",
            " [ 1.         -9.61049517]\n",
            " [ 1.         -0.73562947]\n",
            " [ 1.          4.49867858]\n",
            " [ 1.         -1.59592791]]\n",
            "(30,)\n",
            "[[ -7.42225447]\n",
            " [-20.58422207]\n",
            " [  1.4864482 ]\n",
            " [ 15.76546462]\n",
            " [ -1.04114092]]\n"
          ],
          "name": "stdout"
        }
      ]
    },
    {
      "cell_type": "markdown",
      "metadata": {
        "id": "kEKi8ACksdgM"
      },
      "source": [
        "## モデルのパラメータ$\\boldsymbol{a}$を推定する\n",
        "$$\\boldsymbol{a}\n",
        "= \\begin{pmatrix}a_0\\\\a_1\\end{pmatrix}\n",
        "= (\\boldsymbol{X}^T\\boldsymbol{X})^{-1}\\boldsymbol{X}^T\\boldsymbol{y}$$"
      ],
      "id": "kEKi8ACksdgM"
    },
    {
      "cell_type": "code",
      "metadata": {
        "scrolled": true,
        "colab": {
          "base_uri": "https://localhost:8080/"
        },
        "id": "NrlrO7smsdgM",
        "outputId": "047cfcda-e689-479e-ab42-c68cf67bce7e"
      },
      "source": [
        "# @は内積の演算子， np.linalg.invは逆行列を計算してくれるライブラリ\n",
        "a = np.linalg.inv(X.T @ X) @ X.T @ y_reshaped\n",
        "print(a.shape)\n",
        "print(a)"
      ],
      "id": "NrlrO7smsdgM",
      "execution_count": 30,
      "outputs": [
        {
          "output_type": "stream",
          "text": [
            "(2, 1)\n",
            "[[-0.39537169]\n",
            " [ 1.93065404]]\n"
          ],
          "name": "stdout"
        }
      ]
    },
    {
      "cell_type": "markdown",
      "metadata": {
        "id": "dLQumPDdsdgN"
      },
      "source": [
        "## 推定したモデル$\\hat{y}$を描画する"
      ],
      "id": "dLQumPDdsdgN"
    },
    {
      "cell_type": "code",
      "metadata": {
        "scrolled": true,
        "colab": {
          "base_uri": "https://localhost:8080/"
        },
        "id": "-0aPuVFbsdgN",
        "outputId": "fa9476be-c332-4c8b-cec2-994783d35067"
      },
      "source": [
        "# (1, x_{new})が縦に並ぶ行列Xnewをつくる\n",
        "Nnew = 100\n",
        "x_new = 20 * (np.random.rand(Nnew)) - 10\n",
        "ones = np.ones(Nnew)\n",
        "Xnew = np.concatenate([ones[:, np.newaxis], x_new[:, np.newaxis]], axis=1)\n",
        "print(Xnew.shape)\n",
        "\n",
        "Y_hat = Xnew @ a\n",
        "print(Y_hat.shape)"
      ],
      "id": "-0aPuVFbsdgN",
      "execution_count": 32,
      "outputs": [
        {
          "output_type": "stream",
          "text": [
            "(100, 2)\n",
            "(100, 1)\n"
          ],
          "name": "stdout"
        }
      ]
    },
    {
      "cell_type": "markdown",
      "metadata": {
        "id": "1-Q9VU1_sdgN"
      },
      "source": [
        "## 観測データの分布上に学習したモデルをプロットする"
      ],
      "id": "1-Q9VU1_sdgN"
    },
    {
      "cell_type": "code",
      "metadata": {
        "scrolled": false,
        "colab": {
          "base_uri": "https://localhost:8080/",
          "height": 266
        },
        "id": "_yKWtowpsdgN",
        "outputId": "5e739897-013f-45ee-95d6-910a4d2295fd"
      },
      "source": [
        "plt.scatter(x,y)\n",
        "plt.plot(x_new, Y_hat, linewidth=3, color='orange')\n",
        "plt.show()"
      ],
      "id": "_yKWtowpsdgN",
      "execution_count": 33,
      "outputs": [
        {
          "output_type": "display_data",
          "data": {
            "image/png": "[encoded data removed]",
            "text/plain": [
              "<Figure size 432x288 with 1 Axes>"
            ]
          },
          "metadata": {
            "tags": [],
            "needs_background": "light"
          }
        }
      ]
    },
    {
      "cell_type": "code",
      "metadata": {
        "id": "Z_DhA-NU93_0"
      },
      "source": [
        ""
      ],
      "id": "Z_DhA-NU93_0",
      "execution_count": null,
      "outputs": []
    }
  ]
}